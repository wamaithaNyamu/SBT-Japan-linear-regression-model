{
  "nbformat": 4,
  "nbformat_minor": 0,
  "metadata": {
    "colab": {
      "name": "sbt_Japan_Linear_regression.ipynb",
      "provenance": [],
      "collapsed_sections": [
        "LmyShOWD-0bM",
        "Q_godWm5_vEN",
        "cf6UNnYh_NyE",
        "aA_gq8inJG3y",
        "_-565EeQ3I59",
        "PKc9WDpt3Y-K",
        "1P4nMjnB07PG",
        "o4Z8lzPK2z67",
        "QiCTo7EF6LYt",
        "IakGCmaXCX1d",
        "Ur66n1UQDXML",
        "tdCweq9oD6DC",
        "PJEbV1sDQHoi"
      ],
      "toc_visible": true
    },
    "kernelspec": {
      "name": "python3",
      "display_name": "Python 3"
    },
    "language_info": {
      "name": "python"
    }
  },
  "cells": [
    {
      "cell_type": "markdown",
      "source": [
        "This notebook covers the content on linear regression presented for the session held on linear regression to the Data Science East Africa community.\n",
        "\n",
        "The notebook uses data that was manually scrapped on sbtjapan.com using webscrapping for the vitz car.\n",
        "\n",
        "Goals :\n",
        "1. Data exploration\n",
        "2. Model building\n",
        "3. Parameter tuning and/or feature engineering\n",
        "  - Linear regression\n",
        "\n",
        "4. Saving the model\n",
        "5. Building an api to consume on the frontend \n",
        "6. Building a simple html page to query the model\n"
      ],
      "metadata": {
        "id": "5Hag0UVp4xQV"
      }
    },
    {
      "cell_type": "markdown",
      "source": [
        "# Load the data\n",
        "\n",
        "The data we saved from webscrapping is in a json file. "
      ],
      "metadata": {
        "id": "U0RublYB5hat"
      }
    },
    {
      "cell_type": "code",
      "execution_count": 2066,
      "metadata": {
        "id": "t7gKD39g3xLF"
      },
      "outputs": [],
      "source": [
        "#  import libraries\n",
        "import pandas as pd\n",
        "import numpy as np\n"
      ]
    },
    {
      "cell_type": "markdown",
      "source": [
        "Read the data using pandas. We use the records as our orient. The orient indicated the expected string format. The records means the data is in the form of a list as shown : \n",
        "\n",
        "```\n",
        "[{column -> value}, ... , {column -> value}]\n",
        "\n",
        "```\n",
        "\n",
        "You can read more on other compatible formats here : [Documentation](https://pandas.pydata.org/docs/reference/api/pandas.read_json.html)\n",
        "\n"
      ],
      "metadata": {
        "id": "9Yp0Cvg66Cx8"
      }
    },
    {
      "cell_type": "code",
      "source": [
        "df = pd.read_json(\"/content/final.json\", orient=\"records\")"
      ],
      "metadata": {
        "id": "lS-xd4Db38-6"
      },
      "execution_count": 2067,
      "outputs": []
    },
    {
      "cell_type": "code",
      "source": [
        "df.head().T"
      ],
      "metadata": {
        "colab": {
          "base_uri": "https://localhost:8080/",
          "height": 1000
        },
        "id": "pCFLswEE4DBr",
        "outputId": "43310aa9-af60-40a9-dfcc-a7388e163efd"
      },
      "execution_count": 2068,
      "outputs": [
        {
          "output_type": "execute_result",
          "data": {
            "text/plain": [
              "                                           0                     1  \\\n",
              "title                   TOYOTA VITZ 2017/7 F  TOYOTA VITZ 2017/6 F   \n",
              "Stock Id:                             AG3658                AO2321   \n",
              "Inventory Location:         Yokohama - Japan        Hakata - Japan   \n",
              "Model Code:                       DBA-KSP130            DBA-KSP130   \n",
              "Year:                                 2017/7                2017/6   \n",
              "Transmission:                             AT                    AT   \n",
              "Color:                                 Black               GRAY(D)   \n",
              "Drive:                                   2WD                   2WD   \n",
              "Door:                                      5                     5   \n",
              "Steering:                                RHD                   RHD   \n",
              "Seats:                                     5                         \n",
              "Engine Type:                             1KR                         \n",
              "Body Type:                         Hatchback             Hatchback   \n",
              "Engine Size:                           990cc               1,000cc   \n",
              "Mileage:                           102,000km             120,000km   \n",
              "Fuel:                                 PETROL                PETROL   \n",
              "Body Length:                           3.94m                   - m   \n",
              "Vehicle Weight:                        970kg                  - kg   \n",
              "Gross Vehicle Weight:                1,245kg                  - kg   \n",
              "Max Loading Capacity:                   - kg                  - kg   \n",
              "Air Bag                                  1.0                   1.0   \n",
              "Anti-Lock Brake System                   1.0                   1.0   \n",
              "Air Conditioner                          1.0                   1.0   \n",
              "Navigation                               1.0                   1.0   \n",
              "Power Steering                           1.0                   1.0   \n",
              "Power Windows                            1.0                   1.0   \n",
              "price                              USD 6,343             USD 6,595   \n",
              "Model:                                   NaN                   NaN   \n",
              "Registration Year:                       NaN                   NaN   \n",
              "Model Year:                              NaN                   NaN   \n",
              "Seating Capacity:                        NaN                   NaN   \n",
              "Chassis Number                           NaN                   NaN   \n",
              "Navigation System                        NaN                   NaN   \n",
              "TV                                       NaN                   NaN   \n",
              "Dual Air Bags                            NaN                   NaN   \n",
              "Anti-Lock Brake                          NaN                   NaN   \n",
              "CD                                       NaN                   NaN   \n",
              "Back Camera                              NaN                   NaN   \n",
              "Key Less Entry                           NaN                   NaN   \n",
              "Alloy Wheels                             NaN                   NaN   \n",
              "Fog Lights                               NaN                   NaN   \n",
              "Auto Air Conditioner                     NaN                   NaN   \n",
              "Aero                                     NaN                   NaN   \n",
              "HID                                      NaN                   NaN   \n",
              "Centralized Door Lock                    NaN                   NaN   \n",
              "Push Start                               NaN                   NaN   \n",
              "Spare Key                                NaN                   NaN   \n",
              "LED                                      NaN                   NaN   \n",
              "Steering Switch                          NaN                   NaN   \n",
              "\n",
              "                                                2                     3  \\\n",
              "title                   TOYOTA VITZ 2016/1 JEWELA  TOYOTA VITZ 2016/6 F   \n",
              "Stock Id:                                  BL2723                CC5205   \n",
              "Inventory Location:                Hakata - Japan          Kobe - Japan   \n",
              "Model Code:                            DBA-NSP130            DBA-KSP130   \n",
              "Year:                                      2016/1                2016/6   \n",
              "Transmission:                                  AT                    AT   \n",
              "Color:                                       Wine                 White   \n",
              "Drive:                                        2WD                   2WD   \n",
              "Door:                                           5                     5   \n",
              "Steering:                                     RHD                   RHD   \n",
              "Seats:                                          5                     5   \n",
              "Engine Type:                                  1NR                   1KR   \n",
              "Body Type:                              Hatchback             Hatchback   \n",
              "Engine Size:                              1,320cc                 990cc   \n",
              "Mileage:                                 98,000km             114,000km   \n",
              "Fuel:                                      PETROL                PETROL   \n",
              "Body Length:                                3.88m                 3.88m   \n",
              "Vehicle Weight:                           1,010kg                 970kg   \n",
              "Gross Vehicle Weight:                     1,285kg               1,245kg   \n",
              "Max Loading Capacity:                        - kg                  - kg   \n",
              "Air Bag                                       1.0                   1.0   \n",
              "Anti-Lock Brake System                        1.0                   1.0   \n",
              "Air Conditioner                               1.0                   1.0   \n",
              "Navigation                                    NaN                   1.0   \n",
              "Power Steering                                1.0                   1.0   \n",
              "Power Windows                                 1.0                   1.0   \n",
              "price                                   USD 6,171             USD 5,474   \n",
              "Model:                                        NaN                   NaN   \n",
              "Registration Year:                            NaN                   NaN   \n",
              "Model Year:                                   NaN                   NaN   \n",
              "Seating Capacity:                             NaN                   NaN   \n",
              "Chassis Number                                NaN                   NaN   \n",
              "Navigation System                             NaN                   NaN   \n",
              "TV                                            NaN                   NaN   \n",
              "Dual Air Bags                                 NaN                   NaN   \n",
              "Anti-Lock Brake                               NaN                   NaN   \n",
              "CD                                            NaN                   NaN   \n",
              "Back Camera                                   NaN                   NaN   \n",
              "Key Less Entry                                NaN                   NaN   \n",
              "Alloy Wheels                                  NaN                   NaN   \n",
              "Fog Lights                                    NaN                   NaN   \n",
              "Auto Air Conditioner                          NaN                   NaN   \n",
              "Aero                                          NaN                   NaN   \n",
              "HID                                           NaN                   NaN   \n",
              "Centralized Door Lock                         NaN                   NaN   \n",
              "Push Start                                    NaN                   NaN   \n",
              "Spare Key                                     NaN                   NaN   \n",
              "LED                                           NaN                   NaN   \n",
              "Steering Switch                               NaN                   NaN   \n",
              "\n",
              "                                                       4  \n",
              "title                   TOYOTA VITZ 2016/9 F LED EDITION  \n",
              "Stock Id:                                         CC5565  \n",
              "Inventory Location:                       Hakata - Japan  \n",
              "Model Code:                                   DBA-NSP130  \n",
              "Year:                                             2016/9  \n",
              "Transmission:                                         AT  \n",
              "Color:                                             Pearl  \n",
              "Drive:                                               2WD  \n",
              "Door:                                                  5  \n",
              "Steering:                                            RHD  \n",
              "Seats:                                                 5  \n",
              "Engine Type:                                         1NR  \n",
              "Body Type:                                     Hatchback  \n",
              "Engine Size:                                     1,320cc  \n",
              "Mileage:                                       143,000km  \n",
              "Fuel:                                             PETROL  \n",
              "Body Length:                                       3.88m  \n",
              "Vehicle Weight:                                  1,000kg  \n",
              "Gross Vehicle Weight:                            1,275kg  \n",
              "Max Loading Capacity:                               - kg  \n",
              "Air Bag                                              1.0  \n",
              "Anti-Lock Brake System                               1.0  \n",
              "Air Conditioner                                      1.0  \n",
              "Navigation                                           1.0  \n",
              "Power Steering                                       1.0  \n",
              "Power Windows                                        1.0  \n",
              "price                                          USD 6,747  \n",
              "Model:                                               NaN  \n",
              "Registration Year:                                   NaN  \n",
              "Model Year:                                          NaN  \n",
              "Seating Capacity:                                    NaN  \n",
              "Chassis Number                                       NaN  \n",
              "Navigation System                                    NaN  \n",
              "TV                                                   NaN  \n",
              "Dual Air Bags                                        NaN  \n",
              "Anti-Lock Brake                                      NaN  \n",
              "CD                                                   NaN  \n",
              "Back Camera                                          NaN  \n",
              "Key Less Entry                                       NaN  \n",
              "Alloy Wheels                                         NaN  \n",
              "Fog Lights                                           NaN  \n",
              "Auto Air Conditioner                                 NaN  \n",
              "Aero                                                 NaN  \n",
              "HID                                                  NaN  \n",
              "Centralized Door Lock                                NaN  \n",
              "Push Start                                           NaN  \n",
              "Spare Key                                            NaN  \n",
              "LED                                                  NaN  \n",
              "Steering Switch                                      NaN  "
            ],
            "text/html": [
              "\n",
              "  <div id=\"df-a048a954-d1d2-4360-ae84-abac860da426\">\n",
              "    <div class=\"colab-df-container\">\n",
              "      <div>\n",
              "<style scoped>\n",
              "    .dataframe tbody tr th:only-of-type {\n",
              "        vertical-align: middle;\n",
              "    }\n",
              "\n",
              "    .dataframe tbody tr th {\n",
              "        vertical-align: top;\n",
              "    }\n",
              "\n",
              "    .dataframe thead th {\n",
              "        text-align: right;\n",
              "    }\n",
              "</style>\n",
              "<table border=\"1\" class=\"dataframe\">\n",
              "  <thead>\n",
              "    <tr style=\"text-align: right;\">\n",
              "      <th></th>\n",
              "      <th>0</th>\n",
              "      <th>1</th>\n",
              "      <th>2</th>\n",
              "      <th>3</th>\n",
              "      <th>4</th>\n",
              "    </tr>\n",
              "  </thead>\n",
              "  <tbody>\n",
              "    <tr>\n",
              "      <th>title</th>\n",
              "      <td>TOYOTA VITZ 2017/7 F</td>\n",
              "      <td>TOYOTA VITZ 2017/6 F</td>\n",
              "      <td>TOYOTA VITZ 2016/1 JEWELA</td>\n",
              "      <td>TOYOTA VITZ 2016/6 F</td>\n",
              "      <td>TOYOTA VITZ 2016/9 F LED EDITION</td>\n",
              "    </tr>\n",
              "    <tr>\n",
              "      <th>Stock Id:</th>\n",
              "      <td>AG3658</td>\n",
              "      <td>AO2321</td>\n",
              "      <td>BL2723</td>\n",
              "      <td>CC5205</td>\n",
              "      <td>CC5565</td>\n",
              "    </tr>\n",
              "    <tr>\n",
              "      <th>Inventory Location:</th>\n",
              "      <td>Yokohama - Japan</td>\n",
              "      <td>Hakata - Japan</td>\n",
              "      <td>Hakata - Japan</td>\n",
              "      <td>Kobe - Japan</td>\n",
              "      <td>Hakata - Japan</td>\n",
              "    </tr>\n",
              "    <tr>\n",
              "      <th>Model Code:</th>\n",
              "      <td>DBA-KSP130</td>\n",
              "      <td>DBA-KSP130</td>\n",
              "      <td>DBA-NSP130</td>\n",
              "      <td>DBA-KSP130</td>\n",
              "      <td>DBA-NSP130</td>\n",
              "    </tr>\n",
              "    <tr>\n",
              "      <th>Year:</th>\n",
              "      <td>2017/7</td>\n",
              "      <td>2017/6</td>\n",
              "      <td>2016/1</td>\n",
              "      <td>2016/6</td>\n",
              "      <td>2016/9</td>\n",
              "    </tr>\n",
              "    <tr>\n",
              "      <th>Transmission:</th>\n",
              "      <td>AT</td>\n",
              "      <td>AT</td>\n",
              "      <td>AT</td>\n",
              "      <td>AT</td>\n",
              "      <td>AT</td>\n",
              "    </tr>\n",
              "    <tr>\n",
              "      <th>Color:</th>\n",
              "      <td>Black</td>\n",
              "      <td>GRAY(D)</td>\n",
              "      <td>Wine</td>\n",
              "      <td>White</td>\n",
              "      <td>Pearl</td>\n",
              "    </tr>\n",
              "    <tr>\n",
              "      <th>Drive:</th>\n",
              "      <td>2WD</td>\n",
              "      <td>2WD</td>\n",
              "      <td>2WD</td>\n",
              "      <td>2WD</td>\n",
              "      <td>2WD</td>\n",
              "    </tr>\n",
              "    <tr>\n",
              "      <th>Door:</th>\n",
              "      <td>5</td>\n",
              "      <td>5</td>\n",
              "      <td>5</td>\n",
              "      <td>5</td>\n",
              "      <td>5</td>\n",
              "    </tr>\n",
              "    <tr>\n",
              "      <th>Steering:</th>\n",
              "      <td>RHD</td>\n",
              "      <td>RHD</td>\n",
              "      <td>RHD</td>\n",
              "      <td>RHD</td>\n",
              "      <td>RHD</td>\n",
              "    </tr>\n",
              "    <tr>\n",
              "      <th>Seats:</th>\n",
              "      <td>5</td>\n",
              "      <td></td>\n",
              "      <td>5</td>\n",
              "      <td>5</td>\n",
              "      <td>5</td>\n",
              "    </tr>\n",
              "    <tr>\n",
              "      <th>Engine Type:</th>\n",
              "      <td>1KR</td>\n",
              "      <td></td>\n",
              "      <td>1NR</td>\n",
              "      <td>1KR</td>\n",
              "      <td>1NR</td>\n",
              "    </tr>\n",
              "    <tr>\n",
              "      <th>Body Type:</th>\n",
              "      <td>Hatchback</td>\n",
              "      <td>Hatchback</td>\n",
              "      <td>Hatchback</td>\n",
              "      <td>Hatchback</td>\n",
              "      <td>Hatchback</td>\n",
              "    </tr>\n",
              "    <tr>\n",
              "      <th>Engine Size:</th>\n",
              "      <td>990cc</td>\n",
              "      <td>1,000cc</td>\n",
              "      <td>1,320cc</td>\n",
              "      <td>990cc</td>\n",
              "      <td>1,320cc</td>\n",
              "    </tr>\n",
              "    <tr>\n",
              "      <th>Mileage:</th>\n",
              "      <td>102,000km</td>\n",
              "      <td>120,000km</td>\n",
              "      <td>98,000km</td>\n",
              "      <td>114,000km</td>\n",
              "      <td>143,000km</td>\n",
              "    </tr>\n",
              "    <tr>\n",
              "      <th>Fuel:</th>\n",
              "      <td>PETROL</td>\n",
              "      <td>PETROL</td>\n",
              "      <td>PETROL</td>\n",
              "      <td>PETROL</td>\n",
              "      <td>PETROL</td>\n",
              "    </tr>\n",
              "    <tr>\n",
              "      <th>Body Length:</th>\n",
              "      <td>3.94m</td>\n",
              "      <td>- m</td>\n",
              "      <td>3.88m</td>\n",
              "      <td>3.88m</td>\n",
              "      <td>3.88m</td>\n",
              "    </tr>\n",
              "    <tr>\n",
              "      <th>Vehicle Weight:</th>\n",
              "      <td>970kg</td>\n",
              "      <td>- kg</td>\n",
              "      <td>1,010kg</td>\n",
              "      <td>970kg</td>\n",
              "      <td>1,000kg</td>\n",
              "    </tr>\n",
              "    <tr>\n",
              "      <th>Gross Vehicle Weight:</th>\n",
              "      <td>1,245kg</td>\n",
              "      <td>- kg</td>\n",
              "      <td>1,285kg</td>\n",
              "      <td>1,245kg</td>\n",
              "      <td>1,275kg</td>\n",
              "    </tr>\n",
              "    <tr>\n",
              "      <th>Max Loading Capacity:</th>\n",
              "      <td>- kg</td>\n",
              "      <td>- kg</td>\n",
              "      <td>- kg</td>\n",
              "      <td>- kg</td>\n",
              "      <td>- kg</td>\n",
              "    </tr>\n",
              "    <tr>\n",
              "      <th>Air Bag</th>\n",
              "      <td>1.0</td>\n",
              "      <td>1.0</td>\n",
              "      <td>1.0</td>\n",
              "      <td>1.0</td>\n",
              "      <td>1.0</td>\n",
              "    </tr>\n",
              "    <tr>\n",
              "      <th>Anti-Lock Brake System</th>\n",
              "      <td>1.0</td>\n",
              "      <td>1.0</td>\n",
              "      <td>1.0</td>\n",
              "      <td>1.0</td>\n",
              "      <td>1.0</td>\n",
              "    </tr>\n",
              "    <tr>\n",
              "      <th>Air Conditioner</th>\n",
              "      <td>1.0</td>\n",
              "      <td>1.0</td>\n",
              "      <td>1.0</td>\n",
              "      <td>1.0</td>\n",
              "      <td>1.0</td>\n",
              "    </tr>\n",
              "    <tr>\n",
              "      <th>Navigation</th>\n",
              "      <td>1.0</td>\n",
              "      <td>1.0</td>\n",
              "      <td>NaN</td>\n",
              "      <td>1.0</td>\n",
              "      <td>1.0</td>\n",
              "    </tr>\n",
              "    <tr>\n",
              "      <th>Power Steering</th>\n",
              "      <td>1.0</td>\n",
              "      <td>1.0</td>\n",
              "      <td>1.0</td>\n",
              "      <td>1.0</td>\n",
              "      <td>1.0</td>\n",
              "    </tr>\n",
              "    <tr>\n",
              "      <th>Power Windows</th>\n",
              "      <td>1.0</td>\n",
              "      <td>1.0</td>\n",
              "      <td>1.0</td>\n",
              "      <td>1.0</td>\n",
              "      <td>1.0</td>\n",
              "    </tr>\n",
              "    <tr>\n",
              "      <th>price</th>\n",
              "      <td>USD 6,343</td>\n",
              "      <td>USD 6,595</td>\n",
              "      <td>USD 6,171</td>\n",
              "      <td>USD 5,474</td>\n",
              "      <td>USD 6,747</td>\n",
              "    </tr>\n",
              "    <tr>\n",
              "      <th>Model:</th>\n",
              "      <td>NaN</td>\n",
              "      <td>NaN</td>\n",
              "      <td>NaN</td>\n",
              "      <td>NaN</td>\n",
              "      <td>NaN</td>\n",
              "    </tr>\n",
              "    <tr>\n",
              "      <th>Registration Year:</th>\n",
              "      <td>NaN</td>\n",
              "      <td>NaN</td>\n",
              "      <td>NaN</td>\n",
              "      <td>NaN</td>\n",
              "      <td>NaN</td>\n",
              "    </tr>\n",
              "    <tr>\n",
              "      <th>Model Year:</th>\n",
              "      <td>NaN</td>\n",
              "      <td>NaN</td>\n",
              "      <td>NaN</td>\n",
              "      <td>NaN</td>\n",
              "      <td>NaN</td>\n",
              "    </tr>\n",
              "    <tr>\n",
              "      <th>Seating Capacity:</th>\n",
              "      <td>NaN</td>\n",
              "      <td>NaN</td>\n",
              "      <td>NaN</td>\n",
              "      <td>NaN</td>\n",
              "      <td>NaN</td>\n",
              "    </tr>\n",
              "    <tr>\n",
              "      <th>Chassis Number</th>\n",
              "      <td>NaN</td>\n",
              "      <td>NaN</td>\n",
              "      <td>NaN</td>\n",
              "      <td>NaN</td>\n",
              "      <td>NaN</td>\n",
              "    </tr>\n",
              "    <tr>\n",
              "      <th>Navigation System</th>\n",
              "      <td>NaN</td>\n",
              "      <td>NaN</td>\n",
              "      <td>NaN</td>\n",
              "      <td>NaN</td>\n",
              "      <td>NaN</td>\n",
              "    </tr>\n",
              "    <tr>\n",
              "      <th>TV</th>\n",
              "      <td>NaN</td>\n",
              "      <td>NaN</td>\n",
              "      <td>NaN</td>\n",
              "      <td>NaN</td>\n",
              "      <td>NaN</td>\n",
              "    </tr>\n",
              "    <tr>\n",
              "      <th>Dual Air Bags</th>\n",
              "      <td>NaN</td>\n",
              "      <td>NaN</td>\n",
              "      <td>NaN</td>\n",
              "      <td>NaN</td>\n",
              "      <td>NaN</td>\n",
              "    </tr>\n",
              "    <tr>\n",
              "      <th>Anti-Lock Brake</th>\n",
              "      <td>NaN</td>\n",
              "      <td>NaN</td>\n",
              "      <td>NaN</td>\n",
              "      <td>NaN</td>\n",
              "      <td>NaN</td>\n",
              "    </tr>\n",
              "    <tr>\n",
              "      <th>CD</th>\n",
              "      <td>NaN</td>\n",
              "      <td>NaN</td>\n",
              "      <td>NaN</td>\n",
              "      <td>NaN</td>\n",
              "      <td>NaN</td>\n",
              "    </tr>\n",
              "    <tr>\n",
              "      <th>Back Camera</th>\n",
              "      <td>NaN</td>\n",
              "      <td>NaN</td>\n",
              "      <td>NaN</td>\n",
              "      <td>NaN</td>\n",
              "      <td>NaN</td>\n",
              "    </tr>\n",
              "    <tr>\n",
              "      <th>Key Less Entry</th>\n",
              "      <td>NaN</td>\n",
              "      <td>NaN</td>\n",
              "      <td>NaN</td>\n",
              "      <td>NaN</td>\n",
              "      <td>NaN</td>\n",
              "    </tr>\n",
              "    <tr>\n",
              "      <th>Alloy Wheels</th>\n",
              "      <td>NaN</td>\n",
              "      <td>NaN</td>\n",
              "      <td>NaN</td>\n",
              "      <td>NaN</td>\n",
              "      <td>NaN</td>\n",
              "    </tr>\n",
              "    <tr>\n",
              "      <th>Fog Lights</th>\n",
              "      <td>NaN</td>\n",
              "      <td>NaN</td>\n",
              "      <td>NaN</td>\n",
              "      <td>NaN</td>\n",
              "      <td>NaN</td>\n",
              "    </tr>\n",
              "    <tr>\n",
              "      <th>Auto Air Conditioner</th>\n",
              "      <td>NaN</td>\n",
              "      <td>NaN</td>\n",
              "      <td>NaN</td>\n",
              "      <td>NaN</td>\n",
              "      <td>NaN</td>\n",
              "    </tr>\n",
              "    <tr>\n",
              "      <th>Aero</th>\n",
              "      <td>NaN</td>\n",
              "      <td>NaN</td>\n",
              "      <td>NaN</td>\n",
              "      <td>NaN</td>\n",
              "      <td>NaN</td>\n",
              "    </tr>\n",
              "    <tr>\n",
              "      <th>HID</th>\n",
              "      <td>NaN</td>\n",
              "      <td>NaN</td>\n",
              "      <td>NaN</td>\n",
              "      <td>NaN</td>\n",
              "      <td>NaN</td>\n",
              "    </tr>\n",
              "    <tr>\n",
              "      <th>Centralized Door Lock</th>\n",
              "      <td>NaN</td>\n",
              "      <td>NaN</td>\n",
              "      <td>NaN</td>\n",
              "      <td>NaN</td>\n",
              "      <td>NaN</td>\n",
              "    </tr>\n",
              "    <tr>\n",
              "      <th>Push Start</th>\n",
              "      <td>NaN</td>\n",
              "      <td>NaN</td>\n",
              "      <td>NaN</td>\n",
              "      <td>NaN</td>\n",
              "      <td>NaN</td>\n",
              "    </tr>\n",
              "    <tr>\n",
              "      <th>Spare Key</th>\n",
              "      <td>NaN</td>\n",
              "      <td>NaN</td>\n",
              "      <td>NaN</td>\n",
              "      <td>NaN</td>\n",
              "      <td>NaN</td>\n",
              "    </tr>\n",
              "    <tr>\n",
              "      <th>LED</th>\n",
              "      <td>NaN</td>\n",
              "      <td>NaN</td>\n",
              "      <td>NaN</td>\n",
              "      <td>NaN</td>\n",
              "      <td>NaN</td>\n",
              "    </tr>\n",
              "    <tr>\n",
              "      <th>Steering Switch</th>\n",
              "      <td>NaN</td>\n",
              "      <td>NaN</td>\n",
              "      <td>NaN</td>\n",
              "      <td>NaN</td>\n",
              "      <td>NaN</td>\n",
              "    </tr>\n",
              "  </tbody>\n",
              "</table>\n",
              "</div>\n",
              "      <button class=\"colab-df-convert\" onclick=\"convertToInteractive('df-a048a954-d1d2-4360-ae84-abac860da426')\"\n",
              "              title=\"Convert this dataframe to an interactive table.\"\n",
              "              style=\"display:none;\">\n",
              "        \n",
              "  <svg xmlns=\"http://www.w3.org/2000/svg\" height=\"24px\"viewBox=\"0 0 24 24\"\n",
              "       width=\"24px\">\n",
              "    <path d=\"M0 0h24v24H0V0z\" fill=\"none\"/>\n",
              "    <path d=\"M18.56 5.44l.94 2.06.94-2.06 2.06-.94-2.06-.94-.94-2.06-.94 2.06-2.06.94zm-11 1L8.5 8.5l.94-2.06 2.06-.94-2.06-.94L8.5 2.5l-.94 2.06-2.06.94zm10 10l.94 2.06.94-2.06 2.06-.94-2.06-.94-.94-2.06-.94 2.06-2.06.94z\"/><path d=\"M17.41 7.96l-1.37-1.37c-.4-.4-.92-.59-1.43-.59-.52 0-1.04.2-1.43.59L10.3 9.45l-7.72 7.72c-.78.78-.78 2.05 0 2.83L4 21.41c.39.39.9.59 1.41.59.51 0 1.02-.2 1.41-.59l7.78-7.78 2.81-2.81c.8-.78.8-2.07 0-2.86zM5.41 20L4 18.59l7.72-7.72 1.47 1.35L5.41 20z\"/>\n",
              "  </svg>\n",
              "      </button>\n",
              "      \n",
              "  <style>\n",
              "    .colab-df-container {\n",
              "      display:flex;\n",
              "      flex-wrap:wrap;\n",
              "      gap: 12px;\n",
              "    }\n",
              "\n",
              "    .colab-df-convert {\n",
              "      background-color: #E8F0FE;\n",
              "      border: none;\n",
              "      border-radius: 50%;\n",
              "      cursor: pointer;\n",
              "      display: none;\n",
              "      fill: #1967D2;\n",
              "      height: 32px;\n",
              "      padding: 0 0 0 0;\n",
              "      width: 32px;\n",
              "    }\n",
              "\n",
              "    .colab-df-convert:hover {\n",
              "      background-color: #E2EBFA;\n",
              "      box-shadow: 0px 1px 2px rgba(60, 64, 67, 0.3), 0px 1px 3px 1px rgba(60, 64, 67, 0.15);\n",
              "      fill: #174EA6;\n",
              "    }\n",
              "\n",
              "    [theme=dark] .colab-df-convert {\n",
              "      background-color: #3B4455;\n",
              "      fill: #D2E3FC;\n",
              "    }\n",
              "\n",
              "    [theme=dark] .colab-df-convert:hover {\n",
              "      background-color: #434B5C;\n",
              "      box-shadow: 0px 1px 3px 1px rgba(0, 0, 0, 0.15);\n",
              "      filter: drop-shadow(0px 1px 2px rgba(0, 0, 0, 0.3));\n",
              "      fill: #FFFFFF;\n",
              "    }\n",
              "  </style>\n",
              "\n",
              "      <script>\n",
              "        const buttonEl =\n",
              "          document.querySelector('#df-a048a954-d1d2-4360-ae84-abac860da426 button.colab-df-convert');\n",
              "        buttonEl.style.display =\n",
              "          google.colab.kernel.accessAllowed ? 'block' : 'none';\n",
              "\n",
              "        async function convertToInteractive(key) {\n",
              "          const element = document.querySelector('#df-a048a954-d1d2-4360-ae84-abac860da426');\n",
              "          const dataTable =\n",
              "            await google.colab.kernel.invokeFunction('convertToInteractive',\n",
              "                                                     [key], {});\n",
              "          if (!dataTable) return;\n",
              "\n",
              "          const docLinkHtml = 'Like what you see? Visit the ' +\n",
              "            '<a target=\"_blank\" href=https://colab.research.google.com/notebooks/data_table.ipynb>data table notebook</a>'\n",
              "            + ' to learn more about interactive tables.';\n",
              "          element.innerHTML = '';\n",
              "          dataTable['output_type'] = 'display_data';\n",
              "          await google.colab.output.renderOutput(dataTable, element);\n",
              "          const docLink = document.createElement('div');\n",
              "          docLink.innerHTML = docLinkHtml;\n",
              "          element.appendChild(docLink);\n",
              "        }\n",
              "      </script>\n",
              "    </div>\n",
              "  </div>\n",
              "  "
            ]
          },
          "metadata": {},
          "execution_count": 2068
        }
      ]
    },
    {
      "cell_type": "code",
      "source": [
        "df.info()"
      ],
      "metadata": {
        "colab": {
          "base_uri": "https://localhost:8080/"
        },
        "id": "_NdIB5zQ4D8L",
        "outputId": "727ce03a-0acc-4ce4-c481-830585e4cbb0"
      },
      "execution_count": 2069,
      "outputs": [
        {
          "output_type": "stream",
          "name": "stdout",
          "text": [
            "<class 'pandas.core.frame.DataFrame'>\n",
            "RangeIndex: 252 entries, 0 to 251\n",
            "Data columns (total 49 columns):\n",
            " #   Column                  Non-Null Count  Dtype  \n",
            "---  ------                  --------------  -----  \n",
            " 0   title                   252 non-null    object \n",
            " 1   Stock Id:               252 non-null    object \n",
            " 2   Inventory Location:     252 non-null    object \n",
            " 3   Model Code:             45 non-null     object \n",
            " 4   Year:                   45 non-null     object \n",
            " 5   Transmission:           252 non-null    object \n",
            " 6   Color:                  252 non-null    object \n",
            " 7   Drive:                  252 non-null    object \n",
            " 8   Door:                   252 non-null    object \n",
            " 9   Steering:               252 non-null    object \n",
            " 10  Seats:                  45 non-null     object \n",
            " 11  Engine Type:            45 non-null     object \n",
            " 12  Body Type:              252 non-null    object \n",
            " 13  Engine Size:            252 non-null    object \n",
            " 14  Mileage:                252 non-null    object \n",
            " 15  Fuel:                   252 non-null    object \n",
            " 16  Body Length:            45 non-null     object \n",
            " 17  Vehicle Weight:         45 non-null     object \n",
            " 18  Gross Vehicle Weight:   45 non-null     object \n",
            " 19  Max Loading Capacity:   45 non-null     object \n",
            " 20  Air Bag                 218 non-null    float64\n",
            " 21  Anti-Lock Brake System  45 non-null     float64\n",
            " 22  Air Conditioner         237 non-null    float64\n",
            " 23  Navigation              41 non-null     float64\n",
            " 24  Power Steering          248 non-null    float64\n",
            " 25  Power Windows           248 non-null    float64\n",
            " 26  price                   252 non-null    object \n",
            " 27  Model:                  207 non-null    object \n",
            " 28  Registration Year:      207 non-null    object \n",
            " 29  Model Year:             207 non-null    object \n",
            " 30  Seating Capacity:       207 non-null    object \n",
            " 31  Chassis Number          207 non-null    object \n",
            " 32  Navigation System       144 non-null    float64\n",
            " 33  TV                      95 non-null     float64\n",
            " 34  Dual Air Bags           166 non-null    float64\n",
            " 35  Anti-Lock Brake         199 non-null    float64\n",
            " 36  CD                      132 non-null    float64\n",
            " 37  Back Camera             96 non-null     float64\n",
            " 38  Key Less Entry          177 non-null    float64\n",
            " 39  Alloy Wheels            35 non-null     float64\n",
            " 40  Fog Lights              5 non-null      float64\n",
            " 41  Auto Air Conditioner    6 non-null      float64\n",
            " 42  Aero                    6 non-null      float64\n",
            " 43  HID                     3 non-null      float64\n",
            " 44  Centralized Door Lock   2 non-null      float64\n",
            " 45  Push Start              2 non-null      float64\n",
            " 46  Spare Key               2 non-null      float64\n",
            " 47  LED                     1 non-null      float64\n",
            " 48  Steering Switch         1 non-null      float64\n",
            "dtypes: float64(23), object(26)\n",
            "memory usage: 96.6+ KB\n"
          ]
        }
      ]
    },
    {
      "cell_type": "markdown",
      "source": [
        "We have a total of 238 items on the dataset with 48 features. \n",
        "\n",
        "The summary given above shows that some columns have categorical data while others have a mix of categorical and numeric.\n",
        "\n"
      ],
      "metadata": {
        "id": "SnaRIBbQ6sgE"
      }
    },
    {
      "cell_type": "markdown",
      "source": [
        "# Exploratory Data Analysis (EDA)\n",
        "\n",
        "With a general overview of the dataset, we can now go deeper and explore the dataset"
      ],
      "metadata": {
        "id": "LlRNyoRI8cBV"
      }
    },
    {
      "cell_type": "markdown",
      "source": [
        "From the summary we got, it is clear that the dataset has very many null values. We need to figure out how to go about this.\n"
      ],
      "metadata": {
        "id": "Q6sQSTtz81n4"
      }
    },
    {
      "cell_type": "markdown",
      "source": [
        "\n",
        "## Numeric features dealing with null values\n",
        "Starting with the columns that have numeric features : "
      ],
      "metadata": {
        "id": "LmyShOWD-0bM"
      }
    },
    {
      "cell_type": "code",
      "source": [
        "numeric_features = df.select_dtypes(include=[np.number])\n",
        "numeric_features.columns"
      ],
      "metadata": {
        "colab": {
          "base_uri": "https://localhost:8080/"
        },
        "id": "kiElBudA4aMk",
        "outputId": "c9307a35-1bd9-406e-c2f3-55179e18b428"
      },
      "execution_count": 2070,
      "outputs": [
        {
          "output_type": "execute_result",
          "data": {
            "text/plain": [
              "Index(['Air Bag', 'Anti-Lock Brake System', 'Air Conditioner', 'Navigation',\n",
              "       'Power Steering', 'Power Windows', 'Navigation System', 'TV',\n",
              "       'Dual Air Bags', 'Anti-Lock Brake', 'CD', 'Back Camera',\n",
              "       'Key Less Entry', 'Alloy Wheels', 'Fog Lights', 'Auto Air Conditioner',\n",
              "       'Aero', 'HID', 'Centralized Door Lock', 'Push Start', 'Spare Key',\n",
              "       'LED', 'Steering Switch'],\n",
              "      dtype='object')"
            ]
          },
          "metadata": {},
          "execution_count": 2070
        }
      ]
    },
    {
      "cell_type": "code",
      "source": [
        "numeric_features.head()"
      ],
      "metadata": {
        "colab": {
          "base_uri": "https://localhost:8080/",
          "height": 297
        },
        "id": "MZaXijz77sKu",
        "outputId": "f1aeb0ce-2d68-4d15-a937-f01adbde69f2"
      },
      "execution_count": 2071,
      "outputs": [
        {
          "output_type": "execute_result",
          "data": {
            "text/plain": [
              "   Air Bag  Anti-Lock Brake System  Air Conditioner  Navigation  \\\n",
              "0      1.0                     1.0              1.0         1.0   \n",
              "1      1.0                     1.0              1.0         1.0   \n",
              "2      1.0                     1.0              1.0         NaN   \n",
              "3      1.0                     1.0              1.0         1.0   \n",
              "4      1.0                     1.0              1.0         1.0   \n",
              "\n",
              "   Power Steering  Power Windows  Navigation System  TV  Dual Air Bags  \\\n",
              "0             1.0            1.0                NaN NaN            NaN   \n",
              "1             1.0            1.0                NaN NaN            NaN   \n",
              "2             1.0            1.0                NaN NaN            NaN   \n",
              "3             1.0            1.0                NaN NaN            NaN   \n",
              "4             1.0            1.0                NaN NaN            NaN   \n",
              "\n",
              "   Anti-Lock Brake  ...  Alloy Wheels  Fog Lights  Auto Air Conditioner  Aero  \\\n",
              "0              NaN  ...           NaN         NaN                   NaN   NaN   \n",
              "1              NaN  ...           NaN         NaN                   NaN   NaN   \n",
              "2              NaN  ...           NaN         NaN                   NaN   NaN   \n",
              "3              NaN  ...           NaN         NaN                   NaN   NaN   \n",
              "4              NaN  ...           NaN         NaN                   NaN   NaN   \n",
              "\n",
              "   HID  Centralized Door Lock  Push Start  Spare Key  LED  Steering Switch  \n",
              "0  NaN                    NaN         NaN        NaN  NaN              NaN  \n",
              "1  NaN                    NaN         NaN        NaN  NaN              NaN  \n",
              "2  NaN                    NaN         NaN        NaN  NaN              NaN  \n",
              "3  NaN                    NaN         NaN        NaN  NaN              NaN  \n",
              "4  NaN                    NaN         NaN        NaN  NaN              NaN  \n",
              "\n",
              "[5 rows x 23 columns]"
            ],
            "text/html": [
              "\n",
              "  <div id=\"df-43c028df-0e9c-4e44-b490-3cc5bdf4012d\">\n",
              "    <div class=\"colab-df-container\">\n",
              "      <div>\n",
              "<style scoped>\n",
              "    .dataframe tbody tr th:only-of-type {\n",
              "        vertical-align: middle;\n",
              "    }\n",
              "\n",
              "    .dataframe tbody tr th {\n",
              "        vertical-align: top;\n",
              "    }\n",
              "\n",
              "    .dataframe thead th {\n",
              "        text-align: right;\n",
              "    }\n",
              "</style>\n",
              "<table border=\"1\" class=\"dataframe\">\n",
              "  <thead>\n",
              "    <tr style=\"text-align: right;\">\n",
              "      <th></th>\n",
              "      <th>Air Bag</th>\n",
              "      <th>Anti-Lock Brake System</th>\n",
              "      <th>Air Conditioner</th>\n",
              "      <th>Navigation</th>\n",
              "      <th>Power Steering</th>\n",
              "      <th>Power Windows</th>\n",
              "      <th>Navigation System</th>\n",
              "      <th>TV</th>\n",
              "      <th>Dual Air Bags</th>\n",
              "      <th>Anti-Lock Brake</th>\n",
              "      <th>...</th>\n",
              "      <th>Alloy Wheels</th>\n",
              "      <th>Fog Lights</th>\n",
              "      <th>Auto Air Conditioner</th>\n",
              "      <th>Aero</th>\n",
              "      <th>HID</th>\n",
              "      <th>Centralized Door Lock</th>\n",
              "      <th>Push Start</th>\n",
              "      <th>Spare Key</th>\n",
              "      <th>LED</th>\n",
              "      <th>Steering Switch</th>\n",
              "    </tr>\n",
              "  </thead>\n",
              "  <tbody>\n",
              "    <tr>\n",
              "      <th>0</th>\n",
              "      <td>1.0</td>\n",
              "      <td>1.0</td>\n",
              "      <td>1.0</td>\n",
              "      <td>1.0</td>\n",
              "      <td>1.0</td>\n",
              "      <td>1.0</td>\n",
              "      <td>NaN</td>\n",
              "      <td>NaN</td>\n",
              "      <td>NaN</td>\n",
              "      <td>NaN</td>\n",
              "      <td>...</td>\n",
              "      <td>NaN</td>\n",
              "      <td>NaN</td>\n",
              "      <td>NaN</td>\n",
              "      <td>NaN</td>\n",
              "      <td>NaN</td>\n",
              "      <td>NaN</td>\n",
              "      <td>NaN</td>\n",
              "      <td>NaN</td>\n",
              "      <td>NaN</td>\n",
              "      <td>NaN</td>\n",
              "    </tr>\n",
              "    <tr>\n",
              "      <th>1</th>\n",
              "      <td>1.0</td>\n",
              "      <td>1.0</td>\n",
              "      <td>1.0</td>\n",
              "      <td>1.0</td>\n",
              "      <td>1.0</td>\n",
              "      <td>1.0</td>\n",
              "      <td>NaN</td>\n",
              "      <td>NaN</td>\n",
              "      <td>NaN</td>\n",
              "      <td>NaN</td>\n",
              "      <td>...</td>\n",
              "      <td>NaN</td>\n",
              "      <td>NaN</td>\n",
              "      <td>NaN</td>\n",
              "      <td>NaN</td>\n",
              "      <td>NaN</td>\n",
              "      <td>NaN</td>\n",
              "      <td>NaN</td>\n",
              "      <td>NaN</td>\n",
              "      <td>NaN</td>\n",
              "      <td>NaN</td>\n",
              "    </tr>\n",
              "    <tr>\n",
              "      <th>2</th>\n",
              "      <td>1.0</td>\n",
              "      <td>1.0</td>\n",
              "      <td>1.0</td>\n",
              "      <td>NaN</td>\n",
              "      <td>1.0</td>\n",
              "      <td>1.0</td>\n",
              "      <td>NaN</td>\n",
              "      <td>NaN</td>\n",
              "      <td>NaN</td>\n",
              "      <td>NaN</td>\n",
              "      <td>...</td>\n",
              "      <td>NaN</td>\n",
              "      <td>NaN</td>\n",
              "      <td>NaN</td>\n",
              "      <td>NaN</td>\n",
              "      <td>NaN</td>\n",
              "      <td>NaN</td>\n",
              "      <td>NaN</td>\n",
              "      <td>NaN</td>\n",
              "      <td>NaN</td>\n",
              "      <td>NaN</td>\n",
              "    </tr>\n",
              "    <tr>\n",
              "      <th>3</th>\n",
              "      <td>1.0</td>\n",
              "      <td>1.0</td>\n",
              "      <td>1.0</td>\n",
              "      <td>1.0</td>\n",
              "      <td>1.0</td>\n",
              "      <td>1.0</td>\n",
              "      <td>NaN</td>\n",
              "      <td>NaN</td>\n",
              "      <td>NaN</td>\n",
              "      <td>NaN</td>\n",
              "      <td>...</td>\n",
              "      <td>NaN</td>\n",
              "      <td>NaN</td>\n",
              "      <td>NaN</td>\n",
              "      <td>NaN</td>\n",
              "      <td>NaN</td>\n",
              "      <td>NaN</td>\n",
              "      <td>NaN</td>\n",
              "      <td>NaN</td>\n",
              "      <td>NaN</td>\n",
              "      <td>NaN</td>\n",
              "    </tr>\n",
              "    <tr>\n",
              "      <th>4</th>\n",
              "      <td>1.0</td>\n",
              "      <td>1.0</td>\n",
              "      <td>1.0</td>\n",
              "      <td>1.0</td>\n",
              "      <td>1.0</td>\n",
              "      <td>1.0</td>\n",
              "      <td>NaN</td>\n",
              "      <td>NaN</td>\n",
              "      <td>NaN</td>\n",
              "      <td>NaN</td>\n",
              "      <td>...</td>\n",
              "      <td>NaN</td>\n",
              "      <td>NaN</td>\n",
              "      <td>NaN</td>\n",
              "      <td>NaN</td>\n",
              "      <td>NaN</td>\n",
              "      <td>NaN</td>\n",
              "      <td>NaN</td>\n",
              "      <td>NaN</td>\n",
              "      <td>NaN</td>\n",
              "      <td>NaN</td>\n",
              "    </tr>\n",
              "  </tbody>\n",
              "</table>\n",
              "<p>5 rows × 23 columns</p>\n",
              "</div>\n",
              "      <button class=\"colab-df-convert\" onclick=\"convertToInteractive('df-43c028df-0e9c-4e44-b490-3cc5bdf4012d')\"\n",
              "              title=\"Convert this dataframe to an interactive table.\"\n",
              "              style=\"display:none;\">\n",
              "        \n",
              "  <svg xmlns=\"http://www.w3.org/2000/svg\" height=\"24px\"viewBox=\"0 0 24 24\"\n",
              "       width=\"24px\">\n",
              "    <path d=\"M0 0h24v24H0V0z\" fill=\"none\"/>\n",
              "    <path d=\"M18.56 5.44l.94 2.06.94-2.06 2.06-.94-2.06-.94-.94-2.06-.94 2.06-2.06.94zm-11 1L8.5 8.5l.94-2.06 2.06-.94-2.06-.94L8.5 2.5l-.94 2.06-2.06.94zm10 10l.94 2.06.94-2.06 2.06-.94-2.06-.94-.94-2.06-.94 2.06-2.06.94z\"/><path d=\"M17.41 7.96l-1.37-1.37c-.4-.4-.92-.59-1.43-.59-.52 0-1.04.2-1.43.59L10.3 9.45l-7.72 7.72c-.78.78-.78 2.05 0 2.83L4 21.41c.39.39.9.59 1.41.59.51 0 1.02-.2 1.41-.59l7.78-7.78 2.81-2.81c.8-.78.8-2.07 0-2.86zM5.41 20L4 18.59l7.72-7.72 1.47 1.35L5.41 20z\"/>\n",
              "  </svg>\n",
              "      </button>\n",
              "      \n",
              "  <style>\n",
              "    .colab-df-container {\n",
              "      display:flex;\n",
              "      flex-wrap:wrap;\n",
              "      gap: 12px;\n",
              "    }\n",
              "\n",
              "    .colab-df-convert {\n",
              "      background-color: #E8F0FE;\n",
              "      border: none;\n",
              "      border-radius: 50%;\n",
              "      cursor: pointer;\n",
              "      display: none;\n",
              "      fill: #1967D2;\n",
              "      height: 32px;\n",
              "      padding: 0 0 0 0;\n",
              "      width: 32px;\n",
              "    }\n",
              "\n",
              "    .colab-df-convert:hover {\n",
              "      background-color: #E2EBFA;\n",
              "      box-shadow: 0px 1px 2px rgba(60, 64, 67, 0.3), 0px 1px 3px 1px rgba(60, 64, 67, 0.15);\n",
              "      fill: #174EA6;\n",
              "    }\n",
              "\n",
              "    [theme=dark] .colab-df-convert {\n",
              "      background-color: #3B4455;\n",
              "      fill: #D2E3FC;\n",
              "    }\n",
              "\n",
              "    [theme=dark] .colab-df-convert:hover {\n",
              "      background-color: #434B5C;\n",
              "      box-shadow: 0px 1px 3px 1px rgba(0, 0, 0, 0.15);\n",
              "      filter: drop-shadow(0px 1px 2px rgba(0, 0, 0, 0.3));\n",
              "      fill: #FFFFFF;\n",
              "    }\n",
              "  </style>\n",
              "\n",
              "      <script>\n",
              "        const buttonEl =\n",
              "          document.querySelector('#df-43c028df-0e9c-4e44-b490-3cc5bdf4012d button.colab-df-convert');\n",
              "        buttonEl.style.display =\n",
              "          google.colab.kernel.accessAllowed ? 'block' : 'none';\n",
              "\n",
              "        async function convertToInteractive(key) {\n",
              "          const element = document.querySelector('#df-43c028df-0e9c-4e44-b490-3cc5bdf4012d');\n",
              "          const dataTable =\n",
              "            await google.colab.kernel.invokeFunction('convertToInteractive',\n",
              "                                                     [key], {});\n",
              "          if (!dataTable) return;\n",
              "\n",
              "          const docLinkHtml = 'Like what you see? Visit the ' +\n",
              "            '<a target=\"_blank\" href=https://colab.research.google.com/notebooks/data_table.ipynb>data table notebook</a>'\n",
              "            + ' to learn more about interactive tables.';\n",
              "          element.innerHTML = '';\n",
              "          dataTable['output_type'] = 'display_data';\n",
              "          await google.colab.output.renderOutput(dataTable, element);\n",
              "          const docLink = document.createElement('div');\n",
              "          docLink.innerHTML = docLinkHtml;\n",
              "          element.appendChild(docLink);\n",
              "        }\n",
              "      </script>\n",
              "    </div>\n",
              "  </div>\n",
              "  "
            ]
          },
          "metadata": {},
          "execution_count": 2071
        }
      ]
    },
    {
      "cell_type": "markdown",
      "source": [
        "From the webscrapping, we had saved the accssories of a car as boolean values. On exporting to Json however, the truth values were converted to a float 1.0. For cars that did not have that specific accessory, the value assigned was a null. Thus a null in this case would mean the vehicle does not have that accessory. To maintain the float point system, we will convert the null values to a 0.0. \n",
        "\n",
        "Therefore, a 1.0 means true while a 0.0 means false. True means the car has the featurw while false means the car doesnt have the feature."
      ],
      "metadata": {
        "id": "cBUzfLXv9cz1"
      }
    },
    {
      "cell_type": "code",
      "source": [
        "# replace the null values with 0.0 for the numeric features\n",
        "\n",
        "df[numeric_features.columns] = df[numeric_features.columns].fillna(value=0.0)"
      ],
      "metadata": {
        "id": "TvmzDrzq8tut"
      },
      "execution_count": 2072,
      "outputs": []
    },
    {
      "cell_type": "code",
      "source": [
        "df.head()"
      ],
      "metadata": {
        "colab": {
          "base_uri": "https://localhost:8080/",
          "height": 280
        },
        "id": "8nrpzFZK-YHv",
        "outputId": "e2e5cbf1-4761-43b8-faa9-655136edf084"
      },
      "execution_count": 2073,
      "outputs": [
        {
          "output_type": "execute_result",
          "data": {
            "text/plain": [
              "                              title Stock Id: Inventory Location: Model Code:  \\\n",
              "0              TOYOTA VITZ 2017/7 F    AG3658    Yokohama - Japan  DBA-KSP130   \n",
              "1              TOYOTA VITZ 2017/6 F    AO2321      Hakata - Japan  DBA-KSP130   \n",
              "2         TOYOTA VITZ 2016/1 JEWELA    BL2723      Hakata - Japan  DBA-NSP130   \n",
              "3              TOYOTA VITZ 2016/6 F    CC5205        Kobe - Japan  DBA-KSP130   \n",
              "4  TOYOTA VITZ 2016/9 F LED EDITION    CC5565      Hakata - Japan  DBA-NSP130   \n",
              "\n",
              "    Year: Transmission:   Color: Drive: Door: Steering:  ... Alloy Wheels  \\\n",
              "0  2017/7            AT    Black    2WD     5       RHD  ...          0.0   \n",
              "1  2017/6            AT  GRAY(D)    2WD     5       RHD  ...          0.0   \n",
              "2  2016/1            AT     Wine    2WD     5       RHD  ...          0.0   \n",
              "3  2016/6            AT    White    2WD     5       RHD  ...          0.0   \n",
              "4  2016/9            AT    Pearl    2WD     5       RHD  ...          0.0   \n",
              "\n",
              "  Fog Lights Auto Air Conditioner Aero  HID Centralized Door Lock Push Start  \\\n",
              "0        0.0                  0.0  0.0  0.0                   0.0        0.0   \n",
              "1        0.0                  0.0  0.0  0.0                   0.0        0.0   \n",
              "2        0.0                  0.0  0.0  0.0                   0.0        0.0   \n",
              "3        0.0                  0.0  0.0  0.0                   0.0        0.0   \n",
              "4        0.0                  0.0  0.0  0.0                   0.0        0.0   \n",
              "\n",
              "  Spare Key  LED Steering Switch  \n",
              "0       0.0  0.0             0.0  \n",
              "1       0.0  0.0             0.0  \n",
              "2       0.0  0.0             0.0  \n",
              "3       0.0  0.0             0.0  \n",
              "4       0.0  0.0             0.0  \n",
              "\n",
              "[5 rows x 49 columns]"
            ],
            "text/html": [
              "\n",
              "  <div id=\"df-7c28ed1d-eed2-47d2-a2f1-c2f41b07b072\">\n",
              "    <div class=\"colab-df-container\">\n",
              "      <div>\n",
              "<style scoped>\n",
              "    .dataframe tbody tr th:only-of-type {\n",
              "        vertical-align: middle;\n",
              "    }\n",
              "\n",
              "    .dataframe tbody tr th {\n",
              "        vertical-align: top;\n",
              "    }\n",
              "\n",
              "    .dataframe thead th {\n",
              "        text-align: right;\n",
              "    }\n",
              "</style>\n",
              "<table border=\"1\" class=\"dataframe\">\n",
              "  <thead>\n",
              "    <tr style=\"text-align: right;\">\n",
              "      <th></th>\n",
              "      <th>title</th>\n",
              "      <th>Stock Id:</th>\n",
              "      <th>Inventory Location:</th>\n",
              "      <th>Model Code:</th>\n",
              "      <th>Year:</th>\n",
              "      <th>Transmission:</th>\n",
              "      <th>Color:</th>\n",
              "      <th>Drive:</th>\n",
              "      <th>Door:</th>\n",
              "      <th>Steering:</th>\n",
              "      <th>...</th>\n",
              "      <th>Alloy Wheels</th>\n",
              "      <th>Fog Lights</th>\n",
              "      <th>Auto Air Conditioner</th>\n",
              "      <th>Aero</th>\n",
              "      <th>HID</th>\n",
              "      <th>Centralized Door Lock</th>\n",
              "      <th>Push Start</th>\n",
              "      <th>Spare Key</th>\n",
              "      <th>LED</th>\n",
              "      <th>Steering Switch</th>\n",
              "    </tr>\n",
              "  </thead>\n",
              "  <tbody>\n",
              "    <tr>\n",
              "      <th>0</th>\n",
              "      <td>TOYOTA VITZ 2017/7 F</td>\n",
              "      <td>AG3658</td>\n",
              "      <td>Yokohama - Japan</td>\n",
              "      <td>DBA-KSP130</td>\n",
              "      <td>2017/7</td>\n",
              "      <td>AT</td>\n",
              "      <td>Black</td>\n",
              "      <td>2WD</td>\n",
              "      <td>5</td>\n",
              "      <td>RHD</td>\n",
              "      <td>...</td>\n",
              "      <td>0.0</td>\n",
              "      <td>0.0</td>\n",
              "      <td>0.0</td>\n",
              "      <td>0.0</td>\n",
              "      <td>0.0</td>\n",
              "      <td>0.0</td>\n",
              "      <td>0.0</td>\n",
              "      <td>0.0</td>\n",
              "      <td>0.0</td>\n",
              "      <td>0.0</td>\n",
              "    </tr>\n",
              "    <tr>\n",
              "      <th>1</th>\n",
              "      <td>TOYOTA VITZ 2017/6 F</td>\n",
              "      <td>AO2321</td>\n",
              "      <td>Hakata - Japan</td>\n",
              "      <td>DBA-KSP130</td>\n",
              "      <td>2017/6</td>\n",
              "      <td>AT</td>\n",
              "      <td>GRAY(D)</td>\n",
              "      <td>2WD</td>\n",
              "      <td>5</td>\n",
              "      <td>RHD</td>\n",
              "      <td>...</td>\n",
              "      <td>0.0</td>\n",
              "      <td>0.0</td>\n",
              "      <td>0.0</td>\n",
              "      <td>0.0</td>\n",
              "      <td>0.0</td>\n",
              "      <td>0.0</td>\n",
              "      <td>0.0</td>\n",
              "      <td>0.0</td>\n",
              "      <td>0.0</td>\n",
              "      <td>0.0</td>\n",
              "    </tr>\n",
              "    <tr>\n",
              "      <th>2</th>\n",
              "      <td>TOYOTA VITZ 2016/1 JEWELA</td>\n",
              "      <td>BL2723</td>\n",
              "      <td>Hakata - Japan</td>\n",
              "      <td>DBA-NSP130</td>\n",
              "      <td>2016/1</td>\n",
              "      <td>AT</td>\n",
              "      <td>Wine</td>\n",
              "      <td>2WD</td>\n",
              "      <td>5</td>\n",
              "      <td>RHD</td>\n",
              "      <td>...</td>\n",
              "      <td>0.0</td>\n",
              "      <td>0.0</td>\n",
              "      <td>0.0</td>\n",
              "      <td>0.0</td>\n",
              "      <td>0.0</td>\n",
              "      <td>0.0</td>\n",
              "      <td>0.0</td>\n",
              "      <td>0.0</td>\n",
              "      <td>0.0</td>\n",
              "      <td>0.0</td>\n",
              "    </tr>\n",
              "    <tr>\n",
              "      <th>3</th>\n",
              "      <td>TOYOTA VITZ 2016/6 F</td>\n",
              "      <td>CC5205</td>\n",
              "      <td>Kobe - Japan</td>\n",
              "      <td>DBA-KSP130</td>\n",
              "      <td>2016/6</td>\n",
              "      <td>AT</td>\n",
              "      <td>White</td>\n",
              "      <td>2WD</td>\n",
              "      <td>5</td>\n",
              "      <td>RHD</td>\n",
              "      <td>...</td>\n",
              "      <td>0.0</td>\n",
              "      <td>0.0</td>\n",
              "      <td>0.0</td>\n",
              "      <td>0.0</td>\n",
              "      <td>0.0</td>\n",
              "      <td>0.0</td>\n",
              "      <td>0.0</td>\n",
              "      <td>0.0</td>\n",
              "      <td>0.0</td>\n",
              "      <td>0.0</td>\n",
              "    </tr>\n",
              "    <tr>\n",
              "      <th>4</th>\n",
              "      <td>TOYOTA VITZ 2016/9 F LED EDITION</td>\n",
              "      <td>CC5565</td>\n",
              "      <td>Hakata - Japan</td>\n",
              "      <td>DBA-NSP130</td>\n",
              "      <td>2016/9</td>\n",
              "      <td>AT</td>\n",
              "      <td>Pearl</td>\n",
              "      <td>2WD</td>\n",
              "      <td>5</td>\n",
              "      <td>RHD</td>\n",
              "      <td>...</td>\n",
              "      <td>0.0</td>\n",
              "      <td>0.0</td>\n",
              "      <td>0.0</td>\n",
              "      <td>0.0</td>\n",
              "      <td>0.0</td>\n",
              "      <td>0.0</td>\n",
              "      <td>0.0</td>\n",
              "      <td>0.0</td>\n",
              "      <td>0.0</td>\n",
              "      <td>0.0</td>\n",
              "    </tr>\n",
              "  </tbody>\n",
              "</table>\n",
              "<p>5 rows × 49 columns</p>\n",
              "</div>\n",
              "      <button class=\"colab-df-convert\" onclick=\"convertToInteractive('df-7c28ed1d-eed2-47d2-a2f1-c2f41b07b072')\"\n",
              "              title=\"Convert this dataframe to an interactive table.\"\n",
              "              style=\"display:none;\">\n",
              "        \n",
              "  <svg xmlns=\"http://www.w3.org/2000/svg\" height=\"24px\"viewBox=\"0 0 24 24\"\n",
              "       width=\"24px\">\n",
              "    <path d=\"M0 0h24v24H0V0z\" fill=\"none\"/>\n",
              "    <path d=\"M18.56 5.44l.94 2.06.94-2.06 2.06-.94-2.06-.94-.94-2.06-.94 2.06-2.06.94zm-11 1L8.5 8.5l.94-2.06 2.06-.94-2.06-.94L8.5 2.5l-.94 2.06-2.06.94zm10 10l.94 2.06.94-2.06 2.06-.94-2.06-.94-.94-2.06-.94 2.06-2.06.94z\"/><path d=\"M17.41 7.96l-1.37-1.37c-.4-.4-.92-.59-1.43-.59-.52 0-1.04.2-1.43.59L10.3 9.45l-7.72 7.72c-.78.78-.78 2.05 0 2.83L4 21.41c.39.39.9.59 1.41.59.51 0 1.02-.2 1.41-.59l7.78-7.78 2.81-2.81c.8-.78.8-2.07 0-2.86zM5.41 20L4 18.59l7.72-7.72 1.47 1.35L5.41 20z\"/>\n",
              "  </svg>\n",
              "      </button>\n",
              "      \n",
              "  <style>\n",
              "    .colab-df-container {\n",
              "      display:flex;\n",
              "      flex-wrap:wrap;\n",
              "      gap: 12px;\n",
              "    }\n",
              "\n",
              "    .colab-df-convert {\n",
              "      background-color: #E8F0FE;\n",
              "      border: none;\n",
              "      border-radius: 50%;\n",
              "      cursor: pointer;\n",
              "      display: none;\n",
              "      fill: #1967D2;\n",
              "      height: 32px;\n",
              "      padding: 0 0 0 0;\n",
              "      width: 32px;\n",
              "    }\n",
              "\n",
              "    .colab-df-convert:hover {\n",
              "      background-color: #E2EBFA;\n",
              "      box-shadow: 0px 1px 2px rgba(60, 64, 67, 0.3), 0px 1px 3px 1px rgba(60, 64, 67, 0.15);\n",
              "      fill: #174EA6;\n",
              "    }\n",
              "\n",
              "    [theme=dark] .colab-df-convert {\n",
              "      background-color: #3B4455;\n",
              "      fill: #D2E3FC;\n",
              "    }\n",
              "\n",
              "    [theme=dark] .colab-df-convert:hover {\n",
              "      background-color: #434B5C;\n",
              "      box-shadow: 0px 1px 3px 1px rgba(0, 0, 0, 0.15);\n",
              "      filter: drop-shadow(0px 1px 2px rgba(0, 0, 0, 0.3));\n",
              "      fill: #FFFFFF;\n",
              "    }\n",
              "  </style>\n",
              "\n",
              "      <script>\n",
              "        const buttonEl =\n",
              "          document.querySelector('#df-7c28ed1d-eed2-47d2-a2f1-c2f41b07b072 button.colab-df-convert');\n",
              "        buttonEl.style.display =\n",
              "          google.colab.kernel.accessAllowed ? 'block' : 'none';\n",
              "\n",
              "        async function convertToInteractive(key) {\n",
              "          const element = document.querySelector('#df-7c28ed1d-eed2-47d2-a2f1-c2f41b07b072');\n",
              "          const dataTable =\n",
              "            await google.colab.kernel.invokeFunction('convertToInteractive',\n",
              "                                                     [key], {});\n",
              "          if (!dataTable) return;\n",
              "\n",
              "          const docLinkHtml = 'Like what you see? Visit the ' +\n",
              "            '<a target=\"_blank\" href=https://colab.research.google.com/notebooks/data_table.ipynb>data table notebook</a>'\n",
              "            + ' to learn more about interactive tables.';\n",
              "          element.innerHTML = '';\n",
              "          dataTable['output_type'] = 'display_data';\n",
              "          await google.colab.output.renderOutput(dataTable, element);\n",
              "          const docLink = document.createElement('div');\n",
              "          docLink.innerHTML = docLinkHtml;\n",
              "          element.appendChild(docLink);\n",
              "        }\n",
              "      </script>\n",
              "    </div>\n",
              "  </div>\n",
              "  "
            ]
          },
          "metadata": {},
          "execution_count": 2073
        }
      ]
    },
    {
      "cell_type": "markdown",
      "source": [
        "\n",
        "## Categorical features dealing with null values\n",
        "\n",
        "Categorical features are those that are in the form of strings."
      ],
      "metadata": {
        "id": "584wAoFp-20L"
      }
    },
    {
      "cell_type": "code",
      "source": [
        "df_categorical = df.select_dtypes(include=['object'])"
      ],
      "metadata": {
        "id": "dMC6c1iV-cnS"
      },
      "execution_count": 2074,
      "outputs": []
    },
    {
      "cell_type": "code",
      "source": [
        "df_categorical.columns.tolist()"
      ],
      "metadata": {
        "colab": {
          "base_uri": "https://localhost:8080/"
        },
        "id": "6URmM9GM-oCy",
        "outputId": "c97d6fc8-2271-49ea-94f7-6d43514b76ef"
      },
      "execution_count": 2075,
      "outputs": [
        {
          "output_type": "execute_result",
          "data": {
            "text/plain": [
              "['title',\n",
              " 'Stock Id:',\n",
              " 'Inventory Location:',\n",
              " 'Model Code:',\n",
              " 'Year:',\n",
              " 'Transmission:',\n",
              " 'Color:',\n",
              " 'Drive:',\n",
              " 'Door:',\n",
              " 'Steering:',\n",
              " 'Seats:',\n",
              " 'Engine Type:',\n",
              " 'Body Type:',\n",
              " 'Engine Size:',\n",
              " 'Mileage:',\n",
              " 'Fuel:',\n",
              " 'Body Length:',\n",
              " 'Vehicle Weight:',\n",
              " 'Gross Vehicle Weight:',\n",
              " 'Max Loading Capacity:',\n",
              " 'price',\n",
              " 'Model:',\n",
              " 'Registration Year:',\n",
              " 'Model Year:',\n",
              " 'Seating Capacity:',\n",
              " 'Chassis Number']"
            ]
          },
          "metadata": {},
          "execution_count": 2075
        }
      ]
    },
    {
      "cell_type": "code",
      "source": [
        "df_categorical.tail(100)"
      ],
      "metadata": {
        "colab": {
          "base_uri": "https://localhost:8080/",
          "height": 659
        },
        "id": "DhtNI2vg-sP-",
        "outputId": "deabca7a-9048-4018-8c54-f34b29b660f2"
      },
      "execution_count": 2076,
      "outputs": [
        {
          "output_type": "execute_result",
          "data": {
            "text/plain": [
              "                           title Stock Id: Inventory Location: Model Code:  \\\n",
              "152  TOYOTA VITZ 2017/8 F Mパッケージ   DTC9656       Tokyo - Japan         NaN   \n",
              "153         TOYOTA VITZ 2017/4 F   DTD2362    Ishikawa - Japan         NaN   \n",
              "154      TOYOTA VITZ 2017/8 1.0F   DTD4662    Kumamoto - Japan         NaN   \n",
              "155           TOYOTA VITZ 2017/4   DTF2556         Mie - Japan         NaN   \n",
              "156         TOYOTA VITZ 2018/9 F   DTJ9525      Miyagi - Japan         NaN   \n",
              "..                           ...       ...                 ...         ...   \n",
              "247         TOYOTA VITZ 2016/1 F    YG5692        Kobe - Japan  DBA-NSP130   \n",
              "248         TOYOTA VITZ 2017/6 F    YO1805      Hakata - Japan  DBA-KSP130   \n",
              "249         TOYOTA VITZ 2017/7 F    YR9773    Yokohama - Japan  DBA-KSP130   \n",
              "250         TOYOTA VITZ 2017/3 F    ZE0283      Hakata - Japan  DBA-KSP130   \n",
              "251        TOYOTA VITZ 2016/11 U    ZX4121        Kobe - Japan  DBA-NSP130   \n",
              "\n",
              "       Year: Transmission:   Color: Drive: Door: Steering:  ... Body Length:  \\\n",
              "152      NaN            AT   SILVER            5     Right  ...          NaN   \n",
              "153      NaN            AT    BLACK    4WD     5     Right  ...          NaN   \n",
              "154      NaN            AT     GRAY            5     Right  ...          NaN   \n",
              "155      NaN                  BLACK  Other           Right  ...          NaN   \n",
              "156      NaN            AT    BLACK            5     Right  ...          NaN   \n",
              "..       ...           ...      ...    ...   ...       ...  ...          ...   \n",
              "247   2016/1            AT    White    2WD     5       RHD  ...        3.88m   \n",
              "248   2017/6            AT  GRAY(D)    2WD     5       RHD  ...        3.94m   \n",
              "249   2017/7            AT    Black    2WD     5       RHD  ...        3.94m   \n",
              "250   2017/3            AT  GRAY(D)    2WD     5       RHD  ...        3.94m   \n",
              "251  2016/11            AT    Pearl    2WD     5       RHD  ...        3.88m   \n",
              "\n",
              "    Vehicle Weight: Gross Vehicle Weight: Max Loading Capacity:       price  \\\n",
              "152             NaN                   NaN                   NaN  USD 11,484   \n",
              "153             NaN                   NaN                   NaN   USD 9,797   \n",
              "154             NaN                   NaN                   NaN   USD 7,686   \n",
              "155             NaN                   NaN                   NaN   USD 8,383   \n",
              "156             NaN                   NaN                   NaN  USD 10,332   \n",
              "..              ...                   ...                   ...         ...   \n",
              "247         1,000kg               1,275kg                  - kg   USD 5,999   \n",
              "248           970kg               1,245kg                  - kg   USD 6,525   \n",
              "249           970kg               1,245kg                  - kg   USD 6,706   \n",
              "250           970kg               1,245kg                  - kg   USD 6,161   \n",
              "251         1,010kg               1,285kg                  - kg   USD 6,999   \n",
              "\n",
              "    Model: Registration Year: Model Year: Seating Capacity:  Chassis Number  \n",
              "152   VITZ             2017/8                             5  KSP130-2209***  \n",
              "153   VITZ             2017/4                             5  NSP135-2070***  \n",
              "154   VITZ             2017/8                             5  KSP130-2210***  \n",
              "155   VITZ             2017/4                                KSP130-2200***  \n",
              "156   VITZ             2018/9                             5  KSP130-2244***  \n",
              "..     ...                ...         ...               ...             ...  \n",
              "247    NaN                NaN         NaN               NaN             NaN  \n",
              "248    NaN                NaN         NaN               NaN             NaN  \n",
              "249    NaN                NaN         NaN               NaN             NaN  \n",
              "250    NaN                NaN         NaN               NaN             NaN  \n",
              "251    NaN                NaN         NaN               NaN             NaN  \n",
              "\n",
              "[100 rows x 26 columns]"
            ],
            "text/html": [
              "\n",
              "  <div id=\"df-73313489-5443-4576-aff4-369be988f43d\">\n",
              "    <div class=\"colab-df-container\">\n",
              "      <div>\n",
              "<style scoped>\n",
              "    .dataframe tbody tr th:only-of-type {\n",
              "        vertical-align: middle;\n",
              "    }\n",
              "\n",
              "    .dataframe tbody tr th {\n",
              "        vertical-align: top;\n",
              "    }\n",
              "\n",
              "    .dataframe thead th {\n",
              "        text-align: right;\n",
              "    }\n",
              "</style>\n",
              "<table border=\"1\" class=\"dataframe\">\n",
              "  <thead>\n",
              "    <tr style=\"text-align: right;\">\n",
              "      <th></th>\n",
              "      <th>title</th>\n",
              "      <th>Stock Id:</th>\n",
              "      <th>Inventory Location:</th>\n",
              "      <th>Model Code:</th>\n",
              "      <th>Year:</th>\n",
              "      <th>Transmission:</th>\n",
              "      <th>Color:</th>\n",
              "      <th>Drive:</th>\n",
              "      <th>Door:</th>\n",
              "      <th>Steering:</th>\n",
              "      <th>...</th>\n",
              "      <th>Body Length:</th>\n",
              "      <th>Vehicle Weight:</th>\n",
              "      <th>Gross Vehicle Weight:</th>\n",
              "      <th>Max Loading Capacity:</th>\n",
              "      <th>price</th>\n",
              "      <th>Model:</th>\n",
              "      <th>Registration Year:</th>\n",
              "      <th>Model Year:</th>\n",
              "      <th>Seating Capacity:</th>\n",
              "      <th>Chassis Number</th>\n",
              "    </tr>\n",
              "  </thead>\n",
              "  <tbody>\n",
              "    <tr>\n",
              "      <th>152</th>\n",
              "      <td>TOYOTA VITZ 2017/8 F Mパッケージ</td>\n",
              "      <td>DTC9656</td>\n",
              "      <td>Tokyo - Japan</td>\n",
              "      <td>NaN</td>\n",
              "      <td>NaN</td>\n",
              "      <td>AT</td>\n",
              "      <td>SILVER</td>\n",
              "      <td></td>\n",
              "      <td>5</td>\n",
              "      <td>Right</td>\n",
              "      <td>...</td>\n",
              "      <td>NaN</td>\n",
              "      <td>NaN</td>\n",
              "      <td>NaN</td>\n",
              "      <td>NaN</td>\n",
              "      <td>USD 11,484</td>\n",
              "      <td>VITZ</td>\n",
              "      <td>2017/8</td>\n",
              "      <td></td>\n",
              "      <td>5</td>\n",
              "      <td>KSP130-2209***</td>\n",
              "    </tr>\n",
              "    <tr>\n",
              "      <th>153</th>\n",
              "      <td>TOYOTA VITZ 2017/4 F</td>\n",
              "      <td>DTD2362</td>\n",
              "      <td>Ishikawa - Japan</td>\n",
              "      <td>NaN</td>\n",
              "      <td>NaN</td>\n",
              "      <td>AT</td>\n",
              "      <td>BLACK</td>\n",
              "      <td>4WD</td>\n",
              "      <td>5</td>\n",
              "      <td>Right</td>\n",
              "      <td>...</td>\n",
              "      <td>NaN</td>\n",
              "      <td>NaN</td>\n",
              "      <td>NaN</td>\n",
              "      <td>NaN</td>\n",
              "      <td>USD 9,797</td>\n",
              "      <td>VITZ</td>\n",
              "      <td>2017/4</td>\n",
              "      <td></td>\n",
              "      <td>5</td>\n",
              "      <td>NSP135-2070***</td>\n",
              "    </tr>\n",
              "    <tr>\n",
              "      <th>154</th>\n",
              "      <td>TOYOTA VITZ 2017/8 1.0F</td>\n",
              "      <td>DTD4662</td>\n",
              "      <td>Kumamoto - Japan</td>\n",
              "      <td>NaN</td>\n",
              "      <td>NaN</td>\n",
              "      <td>AT</td>\n",
              "      <td>GRAY</td>\n",
              "      <td></td>\n",
              "      <td>5</td>\n",
              "      <td>Right</td>\n",
              "      <td>...</td>\n",
              "      <td>NaN</td>\n",
              "      <td>NaN</td>\n",
              "      <td>NaN</td>\n",
              "      <td>NaN</td>\n",
              "      <td>USD 7,686</td>\n",
              "      <td>VITZ</td>\n",
              "      <td>2017/8</td>\n",
              "      <td></td>\n",
              "      <td>5</td>\n",
              "      <td>KSP130-2210***</td>\n",
              "    </tr>\n",
              "    <tr>\n",
              "      <th>155</th>\n",
              "      <td>TOYOTA VITZ 2017/4</td>\n",
              "      <td>DTF2556</td>\n",
              "      <td>Mie - Japan</td>\n",
              "      <td>NaN</td>\n",
              "      <td>NaN</td>\n",
              "      <td></td>\n",
              "      <td>BLACK</td>\n",
              "      <td>Other</td>\n",
              "      <td></td>\n",
              "      <td>Right</td>\n",
              "      <td>...</td>\n",
              "      <td>NaN</td>\n",
              "      <td>NaN</td>\n",
              "      <td>NaN</td>\n",
              "      <td>NaN</td>\n",
              "      <td>USD 8,383</td>\n",
              "      <td>VITZ</td>\n",
              "      <td>2017/4</td>\n",
              "      <td></td>\n",
              "      <td></td>\n",
              "      <td>KSP130-2200***</td>\n",
              "    </tr>\n",
              "    <tr>\n",
              "      <th>156</th>\n",
              "      <td>TOYOTA VITZ 2018/9 F</td>\n",
              "      <td>DTJ9525</td>\n",
              "      <td>Miyagi - Japan</td>\n",
              "      <td>NaN</td>\n",
              "      <td>NaN</td>\n",
              "      <td>AT</td>\n",
              "      <td>BLACK</td>\n",
              "      <td></td>\n",
              "      <td>5</td>\n",
              "      <td>Right</td>\n",
              "      <td>...</td>\n",
              "      <td>NaN</td>\n",
              "      <td>NaN</td>\n",
              "      <td>NaN</td>\n",
              "      <td>NaN</td>\n",
              "      <td>USD 10,332</td>\n",
              "      <td>VITZ</td>\n",
              "      <td>2018/9</td>\n",
              "      <td></td>\n",
              "      <td>5</td>\n",
              "      <td>KSP130-2244***</td>\n",
              "    </tr>\n",
              "    <tr>\n",
              "      <th>...</th>\n",
              "      <td>...</td>\n",
              "      <td>...</td>\n",
              "      <td>...</td>\n",
              "      <td>...</td>\n",
              "      <td>...</td>\n",
              "      <td>...</td>\n",
              "      <td>...</td>\n",
              "      <td>...</td>\n",
              "      <td>...</td>\n",
              "      <td>...</td>\n",
              "      <td>...</td>\n",
              "      <td>...</td>\n",
              "      <td>...</td>\n",
              "      <td>...</td>\n",
              "      <td>...</td>\n",
              "      <td>...</td>\n",
              "      <td>...</td>\n",
              "      <td>...</td>\n",
              "      <td>...</td>\n",
              "      <td>...</td>\n",
              "      <td>...</td>\n",
              "    </tr>\n",
              "    <tr>\n",
              "      <th>247</th>\n",
              "      <td>TOYOTA VITZ 2016/1 F</td>\n",
              "      <td>YG5692</td>\n",
              "      <td>Kobe - Japan</td>\n",
              "      <td>DBA-NSP130</td>\n",
              "      <td>2016/1</td>\n",
              "      <td>AT</td>\n",
              "      <td>White</td>\n",
              "      <td>2WD</td>\n",
              "      <td>5</td>\n",
              "      <td>RHD</td>\n",
              "      <td>...</td>\n",
              "      <td>3.88m</td>\n",
              "      <td>1,000kg</td>\n",
              "      <td>1,275kg</td>\n",
              "      <td>- kg</td>\n",
              "      <td>USD 5,999</td>\n",
              "      <td>NaN</td>\n",
              "      <td>NaN</td>\n",
              "      <td>NaN</td>\n",
              "      <td>NaN</td>\n",
              "      <td>NaN</td>\n",
              "    </tr>\n",
              "    <tr>\n",
              "      <th>248</th>\n",
              "      <td>TOYOTA VITZ 2017/6 F</td>\n",
              "      <td>YO1805</td>\n",
              "      <td>Hakata - Japan</td>\n",
              "      <td>DBA-KSP130</td>\n",
              "      <td>2017/6</td>\n",
              "      <td>AT</td>\n",
              "      <td>GRAY(D)</td>\n",
              "      <td>2WD</td>\n",
              "      <td>5</td>\n",
              "      <td>RHD</td>\n",
              "      <td>...</td>\n",
              "      <td>3.94m</td>\n",
              "      <td>970kg</td>\n",
              "      <td>1,245kg</td>\n",
              "      <td>- kg</td>\n",
              "      <td>USD 6,525</td>\n",
              "      <td>NaN</td>\n",
              "      <td>NaN</td>\n",
              "      <td>NaN</td>\n",
              "      <td>NaN</td>\n",
              "      <td>NaN</td>\n",
              "    </tr>\n",
              "    <tr>\n",
              "      <th>249</th>\n",
              "      <td>TOYOTA VITZ 2017/7 F</td>\n",
              "      <td>YR9773</td>\n",
              "      <td>Yokohama - Japan</td>\n",
              "      <td>DBA-KSP130</td>\n",
              "      <td>2017/7</td>\n",
              "      <td>AT</td>\n",
              "      <td>Black</td>\n",
              "      <td>2WD</td>\n",
              "      <td>5</td>\n",
              "      <td>RHD</td>\n",
              "      <td>...</td>\n",
              "      <td>3.94m</td>\n",
              "      <td>970kg</td>\n",
              "      <td>1,245kg</td>\n",
              "      <td>- kg</td>\n",
              "      <td>USD 6,706</td>\n",
              "      <td>NaN</td>\n",
              "      <td>NaN</td>\n",
              "      <td>NaN</td>\n",
              "      <td>NaN</td>\n",
              "      <td>NaN</td>\n",
              "    </tr>\n",
              "    <tr>\n",
              "      <th>250</th>\n",
              "      <td>TOYOTA VITZ 2017/3 F</td>\n",
              "      <td>ZE0283</td>\n",
              "      <td>Hakata - Japan</td>\n",
              "      <td>DBA-KSP130</td>\n",
              "      <td>2017/3</td>\n",
              "      <td>AT</td>\n",
              "      <td>GRAY(D)</td>\n",
              "      <td>2WD</td>\n",
              "      <td>5</td>\n",
              "      <td>RHD</td>\n",
              "      <td>...</td>\n",
              "      <td>3.94m</td>\n",
              "      <td>970kg</td>\n",
              "      <td>1,245kg</td>\n",
              "      <td>- kg</td>\n",
              "      <td>USD 6,161</td>\n",
              "      <td>NaN</td>\n",
              "      <td>NaN</td>\n",
              "      <td>NaN</td>\n",
              "      <td>NaN</td>\n",
              "      <td>NaN</td>\n",
              "    </tr>\n",
              "    <tr>\n",
              "      <th>251</th>\n",
              "      <td>TOYOTA VITZ 2016/11 U</td>\n",
              "      <td>ZX4121</td>\n",
              "      <td>Kobe - Japan</td>\n",
              "      <td>DBA-NSP130</td>\n",
              "      <td>2016/11</td>\n",
              "      <td>AT</td>\n",
              "      <td>Pearl</td>\n",
              "      <td>2WD</td>\n",
              "      <td>5</td>\n",
              "      <td>RHD</td>\n",
              "      <td>...</td>\n",
              "      <td>3.88m</td>\n",
              "      <td>1,010kg</td>\n",
              "      <td>1,285kg</td>\n",
              "      <td>- kg</td>\n",
              "      <td>USD 6,999</td>\n",
              "      <td>NaN</td>\n",
              "      <td>NaN</td>\n",
              "      <td>NaN</td>\n",
              "      <td>NaN</td>\n",
              "      <td>NaN</td>\n",
              "    </tr>\n",
              "  </tbody>\n",
              "</table>\n",
              "<p>100 rows × 26 columns</p>\n",
              "</div>\n",
              "      <button class=\"colab-df-convert\" onclick=\"convertToInteractive('df-73313489-5443-4576-aff4-369be988f43d')\"\n",
              "              title=\"Convert this dataframe to an interactive table.\"\n",
              "              style=\"display:none;\">\n",
              "        \n",
              "  <svg xmlns=\"http://www.w3.org/2000/svg\" height=\"24px\"viewBox=\"0 0 24 24\"\n",
              "       width=\"24px\">\n",
              "    <path d=\"M0 0h24v24H0V0z\" fill=\"none\"/>\n",
              "    <path d=\"M18.56 5.44l.94 2.06.94-2.06 2.06-.94-2.06-.94-.94-2.06-.94 2.06-2.06.94zm-11 1L8.5 8.5l.94-2.06 2.06-.94-2.06-.94L8.5 2.5l-.94 2.06-2.06.94zm10 10l.94 2.06.94-2.06 2.06-.94-2.06-.94-.94-2.06-.94 2.06-2.06.94z\"/><path d=\"M17.41 7.96l-1.37-1.37c-.4-.4-.92-.59-1.43-.59-.52 0-1.04.2-1.43.59L10.3 9.45l-7.72 7.72c-.78.78-.78 2.05 0 2.83L4 21.41c.39.39.9.59 1.41.59.51 0 1.02-.2 1.41-.59l7.78-7.78 2.81-2.81c.8-.78.8-2.07 0-2.86zM5.41 20L4 18.59l7.72-7.72 1.47 1.35L5.41 20z\"/>\n",
              "  </svg>\n",
              "      </button>\n",
              "      \n",
              "  <style>\n",
              "    .colab-df-container {\n",
              "      display:flex;\n",
              "      flex-wrap:wrap;\n",
              "      gap: 12px;\n",
              "    }\n",
              "\n",
              "    .colab-df-convert {\n",
              "      background-color: #E8F0FE;\n",
              "      border: none;\n",
              "      border-radius: 50%;\n",
              "      cursor: pointer;\n",
              "      display: none;\n",
              "      fill: #1967D2;\n",
              "      height: 32px;\n",
              "      padding: 0 0 0 0;\n",
              "      width: 32px;\n",
              "    }\n",
              "\n",
              "    .colab-df-convert:hover {\n",
              "      background-color: #E2EBFA;\n",
              "      box-shadow: 0px 1px 2px rgba(60, 64, 67, 0.3), 0px 1px 3px 1px rgba(60, 64, 67, 0.15);\n",
              "      fill: #174EA6;\n",
              "    }\n",
              "\n",
              "    [theme=dark] .colab-df-convert {\n",
              "      background-color: #3B4455;\n",
              "      fill: #D2E3FC;\n",
              "    }\n",
              "\n",
              "    [theme=dark] .colab-df-convert:hover {\n",
              "      background-color: #434B5C;\n",
              "      box-shadow: 0px 1px 3px 1px rgba(0, 0, 0, 0.15);\n",
              "      filter: drop-shadow(0px 1px 2px rgba(0, 0, 0, 0.3));\n",
              "      fill: #FFFFFF;\n",
              "    }\n",
              "  </style>\n",
              "\n",
              "      <script>\n",
              "        const buttonEl =\n",
              "          document.querySelector('#df-73313489-5443-4576-aff4-369be988f43d button.colab-df-convert');\n",
              "        buttonEl.style.display =\n",
              "          google.colab.kernel.accessAllowed ? 'block' : 'none';\n",
              "\n",
              "        async function convertToInteractive(key) {\n",
              "          const element = document.querySelector('#df-73313489-5443-4576-aff4-369be988f43d');\n",
              "          const dataTable =\n",
              "            await google.colab.kernel.invokeFunction('convertToInteractive',\n",
              "                                                     [key], {});\n",
              "          if (!dataTable) return;\n",
              "\n",
              "          const docLinkHtml = 'Like what you see? Visit the ' +\n",
              "            '<a target=\"_blank\" href=https://colab.research.google.com/notebooks/data_table.ipynb>data table notebook</a>'\n",
              "            + ' to learn more about interactive tables.';\n",
              "          element.innerHTML = '';\n",
              "          dataTable['output_type'] = 'display_data';\n",
              "          await google.colab.output.renderOutput(dataTable, element);\n",
              "          const docLink = document.createElement('div');\n",
              "          docLink.innerHTML = docLinkHtml;\n",
              "          element.appendChild(docLink);\n",
              "        }\n",
              "      </script>\n",
              "    </div>\n",
              "  </div>\n",
              "  "
            ]
          },
          "metadata": {},
          "execution_count": 2076
        }
      ]
    },
    {
      "cell_type": "markdown",
      "source": [
        "### Stock id\n",
        "\n",
        "All vehicles have a stock id which is simply an identifier and doesnt affect the price of a car. Thus, we will drop this column"
      ],
      "metadata": {
        "id": "Q_godWm5_vEN"
      }
    },
    {
      "cell_type": "code",
      "source": [
        "df.drop('Stock Id:', axis = 1, inplace = True)"
      ],
      "metadata": {
        "id": "ETa2IgxeAHDb"
      },
      "execution_count": 2077,
      "outputs": []
    },
    {
      "cell_type": "code",
      "source": [
        "df.head(2)"
      ],
      "metadata": {
        "colab": {
          "base_uri": "https://localhost:8080/",
          "height": 141
        },
        "id": "RExw2-N7AMJC",
        "outputId": "95fa14d1-7d59-42f5-ed50-5c7a6a1a182b"
      },
      "execution_count": 2078,
      "outputs": [
        {
          "output_type": "execute_result",
          "data": {
            "text/plain": [
              "                  title Inventory Location: Model Code:   Year: Transmission:  \\\n",
              "0  TOYOTA VITZ 2017/7 F    Yokohama - Japan  DBA-KSP130  2017/7            AT   \n",
              "1  TOYOTA VITZ 2017/6 F      Hakata - Japan  DBA-KSP130  2017/6            AT   \n",
              "\n",
              "    Color: Drive: Door: Steering: Seats:  ... Alloy Wheels Fog Lights  \\\n",
              "0    Black    2WD     5       RHD      5  ...          0.0        0.0   \n",
              "1  GRAY(D)    2WD     5       RHD         ...          0.0        0.0   \n",
              "\n",
              "  Auto Air Conditioner Aero  HID Centralized Door Lock Push Start Spare Key  \\\n",
              "0                  0.0  0.0  0.0                   0.0        0.0       0.0   \n",
              "1                  0.0  0.0  0.0                   0.0        0.0       0.0   \n",
              "\n",
              "   LED  Steering Switch  \n",
              "0  0.0              0.0  \n",
              "1  0.0              0.0  \n",
              "\n",
              "[2 rows x 48 columns]"
            ],
            "text/html": [
              "\n",
              "  <div id=\"df-a0da8248-250f-4219-87d9-5c813f5117f8\">\n",
              "    <div class=\"colab-df-container\">\n",
              "      <div>\n",
              "<style scoped>\n",
              "    .dataframe tbody tr th:only-of-type {\n",
              "        vertical-align: middle;\n",
              "    }\n",
              "\n",
              "    .dataframe tbody tr th {\n",
              "        vertical-align: top;\n",
              "    }\n",
              "\n",
              "    .dataframe thead th {\n",
              "        text-align: right;\n",
              "    }\n",
              "</style>\n",
              "<table border=\"1\" class=\"dataframe\">\n",
              "  <thead>\n",
              "    <tr style=\"text-align: right;\">\n",
              "      <th></th>\n",
              "      <th>title</th>\n",
              "      <th>Inventory Location:</th>\n",
              "      <th>Model Code:</th>\n",
              "      <th>Year:</th>\n",
              "      <th>Transmission:</th>\n",
              "      <th>Color:</th>\n",
              "      <th>Drive:</th>\n",
              "      <th>Door:</th>\n",
              "      <th>Steering:</th>\n",
              "      <th>Seats:</th>\n",
              "      <th>...</th>\n",
              "      <th>Alloy Wheels</th>\n",
              "      <th>Fog Lights</th>\n",
              "      <th>Auto Air Conditioner</th>\n",
              "      <th>Aero</th>\n",
              "      <th>HID</th>\n",
              "      <th>Centralized Door Lock</th>\n",
              "      <th>Push Start</th>\n",
              "      <th>Spare Key</th>\n",
              "      <th>LED</th>\n",
              "      <th>Steering Switch</th>\n",
              "    </tr>\n",
              "  </thead>\n",
              "  <tbody>\n",
              "    <tr>\n",
              "      <th>0</th>\n",
              "      <td>TOYOTA VITZ 2017/7 F</td>\n",
              "      <td>Yokohama - Japan</td>\n",
              "      <td>DBA-KSP130</td>\n",
              "      <td>2017/7</td>\n",
              "      <td>AT</td>\n",
              "      <td>Black</td>\n",
              "      <td>2WD</td>\n",
              "      <td>5</td>\n",
              "      <td>RHD</td>\n",
              "      <td>5</td>\n",
              "      <td>...</td>\n",
              "      <td>0.0</td>\n",
              "      <td>0.0</td>\n",
              "      <td>0.0</td>\n",
              "      <td>0.0</td>\n",
              "      <td>0.0</td>\n",
              "      <td>0.0</td>\n",
              "      <td>0.0</td>\n",
              "      <td>0.0</td>\n",
              "      <td>0.0</td>\n",
              "      <td>0.0</td>\n",
              "    </tr>\n",
              "    <tr>\n",
              "      <th>1</th>\n",
              "      <td>TOYOTA VITZ 2017/6 F</td>\n",
              "      <td>Hakata - Japan</td>\n",
              "      <td>DBA-KSP130</td>\n",
              "      <td>2017/6</td>\n",
              "      <td>AT</td>\n",
              "      <td>GRAY(D)</td>\n",
              "      <td>2WD</td>\n",
              "      <td>5</td>\n",
              "      <td>RHD</td>\n",
              "      <td></td>\n",
              "      <td>...</td>\n",
              "      <td>0.0</td>\n",
              "      <td>0.0</td>\n",
              "      <td>0.0</td>\n",
              "      <td>0.0</td>\n",
              "      <td>0.0</td>\n",
              "      <td>0.0</td>\n",
              "      <td>0.0</td>\n",
              "      <td>0.0</td>\n",
              "      <td>0.0</td>\n",
              "      <td>0.0</td>\n",
              "    </tr>\n",
              "  </tbody>\n",
              "</table>\n",
              "<p>2 rows × 48 columns</p>\n",
              "</div>\n",
              "      <button class=\"colab-df-convert\" onclick=\"convertToInteractive('df-a0da8248-250f-4219-87d9-5c813f5117f8')\"\n",
              "              title=\"Convert this dataframe to an interactive table.\"\n",
              "              style=\"display:none;\">\n",
              "        \n",
              "  <svg xmlns=\"http://www.w3.org/2000/svg\" height=\"24px\"viewBox=\"0 0 24 24\"\n",
              "       width=\"24px\">\n",
              "    <path d=\"M0 0h24v24H0V0z\" fill=\"none\"/>\n",
              "    <path d=\"M18.56 5.44l.94 2.06.94-2.06 2.06-.94-2.06-.94-.94-2.06-.94 2.06-2.06.94zm-11 1L8.5 8.5l.94-2.06 2.06-.94-2.06-.94L8.5 2.5l-.94 2.06-2.06.94zm10 10l.94 2.06.94-2.06 2.06-.94-2.06-.94-.94-2.06-.94 2.06-2.06.94z\"/><path d=\"M17.41 7.96l-1.37-1.37c-.4-.4-.92-.59-1.43-.59-.52 0-1.04.2-1.43.59L10.3 9.45l-7.72 7.72c-.78.78-.78 2.05 0 2.83L4 21.41c.39.39.9.59 1.41.59.51 0 1.02-.2 1.41-.59l7.78-7.78 2.81-2.81c.8-.78.8-2.07 0-2.86zM5.41 20L4 18.59l7.72-7.72 1.47 1.35L5.41 20z\"/>\n",
              "  </svg>\n",
              "      </button>\n",
              "      \n",
              "  <style>\n",
              "    .colab-df-container {\n",
              "      display:flex;\n",
              "      flex-wrap:wrap;\n",
              "      gap: 12px;\n",
              "    }\n",
              "\n",
              "    .colab-df-convert {\n",
              "      background-color: #E8F0FE;\n",
              "      border: none;\n",
              "      border-radius: 50%;\n",
              "      cursor: pointer;\n",
              "      display: none;\n",
              "      fill: #1967D2;\n",
              "      height: 32px;\n",
              "      padding: 0 0 0 0;\n",
              "      width: 32px;\n",
              "    }\n",
              "\n",
              "    .colab-df-convert:hover {\n",
              "      background-color: #E2EBFA;\n",
              "      box-shadow: 0px 1px 2px rgba(60, 64, 67, 0.3), 0px 1px 3px 1px rgba(60, 64, 67, 0.15);\n",
              "      fill: #174EA6;\n",
              "    }\n",
              "\n",
              "    [theme=dark] .colab-df-convert {\n",
              "      background-color: #3B4455;\n",
              "      fill: #D2E3FC;\n",
              "    }\n",
              "\n",
              "    [theme=dark] .colab-df-convert:hover {\n",
              "      background-color: #434B5C;\n",
              "      box-shadow: 0px 1px 3px 1px rgba(0, 0, 0, 0.15);\n",
              "      filter: drop-shadow(0px 1px 2px rgba(0, 0, 0, 0.3));\n",
              "      fill: #FFFFFF;\n",
              "    }\n",
              "  </style>\n",
              "\n",
              "      <script>\n",
              "        const buttonEl =\n",
              "          document.querySelector('#df-a0da8248-250f-4219-87d9-5c813f5117f8 button.colab-df-convert');\n",
              "        buttonEl.style.display =\n",
              "          google.colab.kernel.accessAllowed ? 'block' : 'none';\n",
              "\n",
              "        async function convertToInteractive(key) {\n",
              "          const element = document.querySelector('#df-a0da8248-250f-4219-87d9-5c813f5117f8');\n",
              "          const dataTable =\n",
              "            await google.colab.kernel.invokeFunction('convertToInteractive',\n",
              "                                                     [key], {});\n",
              "          if (!dataTable) return;\n",
              "\n",
              "          const docLinkHtml = 'Like what you see? Visit the ' +\n",
              "            '<a target=\"_blank\" href=https://colab.research.google.com/notebooks/data_table.ipynb>data table notebook</a>'\n",
              "            + ' to learn more about interactive tables.';\n",
              "          element.innerHTML = '';\n",
              "          dataTable['output_type'] = 'display_data';\n",
              "          await google.colab.output.renderOutput(dataTable, element);\n",
              "          const docLink = document.createElement('div');\n",
              "          docLink.innerHTML = docLinkHtml;\n",
              "          element.appendChild(docLink);\n",
              "        }\n",
              "      </script>\n",
              "    </div>\n",
              "  </div>\n",
              "  "
            ]
          },
          "metadata": {},
          "execution_count": 2078
        }
      ]
    },
    {
      "cell_type": "markdown",
      "source": [
        "### Inventory location\n",
        "\n",
        "Does the location of the car affect its price? Without looking at the data, we would hypothesize that it does since the further away from the port a city , the overheads are greater to get it to port. As such, we will keep this feature."
      ],
      "metadata": {
        "id": "cf6UNnYh_NyE"
      }
    },
    {
      "cell_type": "code",
      "source": [
        "df['Inventory Location:'].describe()"
      ],
      "metadata": {
        "colab": {
          "base_uri": "https://localhost:8080/"
        },
        "id": "_N1KJVqv_GlM",
        "outputId": "8b435997-54aa-41df-a5f1-abaaf523b6b9"
      },
      "execution_count": 2079,
      "outputs": [
        {
          "output_type": "execute_result",
          "data": {
            "text/plain": [
              "count                252\n",
              "unique                42\n",
              "top       Hakata - Japan\n",
              "freq                  24\n",
              "Name: Inventory Location:, dtype: object"
            ]
          },
          "metadata": {},
          "execution_count": 2079
        }
      ]
    },
    {
      "cell_type": "markdown",
      "source": [
        "We do not have any missing values, however we need to ensure that every location os represented once. For example pandas will take  Hakata - Japan and  hakata - Japan as two distinct locations\n"
      ],
      "metadata": {
        "id": "p9t_s8VrAow0"
      }
    },
    {
      "cell_type": "code",
      "source": [
        "locations = df['Inventory Location:'].unique() "
      ],
      "metadata": {
        "id": "JLP4atZZAVYy"
      },
      "execution_count": 2080,
      "outputs": []
    },
    {
      "cell_type": "code",
      "source": [
        "locations"
      ],
      "metadata": {
        "colab": {
          "base_uri": "https://localhost:8080/"
        },
        "id": "rPnzZ-1GBLtw",
        "outputId": "646ff261-fae2-4e9a-aef4-db1eda821823"
      },
      "execution_count": 2081,
      "outputs": [
        {
          "output_type": "execute_result",
          "data": {
            "text/plain": [
              "array(['Yokohama - Japan', 'Hakata - Japan', 'Kobe - Japan',\n",
              "       'Nagoya - Japan', 'Fukuoka - Japan', 'Mie - Japan',\n",
              "       'Osaka - Japan', 'Chiba - Japan', 'Miyazaki - Japan',\n",
              "       'Hiroshima - Japan', 'Aichi - Japan', 'Hokkaido - Japan',\n",
              "       'Saitama - Japan', 'Hyogo - Japan', 'Tochigi - Japan',\n",
              "       'Miyagi - Japan', 'Akita - Japan', 'Shimane - Japan',\n",
              "       'Nagano - Japan', 'Okayama - Japan', 'Tokyo - Japan',\n",
              "       'Kyoto - Japan', 'Shizuoka - Japan', 'Tottori - Japan',\n",
              "       'Kumamoto - Japan', 'Ishikawa - Japan', 'Gunma - Japan',\n",
              "       'Niigata - Japan', 'Iwate - Japan', 'Nara - Japan',\n",
              "       'Yamanashi - Japan', 'Aomori - Japan', 'Fukui - Japan',\n",
              "       'Kanagawa - Japan', 'Ibaraki - Japan', 'Kagoshima - Japan',\n",
              "       'Ehime - Japan', 'Shiga - Japan', 'Toyama - Japan',\n",
              "       'Kagawa - Japan', 'Yamagata - Japan', 'Gifu - Japan'], dtype=object)"
            ]
          },
          "metadata": {},
          "execution_count": 2081
        }
      ]
    },
    {
      "cell_type": "markdown",
      "source": [
        "One way to verify this would be to turn everything to lowercase"
      ],
      "metadata": {
        "id": "9BAVUMEpBT7w"
      }
    },
    {
      "cell_type": "code",
      "source": [
        "locations_lower = [x.lower() for x in locations]"
      ],
      "metadata": {
        "id": "2-opyjPNBMkI"
      },
      "execution_count": 2082,
      "outputs": []
    },
    {
      "cell_type": "code",
      "source": [
        "locations_lower"
      ],
      "metadata": {
        "colab": {
          "base_uri": "https://localhost:8080/"
        },
        "id": "RqybNRZfCFJd",
        "outputId": "62dbbd95-f778-473f-932a-ee35cb4470a7"
      },
      "execution_count": 2083,
      "outputs": [
        {
          "output_type": "execute_result",
          "data": {
            "text/plain": [
              "['yokohama - japan',\n",
              " 'hakata - japan',\n",
              " 'kobe - japan',\n",
              " 'nagoya - japan',\n",
              " 'fukuoka - japan',\n",
              " 'mie - japan',\n",
              " 'osaka - japan',\n",
              " 'chiba - japan',\n",
              " 'miyazaki - japan',\n",
              " 'hiroshima - japan',\n",
              " 'aichi - japan',\n",
              " 'hokkaido - japan',\n",
              " 'saitama - japan',\n",
              " 'hyogo - japan',\n",
              " 'tochigi - japan',\n",
              " 'miyagi - japan',\n",
              " 'akita - japan',\n",
              " 'shimane - japan',\n",
              " 'nagano - japan',\n",
              " 'okayama - japan',\n",
              " 'tokyo - japan',\n",
              " 'kyoto - japan',\n",
              " 'shizuoka - japan',\n",
              " 'tottori - japan',\n",
              " 'kumamoto - japan',\n",
              " 'ishikawa - japan',\n",
              " 'gunma - japan',\n",
              " 'niigata - japan',\n",
              " 'iwate - japan',\n",
              " 'nara - japan',\n",
              " 'yamanashi - japan',\n",
              " 'aomori - japan',\n",
              " 'fukui - japan',\n",
              " 'kanagawa - japan',\n",
              " 'ibaraki - japan',\n",
              " 'kagoshima - japan',\n",
              " 'ehime - japan',\n",
              " 'shiga - japan',\n",
              " 'toyama - japan',\n",
              " 'kagawa - japan',\n",
              " 'yamagata - japan',\n",
              " 'gifu - japan']"
            ]
          },
          "metadata": {},
          "execution_count": 2083
        }
      ]
    },
    {
      "cell_type": "markdown",
      "source": [
        "Next we check if we have duplicates using sets."
      ],
      "metadata": {
        "id": "R8lvkR1kCPV-"
      }
    },
    {
      "cell_type": "code",
      "source": [
        "set([loc for loc in locations_lower if locations_lower.count(loc) > 1])"
      ],
      "metadata": {
        "colab": {
          "base_uri": "https://localhost:8080/"
        },
        "id": "--QgsWc1D_ka",
        "outputId": "85d8f437-a1d0-4fbe-b8ff-a31bd041b894"
      },
      "execution_count": 2084,
      "outputs": [
        {
          "output_type": "execute_result",
          "data": {
            "text/plain": [
              "set()"
            ]
          },
          "metadata": {},
          "execution_count": 2084
        }
      ]
    },
    {
      "cell_type": "markdown",
      "source": [
        "Given that we do not have duplicates, we can further verify by just geeting the location and dropping the japan"
      ],
      "metadata": {
        "id": "3fpwowK6EuVC"
      }
    },
    {
      "cell_type": "code",
      "source": [
        "cities = list(map(lambda st: str.replace(st, \"- japan\", \"\"), locations_lower))\n",
        "cities"
      ],
      "metadata": {
        "colab": {
          "base_uri": "https://localhost:8080/"
        },
        "id": "0PIwF6WID1xZ",
        "outputId": "c4ca8c5c-f5cb-4204-db33-0f8644a2e479"
      },
      "execution_count": 2085,
      "outputs": [
        {
          "output_type": "execute_result",
          "data": {
            "text/plain": [
              "['yokohama ',\n",
              " 'hakata ',\n",
              " 'kobe ',\n",
              " 'nagoya ',\n",
              " 'fukuoka ',\n",
              " 'mie ',\n",
              " 'osaka ',\n",
              " 'chiba ',\n",
              " 'miyazaki ',\n",
              " 'hiroshima ',\n",
              " 'aichi ',\n",
              " 'hokkaido ',\n",
              " 'saitama ',\n",
              " 'hyogo ',\n",
              " 'tochigi ',\n",
              " 'miyagi ',\n",
              " 'akita ',\n",
              " 'shimane ',\n",
              " 'nagano ',\n",
              " 'okayama ',\n",
              " 'tokyo ',\n",
              " 'kyoto ',\n",
              " 'shizuoka ',\n",
              " 'tottori ',\n",
              " 'kumamoto ',\n",
              " 'ishikawa ',\n",
              " 'gunma ',\n",
              " 'niigata ',\n",
              " 'iwate ',\n",
              " 'nara ',\n",
              " 'yamanashi ',\n",
              " 'aomori ',\n",
              " 'fukui ',\n",
              " 'kanagawa ',\n",
              " 'ibaraki ',\n",
              " 'kagoshima ',\n",
              " 'ehime ',\n",
              " 'shiga ',\n",
              " 'toyama ',\n",
              " 'kagawa ',\n",
              " 'yamagata ',\n",
              " 'gifu ']"
            ]
          },
          "metadata": {},
          "execution_count": 2085
        }
      ]
    },
    {
      "cell_type": "code",
      "source": [
        "cities = [x.strip(' ') for x in cities]\n",
        "cities"
      ],
      "metadata": {
        "colab": {
          "base_uri": "https://localhost:8080/"
        },
        "id": "k4UNnUU_F3bw",
        "outputId": "283fbfc8-3ca5-47f1-9b26-faf45c44b705"
      },
      "execution_count": 2086,
      "outputs": [
        {
          "output_type": "execute_result",
          "data": {
            "text/plain": [
              "['yokohama',\n",
              " 'hakata',\n",
              " 'kobe',\n",
              " 'nagoya',\n",
              " 'fukuoka',\n",
              " 'mie',\n",
              " 'osaka',\n",
              " 'chiba',\n",
              " 'miyazaki',\n",
              " 'hiroshima',\n",
              " 'aichi',\n",
              " 'hokkaido',\n",
              " 'saitama',\n",
              " 'hyogo',\n",
              " 'tochigi',\n",
              " 'miyagi',\n",
              " 'akita',\n",
              " 'shimane',\n",
              " 'nagano',\n",
              " 'okayama',\n",
              " 'tokyo',\n",
              " 'kyoto',\n",
              " 'shizuoka',\n",
              " 'tottori',\n",
              " 'kumamoto',\n",
              " 'ishikawa',\n",
              " 'gunma',\n",
              " 'niigata',\n",
              " 'iwate',\n",
              " 'nara',\n",
              " 'yamanashi',\n",
              " 'aomori',\n",
              " 'fukui',\n",
              " 'kanagawa',\n",
              " 'ibaraki',\n",
              " 'kagoshima',\n",
              " 'ehime',\n",
              " 'shiga',\n",
              " 'toyama',\n",
              " 'kagawa',\n",
              " 'yamagata',\n",
              " 'gifu']"
            ]
          },
          "metadata": {},
          "execution_count": 2086
        }
      ]
    },
    {
      "cell_type": "code",
      "source": [
        "set([loc for loc in cities if cities.count(loc) > 1])"
      ],
      "metadata": {
        "colab": {
          "base_uri": "https://localhost:8080/"
        },
        "id": "Nxn0pw9rG4GS",
        "outputId": "df3fa596-81da-49b5-d14a-6bbed49f186c"
      },
      "execution_count": 2087,
      "outputs": [
        {
          "output_type": "execute_result",
          "data": {
            "text/plain": [
              "set()"
            ]
          },
          "metadata": {},
          "execution_count": 2087
        }
      ]
    },
    {
      "cell_type": "markdown",
      "source": [
        "Now that we are sure we do not have duplicates we can replace the initial features with the cities values"
      ],
      "metadata": {
        "id": "Y66ZjuFRG9zS"
      }
    },
    {
      "cell_type": "code",
      "source": [
        "df['Inventory Location:'] = df['Inventory Location:'].replace(\n",
        "    to_replace=locations, \n",
        "    value=cities)"
      ],
      "metadata": {
        "id": "8X9CFZEzG9I3"
      },
      "execution_count": 2088,
      "outputs": []
    },
    {
      "cell_type": "code",
      "source": [
        "df.head()"
      ],
      "metadata": {
        "colab": {
          "base_uri": "https://localhost:8080/",
          "height": 280
        },
        "id": "C-iR0FW5Ho9f",
        "outputId": "0ae1ad49-71e0-4fb4-96d2-7a9993b9b4d1"
      },
      "execution_count": 2089,
      "outputs": [
        {
          "output_type": "execute_result",
          "data": {
            "text/plain": [
              "                              title Inventory Location: Model Code:   Year:  \\\n",
              "0              TOYOTA VITZ 2017/7 F            yokohama  DBA-KSP130  2017/7   \n",
              "1              TOYOTA VITZ 2017/6 F              hakata  DBA-KSP130  2017/6   \n",
              "2         TOYOTA VITZ 2016/1 JEWELA              hakata  DBA-NSP130  2016/1   \n",
              "3              TOYOTA VITZ 2016/6 F                kobe  DBA-KSP130  2016/6   \n",
              "4  TOYOTA VITZ 2016/9 F LED EDITION              hakata  DBA-NSP130  2016/9   \n",
              "\n",
              "  Transmission:   Color: Drive: Door: Steering: Seats:  ... Alloy Wheels  \\\n",
              "0            AT    Black    2WD     5       RHD      5  ...          0.0   \n",
              "1            AT  GRAY(D)    2WD     5       RHD         ...          0.0   \n",
              "2            AT     Wine    2WD     5       RHD      5  ...          0.0   \n",
              "3            AT    White    2WD     5       RHD      5  ...          0.0   \n",
              "4            AT    Pearl    2WD     5       RHD      5  ...          0.0   \n",
              "\n",
              "  Fog Lights Auto Air Conditioner Aero  HID Centralized Door Lock Push Start  \\\n",
              "0        0.0                  0.0  0.0  0.0                   0.0        0.0   \n",
              "1        0.0                  0.0  0.0  0.0                   0.0        0.0   \n",
              "2        0.0                  0.0  0.0  0.0                   0.0        0.0   \n",
              "3        0.0                  0.0  0.0  0.0                   0.0        0.0   \n",
              "4        0.0                  0.0  0.0  0.0                   0.0        0.0   \n",
              "\n",
              "  Spare Key  LED  Steering Switch  \n",
              "0       0.0  0.0              0.0  \n",
              "1       0.0  0.0              0.0  \n",
              "2       0.0  0.0              0.0  \n",
              "3       0.0  0.0              0.0  \n",
              "4       0.0  0.0              0.0  \n",
              "\n",
              "[5 rows x 48 columns]"
            ],
            "text/html": [
              "\n",
              "  <div id=\"df-139a5592-ba78-446f-a5af-c156882ed801\">\n",
              "    <div class=\"colab-df-container\">\n",
              "      <div>\n",
              "<style scoped>\n",
              "    .dataframe tbody tr th:only-of-type {\n",
              "        vertical-align: middle;\n",
              "    }\n",
              "\n",
              "    .dataframe tbody tr th {\n",
              "        vertical-align: top;\n",
              "    }\n",
              "\n",
              "    .dataframe thead th {\n",
              "        text-align: right;\n",
              "    }\n",
              "</style>\n",
              "<table border=\"1\" class=\"dataframe\">\n",
              "  <thead>\n",
              "    <tr style=\"text-align: right;\">\n",
              "      <th></th>\n",
              "      <th>title</th>\n",
              "      <th>Inventory Location:</th>\n",
              "      <th>Model Code:</th>\n",
              "      <th>Year:</th>\n",
              "      <th>Transmission:</th>\n",
              "      <th>Color:</th>\n",
              "      <th>Drive:</th>\n",
              "      <th>Door:</th>\n",
              "      <th>Steering:</th>\n",
              "      <th>Seats:</th>\n",
              "      <th>...</th>\n",
              "      <th>Alloy Wheels</th>\n",
              "      <th>Fog Lights</th>\n",
              "      <th>Auto Air Conditioner</th>\n",
              "      <th>Aero</th>\n",
              "      <th>HID</th>\n",
              "      <th>Centralized Door Lock</th>\n",
              "      <th>Push Start</th>\n",
              "      <th>Spare Key</th>\n",
              "      <th>LED</th>\n",
              "      <th>Steering Switch</th>\n",
              "    </tr>\n",
              "  </thead>\n",
              "  <tbody>\n",
              "    <tr>\n",
              "      <th>0</th>\n",
              "      <td>TOYOTA VITZ 2017/7 F</td>\n",
              "      <td>yokohama</td>\n",
              "      <td>DBA-KSP130</td>\n",
              "      <td>2017/7</td>\n",
              "      <td>AT</td>\n",
              "      <td>Black</td>\n",
              "      <td>2WD</td>\n",
              "      <td>5</td>\n",
              "      <td>RHD</td>\n",
              "      <td>5</td>\n",
              "      <td>...</td>\n",
              "      <td>0.0</td>\n",
              "      <td>0.0</td>\n",
              "      <td>0.0</td>\n",
              "      <td>0.0</td>\n",
              "      <td>0.0</td>\n",
              "      <td>0.0</td>\n",
              "      <td>0.0</td>\n",
              "      <td>0.0</td>\n",
              "      <td>0.0</td>\n",
              "      <td>0.0</td>\n",
              "    </tr>\n",
              "    <tr>\n",
              "      <th>1</th>\n",
              "      <td>TOYOTA VITZ 2017/6 F</td>\n",
              "      <td>hakata</td>\n",
              "      <td>DBA-KSP130</td>\n",
              "      <td>2017/6</td>\n",
              "      <td>AT</td>\n",
              "      <td>GRAY(D)</td>\n",
              "      <td>2WD</td>\n",
              "      <td>5</td>\n",
              "      <td>RHD</td>\n",
              "      <td></td>\n",
              "      <td>...</td>\n",
              "      <td>0.0</td>\n",
              "      <td>0.0</td>\n",
              "      <td>0.0</td>\n",
              "      <td>0.0</td>\n",
              "      <td>0.0</td>\n",
              "      <td>0.0</td>\n",
              "      <td>0.0</td>\n",
              "      <td>0.0</td>\n",
              "      <td>0.0</td>\n",
              "      <td>0.0</td>\n",
              "    </tr>\n",
              "    <tr>\n",
              "      <th>2</th>\n",
              "      <td>TOYOTA VITZ 2016/1 JEWELA</td>\n",
              "      <td>hakata</td>\n",
              "      <td>DBA-NSP130</td>\n",
              "      <td>2016/1</td>\n",
              "      <td>AT</td>\n",
              "      <td>Wine</td>\n",
              "      <td>2WD</td>\n",
              "      <td>5</td>\n",
              "      <td>RHD</td>\n",
              "      <td>5</td>\n",
              "      <td>...</td>\n",
              "      <td>0.0</td>\n",
              "      <td>0.0</td>\n",
              "      <td>0.0</td>\n",
              "      <td>0.0</td>\n",
              "      <td>0.0</td>\n",
              "      <td>0.0</td>\n",
              "      <td>0.0</td>\n",
              "      <td>0.0</td>\n",
              "      <td>0.0</td>\n",
              "      <td>0.0</td>\n",
              "    </tr>\n",
              "    <tr>\n",
              "      <th>3</th>\n",
              "      <td>TOYOTA VITZ 2016/6 F</td>\n",
              "      <td>kobe</td>\n",
              "      <td>DBA-KSP130</td>\n",
              "      <td>2016/6</td>\n",
              "      <td>AT</td>\n",
              "      <td>White</td>\n",
              "      <td>2WD</td>\n",
              "      <td>5</td>\n",
              "      <td>RHD</td>\n",
              "      <td>5</td>\n",
              "      <td>...</td>\n",
              "      <td>0.0</td>\n",
              "      <td>0.0</td>\n",
              "      <td>0.0</td>\n",
              "      <td>0.0</td>\n",
              "      <td>0.0</td>\n",
              "      <td>0.0</td>\n",
              "      <td>0.0</td>\n",
              "      <td>0.0</td>\n",
              "      <td>0.0</td>\n",
              "      <td>0.0</td>\n",
              "    </tr>\n",
              "    <tr>\n",
              "      <th>4</th>\n",
              "      <td>TOYOTA VITZ 2016/9 F LED EDITION</td>\n",
              "      <td>hakata</td>\n",
              "      <td>DBA-NSP130</td>\n",
              "      <td>2016/9</td>\n",
              "      <td>AT</td>\n",
              "      <td>Pearl</td>\n",
              "      <td>2WD</td>\n",
              "      <td>5</td>\n",
              "      <td>RHD</td>\n",
              "      <td>5</td>\n",
              "      <td>...</td>\n",
              "      <td>0.0</td>\n",
              "      <td>0.0</td>\n",
              "      <td>0.0</td>\n",
              "      <td>0.0</td>\n",
              "      <td>0.0</td>\n",
              "      <td>0.0</td>\n",
              "      <td>0.0</td>\n",
              "      <td>0.0</td>\n",
              "      <td>0.0</td>\n",
              "      <td>0.0</td>\n",
              "    </tr>\n",
              "  </tbody>\n",
              "</table>\n",
              "<p>5 rows × 48 columns</p>\n",
              "</div>\n",
              "      <button class=\"colab-df-convert\" onclick=\"convertToInteractive('df-139a5592-ba78-446f-a5af-c156882ed801')\"\n",
              "              title=\"Convert this dataframe to an interactive table.\"\n",
              "              style=\"display:none;\">\n",
              "        \n",
              "  <svg xmlns=\"http://www.w3.org/2000/svg\" height=\"24px\"viewBox=\"0 0 24 24\"\n",
              "       width=\"24px\">\n",
              "    <path d=\"M0 0h24v24H0V0z\" fill=\"none\"/>\n",
              "    <path d=\"M18.56 5.44l.94 2.06.94-2.06 2.06-.94-2.06-.94-.94-2.06-.94 2.06-2.06.94zm-11 1L8.5 8.5l.94-2.06 2.06-.94-2.06-.94L8.5 2.5l-.94 2.06-2.06.94zm10 10l.94 2.06.94-2.06 2.06-.94-2.06-.94-.94-2.06-.94 2.06-2.06.94z\"/><path d=\"M17.41 7.96l-1.37-1.37c-.4-.4-.92-.59-1.43-.59-.52 0-1.04.2-1.43.59L10.3 9.45l-7.72 7.72c-.78.78-.78 2.05 0 2.83L4 21.41c.39.39.9.59 1.41.59.51 0 1.02-.2 1.41-.59l7.78-7.78 2.81-2.81c.8-.78.8-2.07 0-2.86zM5.41 20L4 18.59l7.72-7.72 1.47 1.35L5.41 20z\"/>\n",
              "  </svg>\n",
              "      </button>\n",
              "      \n",
              "  <style>\n",
              "    .colab-df-container {\n",
              "      display:flex;\n",
              "      flex-wrap:wrap;\n",
              "      gap: 12px;\n",
              "    }\n",
              "\n",
              "    .colab-df-convert {\n",
              "      background-color: #E8F0FE;\n",
              "      border: none;\n",
              "      border-radius: 50%;\n",
              "      cursor: pointer;\n",
              "      display: none;\n",
              "      fill: #1967D2;\n",
              "      height: 32px;\n",
              "      padding: 0 0 0 0;\n",
              "      width: 32px;\n",
              "    }\n",
              "\n",
              "    .colab-df-convert:hover {\n",
              "      background-color: #E2EBFA;\n",
              "      box-shadow: 0px 1px 2px rgba(60, 64, 67, 0.3), 0px 1px 3px 1px rgba(60, 64, 67, 0.15);\n",
              "      fill: #174EA6;\n",
              "    }\n",
              "\n",
              "    [theme=dark] .colab-df-convert {\n",
              "      background-color: #3B4455;\n",
              "      fill: #D2E3FC;\n",
              "    }\n",
              "\n",
              "    [theme=dark] .colab-df-convert:hover {\n",
              "      background-color: #434B5C;\n",
              "      box-shadow: 0px 1px 3px 1px rgba(0, 0, 0, 0.15);\n",
              "      filter: drop-shadow(0px 1px 2px rgba(0, 0, 0, 0.3));\n",
              "      fill: #FFFFFF;\n",
              "    }\n",
              "  </style>\n",
              "\n",
              "      <script>\n",
              "        const buttonEl =\n",
              "          document.querySelector('#df-139a5592-ba78-446f-a5af-c156882ed801 button.colab-df-convert');\n",
              "        buttonEl.style.display =\n",
              "          google.colab.kernel.accessAllowed ? 'block' : 'none';\n",
              "\n",
              "        async function convertToInteractive(key) {\n",
              "          const element = document.querySelector('#df-139a5592-ba78-446f-a5af-c156882ed801');\n",
              "          const dataTable =\n",
              "            await google.colab.kernel.invokeFunction('convertToInteractive',\n",
              "                                                     [key], {});\n",
              "          if (!dataTable) return;\n",
              "\n",
              "          const docLinkHtml = 'Like what you see? Visit the ' +\n",
              "            '<a target=\"_blank\" href=https://colab.research.google.com/notebooks/data_table.ipynb>data table notebook</a>'\n",
              "            + ' to learn more about interactive tables.';\n",
              "          element.innerHTML = '';\n",
              "          dataTable['output_type'] = 'display_data';\n",
              "          await google.colab.output.renderOutput(dataTable, element);\n",
              "          const docLink = document.createElement('div');\n",
              "          docLink.innerHTML = docLinkHtml;\n",
              "          element.appendChild(docLink);\n",
              "        }\n",
              "      </script>\n",
              "    </div>\n",
              "  </div>\n",
              "  "
            ]
          },
          "metadata": {},
          "execution_count": 2089
        }
      ]
    },
    {
      "cell_type": "markdown",
      "source": [
        "### Model Code\n",
        "\n"
      ],
      "metadata": {
        "id": "aA_gq8inJG3y"
      }
    },
    {
      "cell_type": "code",
      "source": [
        "df['Model Code:'].describe()"
      ],
      "metadata": {
        "colab": {
          "base_uri": "https://localhost:8080/"
        },
        "id": "8Bp2IpgRJXmc",
        "outputId": "fb823a62-4965-4b68-b296-905d5e2873f5"
      },
      "execution_count": 2090,
      "outputs": [
        {
          "output_type": "execute_result",
          "data": {
            "text/plain": [
              "count             45\n",
              "unique             3\n",
              "top       DBA-KSP130\n",
              "freq              27\n",
              "Name: Model Code:, dtype: object"
            ]
          },
          "metadata": {},
          "execution_count": 2090
        }
      ]
    },
    {
      "cell_type": "code",
      "source": [
        "df['Model Code:'].isnull().sum().sum()"
      ],
      "metadata": {
        "colab": {
          "base_uri": "https://localhost:8080/"
        },
        "id": "8g9G9E0cJd1F",
        "outputId": "c096d607-c47b-4a02-e1c9-a75e30ede1e3"
      },
      "execution_count": 2091,
      "outputs": [
        {
          "output_type": "execute_result",
          "data": {
            "text/plain": [
              "207"
            ]
          },
          "metadata": {},
          "execution_count": 2091
        }
      ]
    },
    {
      "cell_type": "markdown",
      "source": [
        "Out of 238 vehicles only 37 have a model code. This not enoguh data to go by and thus we drop this column"
      ],
      "metadata": {
        "id": "tPyGlTbhJz32"
      }
    },
    {
      "cell_type": "code",
      "source": [
        "df.drop(['Model Code:'], axis = 1, inplace = True) "
      ],
      "metadata": {
        "id": "718zMBFwJvwH"
      },
      "execution_count": 2092,
      "outputs": []
    },
    {
      "cell_type": "code",
      "source": [
        "df.head()"
      ],
      "metadata": {
        "colab": {
          "base_uri": "https://localhost:8080/",
          "height": 280
        },
        "id": "90-0yRjiJ930",
        "outputId": "9b0488a3-d64e-4cb0-ce45-5dcb69ff0375"
      },
      "execution_count": 2093,
      "outputs": [
        {
          "output_type": "execute_result",
          "data": {
            "text/plain": [
              "                              title Inventory Location:   Year: Transmission:  \\\n",
              "0              TOYOTA VITZ 2017/7 F            yokohama  2017/7            AT   \n",
              "1              TOYOTA VITZ 2017/6 F              hakata  2017/6            AT   \n",
              "2         TOYOTA VITZ 2016/1 JEWELA              hakata  2016/1            AT   \n",
              "3              TOYOTA VITZ 2016/6 F                kobe  2016/6            AT   \n",
              "4  TOYOTA VITZ 2016/9 F LED EDITION              hakata  2016/9            AT   \n",
              "\n",
              "    Color: Drive: Door: Steering: Seats: Engine Type:  ... Alloy Wheels  \\\n",
              "0    Black    2WD     5       RHD      5          1KR  ...          0.0   \n",
              "1  GRAY(D)    2WD     5       RHD                      ...          0.0   \n",
              "2     Wine    2WD     5       RHD      5          1NR  ...          0.0   \n",
              "3    White    2WD     5       RHD      5          1KR  ...          0.0   \n",
              "4    Pearl    2WD     5       RHD      5          1NR  ...          0.0   \n",
              "\n",
              "  Fog Lights Auto Air Conditioner Aero  HID Centralized Door Lock Push Start  \\\n",
              "0        0.0                  0.0  0.0  0.0                   0.0        0.0   \n",
              "1        0.0                  0.0  0.0  0.0                   0.0        0.0   \n",
              "2        0.0                  0.0  0.0  0.0                   0.0        0.0   \n",
              "3        0.0                  0.0  0.0  0.0                   0.0        0.0   \n",
              "4        0.0                  0.0  0.0  0.0                   0.0        0.0   \n",
              "\n",
              "  Spare Key  LED  Steering Switch  \n",
              "0       0.0  0.0              0.0  \n",
              "1       0.0  0.0              0.0  \n",
              "2       0.0  0.0              0.0  \n",
              "3       0.0  0.0              0.0  \n",
              "4       0.0  0.0              0.0  \n",
              "\n",
              "[5 rows x 47 columns]"
            ],
            "text/html": [
              "\n",
              "  <div id=\"df-5043168c-7fd3-444e-a982-e7a2dbe563c9\">\n",
              "    <div class=\"colab-df-container\">\n",
              "      <div>\n",
              "<style scoped>\n",
              "    .dataframe tbody tr th:only-of-type {\n",
              "        vertical-align: middle;\n",
              "    }\n",
              "\n",
              "    .dataframe tbody tr th {\n",
              "        vertical-align: top;\n",
              "    }\n",
              "\n",
              "    .dataframe thead th {\n",
              "        text-align: right;\n",
              "    }\n",
              "</style>\n",
              "<table border=\"1\" class=\"dataframe\">\n",
              "  <thead>\n",
              "    <tr style=\"text-align: right;\">\n",
              "      <th></th>\n",
              "      <th>title</th>\n",
              "      <th>Inventory Location:</th>\n",
              "      <th>Year:</th>\n",
              "      <th>Transmission:</th>\n",
              "      <th>Color:</th>\n",
              "      <th>Drive:</th>\n",
              "      <th>Door:</th>\n",
              "      <th>Steering:</th>\n",
              "      <th>Seats:</th>\n",
              "      <th>Engine Type:</th>\n",
              "      <th>...</th>\n",
              "      <th>Alloy Wheels</th>\n",
              "      <th>Fog Lights</th>\n",
              "      <th>Auto Air Conditioner</th>\n",
              "      <th>Aero</th>\n",
              "      <th>HID</th>\n",
              "      <th>Centralized Door Lock</th>\n",
              "      <th>Push Start</th>\n",
              "      <th>Spare Key</th>\n",
              "      <th>LED</th>\n",
              "      <th>Steering Switch</th>\n",
              "    </tr>\n",
              "  </thead>\n",
              "  <tbody>\n",
              "    <tr>\n",
              "      <th>0</th>\n",
              "      <td>TOYOTA VITZ 2017/7 F</td>\n",
              "      <td>yokohama</td>\n",
              "      <td>2017/7</td>\n",
              "      <td>AT</td>\n",
              "      <td>Black</td>\n",
              "      <td>2WD</td>\n",
              "      <td>5</td>\n",
              "      <td>RHD</td>\n",
              "      <td>5</td>\n",
              "      <td>1KR</td>\n",
              "      <td>...</td>\n",
              "      <td>0.0</td>\n",
              "      <td>0.0</td>\n",
              "      <td>0.0</td>\n",
              "      <td>0.0</td>\n",
              "      <td>0.0</td>\n",
              "      <td>0.0</td>\n",
              "      <td>0.0</td>\n",
              "      <td>0.0</td>\n",
              "      <td>0.0</td>\n",
              "      <td>0.0</td>\n",
              "    </tr>\n",
              "    <tr>\n",
              "      <th>1</th>\n",
              "      <td>TOYOTA VITZ 2017/6 F</td>\n",
              "      <td>hakata</td>\n",
              "      <td>2017/6</td>\n",
              "      <td>AT</td>\n",
              "      <td>GRAY(D)</td>\n",
              "      <td>2WD</td>\n",
              "      <td>5</td>\n",
              "      <td>RHD</td>\n",
              "      <td></td>\n",
              "      <td></td>\n",
              "      <td>...</td>\n",
              "      <td>0.0</td>\n",
              "      <td>0.0</td>\n",
              "      <td>0.0</td>\n",
              "      <td>0.0</td>\n",
              "      <td>0.0</td>\n",
              "      <td>0.0</td>\n",
              "      <td>0.0</td>\n",
              "      <td>0.0</td>\n",
              "      <td>0.0</td>\n",
              "      <td>0.0</td>\n",
              "    </tr>\n",
              "    <tr>\n",
              "      <th>2</th>\n",
              "      <td>TOYOTA VITZ 2016/1 JEWELA</td>\n",
              "      <td>hakata</td>\n",
              "      <td>2016/1</td>\n",
              "      <td>AT</td>\n",
              "      <td>Wine</td>\n",
              "      <td>2WD</td>\n",
              "      <td>5</td>\n",
              "      <td>RHD</td>\n",
              "      <td>5</td>\n",
              "      <td>1NR</td>\n",
              "      <td>...</td>\n",
              "      <td>0.0</td>\n",
              "      <td>0.0</td>\n",
              "      <td>0.0</td>\n",
              "      <td>0.0</td>\n",
              "      <td>0.0</td>\n",
              "      <td>0.0</td>\n",
              "      <td>0.0</td>\n",
              "      <td>0.0</td>\n",
              "      <td>0.0</td>\n",
              "      <td>0.0</td>\n",
              "    </tr>\n",
              "    <tr>\n",
              "      <th>3</th>\n",
              "      <td>TOYOTA VITZ 2016/6 F</td>\n",
              "      <td>kobe</td>\n",
              "      <td>2016/6</td>\n",
              "      <td>AT</td>\n",
              "      <td>White</td>\n",
              "      <td>2WD</td>\n",
              "      <td>5</td>\n",
              "      <td>RHD</td>\n",
              "      <td>5</td>\n",
              "      <td>1KR</td>\n",
              "      <td>...</td>\n",
              "      <td>0.0</td>\n",
              "      <td>0.0</td>\n",
              "      <td>0.0</td>\n",
              "      <td>0.0</td>\n",
              "      <td>0.0</td>\n",
              "      <td>0.0</td>\n",
              "      <td>0.0</td>\n",
              "      <td>0.0</td>\n",
              "      <td>0.0</td>\n",
              "      <td>0.0</td>\n",
              "    </tr>\n",
              "    <tr>\n",
              "      <th>4</th>\n",
              "      <td>TOYOTA VITZ 2016/9 F LED EDITION</td>\n",
              "      <td>hakata</td>\n",
              "      <td>2016/9</td>\n",
              "      <td>AT</td>\n",
              "      <td>Pearl</td>\n",
              "      <td>2WD</td>\n",
              "      <td>5</td>\n",
              "      <td>RHD</td>\n",
              "      <td>5</td>\n",
              "      <td>1NR</td>\n",
              "      <td>...</td>\n",
              "      <td>0.0</td>\n",
              "      <td>0.0</td>\n",
              "      <td>0.0</td>\n",
              "      <td>0.0</td>\n",
              "      <td>0.0</td>\n",
              "      <td>0.0</td>\n",
              "      <td>0.0</td>\n",
              "      <td>0.0</td>\n",
              "      <td>0.0</td>\n",
              "      <td>0.0</td>\n",
              "    </tr>\n",
              "  </tbody>\n",
              "</table>\n",
              "<p>5 rows × 47 columns</p>\n",
              "</div>\n",
              "      <button class=\"colab-df-convert\" onclick=\"convertToInteractive('df-5043168c-7fd3-444e-a982-e7a2dbe563c9')\"\n",
              "              title=\"Convert this dataframe to an interactive table.\"\n",
              "              style=\"display:none;\">\n",
              "        \n",
              "  <svg xmlns=\"http://www.w3.org/2000/svg\" height=\"24px\"viewBox=\"0 0 24 24\"\n",
              "       width=\"24px\">\n",
              "    <path d=\"M0 0h24v24H0V0z\" fill=\"none\"/>\n",
              "    <path d=\"M18.56 5.44l.94 2.06.94-2.06 2.06-.94-2.06-.94-.94-2.06-.94 2.06-2.06.94zm-11 1L8.5 8.5l.94-2.06 2.06-.94-2.06-.94L8.5 2.5l-.94 2.06-2.06.94zm10 10l.94 2.06.94-2.06 2.06-.94-2.06-.94-.94-2.06-.94 2.06-2.06.94z\"/><path d=\"M17.41 7.96l-1.37-1.37c-.4-.4-.92-.59-1.43-.59-.52 0-1.04.2-1.43.59L10.3 9.45l-7.72 7.72c-.78.78-.78 2.05 0 2.83L4 21.41c.39.39.9.59 1.41.59.51 0 1.02-.2 1.41-.59l7.78-7.78 2.81-2.81c.8-.78.8-2.07 0-2.86zM5.41 20L4 18.59l7.72-7.72 1.47 1.35L5.41 20z\"/>\n",
              "  </svg>\n",
              "      </button>\n",
              "      \n",
              "  <style>\n",
              "    .colab-df-container {\n",
              "      display:flex;\n",
              "      flex-wrap:wrap;\n",
              "      gap: 12px;\n",
              "    }\n",
              "\n",
              "    .colab-df-convert {\n",
              "      background-color: #E8F0FE;\n",
              "      border: none;\n",
              "      border-radius: 50%;\n",
              "      cursor: pointer;\n",
              "      display: none;\n",
              "      fill: #1967D2;\n",
              "      height: 32px;\n",
              "      padding: 0 0 0 0;\n",
              "      width: 32px;\n",
              "    }\n",
              "\n",
              "    .colab-df-convert:hover {\n",
              "      background-color: #E2EBFA;\n",
              "      box-shadow: 0px 1px 2px rgba(60, 64, 67, 0.3), 0px 1px 3px 1px rgba(60, 64, 67, 0.15);\n",
              "      fill: #174EA6;\n",
              "    }\n",
              "\n",
              "    [theme=dark] .colab-df-convert {\n",
              "      background-color: #3B4455;\n",
              "      fill: #D2E3FC;\n",
              "    }\n",
              "\n",
              "    [theme=dark] .colab-df-convert:hover {\n",
              "      background-color: #434B5C;\n",
              "      box-shadow: 0px 1px 3px 1px rgba(0, 0, 0, 0.15);\n",
              "      filter: drop-shadow(0px 1px 2px rgba(0, 0, 0, 0.3));\n",
              "      fill: #FFFFFF;\n",
              "    }\n",
              "  </style>\n",
              "\n",
              "      <script>\n",
              "        const buttonEl =\n",
              "          document.querySelector('#df-5043168c-7fd3-444e-a982-e7a2dbe563c9 button.colab-df-convert');\n",
              "        buttonEl.style.display =\n",
              "          google.colab.kernel.accessAllowed ? 'block' : 'none';\n",
              "\n",
              "        async function convertToInteractive(key) {\n",
              "          const element = document.querySelector('#df-5043168c-7fd3-444e-a982-e7a2dbe563c9');\n",
              "          const dataTable =\n",
              "            await google.colab.kernel.invokeFunction('convertToInteractive',\n",
              "                                                     [key], {});\n",
              "          if (!dataTable) return;\n",
              "\n",
              "          const docLinkHtml = 'Like what you see? Visit the ' +\n",
              "            '<a target=\"_blank\" href=https://colab.research.google.com/notebooks/data_table.ipynb>data table notebook</a>'\n",
              "            + ' to learn more about interactive tables.';\n",
              "          element.innerHTML = '';\n",
              "          dataTable['output_type'] = 'display_data';\n",
              "          await google.colab.output.renderOutput(dataTable, element);\n",
              "          const docLink = document.createElement('div');\n",
              "          docLink.innerHTML = docLinkHtml;\n",
              "          element.appendChild(docLink);\n",
              "        }\n",
              "      </script>\n",
              "    </div>\n",
              "  </div>\n",
              "  "
            ]
          },
          "metadata": {},
          "execution_count": 2093
        }
      ]
    },
    {
      "cell_type": "markdown",
      "source": [
        "### Year"
      ],
      "metadata": {
        "id": "5ssOUUxPKXT0"
      }
    },
    {
      "cell_type": "markdown",
      "source": [
        "At this point we can create a utility function that gives more info on a columns"
      ],
      "metadata": {
        "id": "kUJiwIjxKbhI"
      }
    },
    {
      "cell_type": "markdown",
      "source": [
        "#### Utility function : Check column details\n",
        "\n",
        "This function takes in a column and returns a description and the number of null values in the column"
      ],
      "metadata": {
        "id": "_-565EeQ3I59"
      }
    },
    {
      "cell_type": "code",
      "source": [
        "def check_column_details(column):\n",
        "    \"\"\"\n",
        "    This function takes in a column and returns a description and the number of null values in the column\n",
        "    \"\"\"\n",
        "    print(f'--------------------The description of {column}--------------------')\n",
        "    print(df[column].describe())\n",
        "    print(f'{column} has the following null values ')\n",
        "    num_null = df[column].isnull().sum().sum()\n",
        "    print(num_null)\n",
        " \n",
        "  \n"
      ],
      "metadata": {
        "id": "uExGGT02KV0l"
      },
      "execution_count": 2094,
      "outputs": []
    },
    {
      "cell_type": "code",
      "source": [
        "check_column_details('Year:')"
      ],
      "metadata": {
        "colab": {
          "base_uri": "https://localhost:8080/"
        },
        "id": "JXbqvIrVMFyJ",
        "outputId": "41c072f6-5b4b-4e0e-e4af-7b4ff15b881b"
      },
      "execution_count": 2095,
      "outputs": [
        {
          "output_type": "stream",
          "name": "stdout",
          "text": [
            "--------------------The description of Year:--------------------\n",
            "count         45\n",
            "unique        17\n",
            "top       2017/3\n",
            "freq          11\n",
            "Name: Year:, dtype: object\n",
            "Year: has the following null values \n",
            "207\n"
          ]
        }
      ]
    },
    {
      "cell_type": "markdown",
      "source": [
        "The year column has very few values. However, the title contains the year of the vehcicle. The assumption made here is that the seller indicated the year in the title and omitted it in the year field"
      ],
      "metadata": {
        "id": "DvefixntOiNo"
      }
    },
    {
      "cell_type": "code",
      "source": [
        "check_column_details('title')"
      ],
      "metadata": {
        "colab": {
          "base_uri": "https://localhost:8080/"
        },
        "id": "tOZq4uf0zG9c",
        "outputId": "4ea6269f-76d0-49a7-f2c8-c876ed954001"
      },
      "execution_count": 2096,
      "outputs": [
        {
          "output_type": "stream",
          "name": "stdout",
          "text": [
            "--------------------The description of title--------------------\n",
            "count                      252\n",
            "unique                     180\n",
            "top       TOYOTA VITZ 2017/3 F\n",
            "freq                        12\n",
            "Name: title, dtype: object\n",
            "title has the following null values \n",
            "0\n"
          ]
        }
      ]
    },
    {
      "cell_type": "markdown",
      "source": [
        "From the title we will extract all the years and if the year is not present we give the value zero"
      ],
      "metadata": {
        "id": "O44b5iG3zLgS"
      }
    },
    {
      "cell_type": "markdown",
      "source": [
        "#### Utility function : Get year\n",
        "\n",
        "Function takes in a string and extracts the year from the string. If the string contains an year the year is returned, if no year is found we return 0"
      ],
      "metadata": {
        "id": "PKc9WDpt3Y-K"
      }
    },
    {
      "cell_type": "code",
      "source": [
        "\n",
        "import re\n",
        "\n",
        "def get_year(title_with_year):\n",
        "  \"\"\"\n",
        "  Function takes in a string and extracts the year from the string. \n",
        "  If the string contains an year the year is returned, if no year is found we return 0\n",
        "  \n",
        "  \"\"\"\n",
        "  year_string = re.findall('.*([1-3][0-9]{3})', title_with_year)\n",
        "  \n",
        "  if len(year_string) > 0 :\n",
        "      return year_string[0]\n",
        "  else :\n",
        "      return '0'\n",
        "\n",
        "   "
      ],
      "metadata": {
        "id": "Hxh5VhR4r_ZB"
      },
      "execution_count": 2097,
      "outputs": []
    },
    {
      "cell_type": "code",
      "source": [
        "get_year('TOYOTA VITZ 2022/3 F')"
      ],
      "metadata": {
        "colab": {
          "base_uri": "https://localhost:8080/",
          "height": 35
        },
        "id": "vJr_jGQosR-a",
        "outputId": "9de72414-5c4a-4e91-d7aa-5d059e418cd1"
      },
      "execution_count": 2098,
      "outputs": [
        {
          "output_type": "execute_result",
          "data": {
            "text/plain": [
              "'2022'"
            ],
            "application/vnd.google.colaboratory.intrinsic+json": {
              "type": "string"
            }
          },
          "metadata": {},
          "execution_count": 2098
        }
      ]
    },
    {
      "cell_type": "code",
      "source": [
        "# apply the function to column\n",
        "df['Year_from_title'] = df['title'].apply(lambda t: get_year(t))"
      ],
      "metadata": {
        "id": "b5_GrD13xZqk"
      },
      "execution_count": 2099,
      "outputs": []
    },
    {
      "cell_type": "code",
      "source": [
        "check_column_details('Year_from_title')"
      ],
      "metadata": {
        "colab": {
          "base_uri": "https://localhost:8080/"
        },
        "id": "eTbygOHwzjh-",
        "outputId": "d26046eb-75cc-407f-e94c-0471e933ef3a"
      },
      "execution_count": 2100,
      "outputs": [
        {
          "output_type": "stream",
          "name": "stdout",
          "text": [
            "--------------------The description of Year_from_title--------------------\n",
            "count      252\n",
            "unique       5\n",
            "top       2017\n",
            "freq       109\n",
            "Name: Year_from_title, dtype: object\n",
            "Year_from_title has the following null values \n",
            "0\n"
          ]
        }
      ]
    },
    {
      "cell_type": "code",
      "source": [
        "# check zeros in the year\n",
        "df['Year_from_title'].value_counts()"
      ],
      "metadata": {
        "colab": {
          "base_uri": "https://localhost:8080/"
        },
        "id": "i6fvJygTzmCz",
        "outputId": "714662e6-3c2d-4e5b-c08e-63a93af6839a"
      },
      "execution_count": 2101,
      "outputs": [
        {
          "output_type": "execute_result",
          "data": {
            "text/plain": [
              "2017    109\n",
              "2018     62\n",
              "2016     40\n",
              "2019     37\n",
              "2020      4\n",
              "Name: Year_from_title, dtype: int64"
            ]
          },
          "metadata": {},
          "execution_count": 2101
        }
      ]
    },
    {
      "cell_type": "markdown",
      "source": [
        "Our hypothesis is thus true that the user indicated the year in the title of the vehicle. We can now drop the year column"
      ],
      "metadata": {
        "id": "d6Q-wg0x0LYb"
      }
    },
    {
      "cell_type": "code",
      "source": [
        "df.drop(['Year:','title'], axis = 1, inplace = True)"
      ],
      "metadata": {
        "id": "FH9TJ0pr0Eir"
      },
      "execution_count": 2102,
      "outputs": []
    },
    {
      "cell_type": "markdown",
      "source": [
        "### Transmission"
      ],
      "metadata": {
        "id": "1P4nMjnB07PG"
      }
    },
    {
      "cell_type": "markdown",
      "source": [
        "There are ideally three modes of transmission \n",
        "1. Automatic\n",
        "2. Manual\n",
        "3. Semi-automatic"
      ],
      "metadata": {
        "id": "CvgUEmoQ1dmt"
      }
    },
    {
      "cell_type": "code",
      "source": [
        "check_column_details('Transmission:')"
      ],
      "metadata": {
        "colab": {
          "base_uri": "https://localhost:8080/"
        },
        "id": "IW-FoIAP0lu1",
        "outputId": "92322438-c9bc-4b24-a1a1-a9a51661a58d"
      },
      "execution_count": 2103,
      "outputs": [
        {
          "output_type": "stream",
          "name": "stdout",
          "text": [
            "--------------------The description of Transmission:--------------------\n",
            "count     252\n",
            "unique      4\n",
            "top        AT\n",
            "freq      231\n",
            "Name: Transmission:, dtype: object\n",
            "Transmission: has the following null values \n",
            "0\n"
          ]
        }
      ]
    },
    {
      "cell_type": "code",
      "source": [
        "df['Transmission:'].value_counts()"
      ],
      "metadata": {
        "colab": {
          "base_uri": "https://localhost:8080/"
        },
        "id": "8JjTxTNm1Bh5",
        "outputId": "fabfccd7-71b9-4b6c-de56-fe9f854f867f"
      },
      "execution_count": 2104,
      "outputs": [
        {
          "output_type": "execute_result",
          "data": {
            "text/plain": [
              "AT     231\n",
              "        12\n",
              "MT       7\n",
              "5MT      2\n",
              "Name: Transmission:, dtype: int64"
            ]
          },
          "metadata": {},
          "execution_count": 2104
        }
      ]
    },
    {
      "cell_type": "code",
      "source": [
        "df['Transmission:'].unique()"
      ],
      "metadata": {
        "colab": {
          "base_uri": "https://localhost:8080/"
        },
        "id": "8DaZgTWi1RKQ",
        "outputId": "2552908f-d6cd-4972-841c-ff8277b82052"
      },
      "execution_count": 2105,
      "outputs": [
        {
          "output_type": "execute_result",
          "data": {
            "text/plain": [
              "array(['AT', '', 'MT', '5MT'], dtype=object)"
            ]
          },
          "metadata": {},
          "execution_count": 2105
        }
      ]
    },
    {
      "cell_type": "markdown",
      "source": [
        "Checking our transmission column we can see that there are 12 cars that do not have a mode of transmission. To deal with this we can make the assumption that most of the cars are automatic "
      ],
      "metadata": {
        "id": "g_xSJpWV1mrZ"
      }
    },
    {
      "cell_type": "code",
      "source": [
        "df['Transmission:'] = df[\"Transmission:\"].replace('',\"AT\")"
      ],
      "metadata": {
        "id": "A5GHqVrp1XQH"
      },
      "execution_count": 2106,
      "outputs": []
    },
    {
      "cell_type": "code",
      "source": [
        "df['Transmission:'].unique()"
      ],
      "metadata": {
        "colab": {
          "base_uri": "https://localhost:8080/"
        },
        "id": "hw2qg0w02gYe",
        "outputId": "05796c21-7cff-4b70-c0b4-dcf5ddf14e9e"
      },
      "execution_count": 2107,
      "outputs": [
        {
          "output_type": "execute_result",
          "data": {
            "text/plain": [
              "array(['AT', 'MT', '5MT'], dtype=object)"
            ]
          },
          "metadata": {},
          "execution_count": 2107
        }
      ]
    },
    {
      "cell_type": "code",
      "source": [
        "df['Transmission:'].value_counts()"
      ],
      "metadata": {
        "colab": {
          "base_uri": "https://localhost:8080/"
        },
        "id": "ijMbZ5cw2jOI",
        "outputId": "d615fbff-8cf5-4e45-f1eb-b55ba7e7cfe6"
      },
      "execution_count": 2108,
      "outputs": [
        {
          "output_type": "execute_result",
          "data": {
            "text/plain": [
              "AT     243\n",
              "MT       7\n",
              "5MT      2\n",
              "Name: Transmission:, dtype: int64"
            ]
          },
          "metadata": {},
          "execution_count": 2108
        }
      ]
    },
    {
      "cell_type": "markdown",
      "source": [
        "### Color\n",
        "\n",
        "Does the color of a vehicle influence the purchasing decision? Certainly yes! "
      ],
      "metadata": {
        "id": "o4Z8lzPK2z67"
      }
    },
    {
      "cell_type": "code",
      "source": [
        "check_column_details('Color:')"
      ],
      "metadata": {
        "colab": {
          "base_uri": "https://localhost:8080/"
        },
        "id": "IZerjNcf2pMp",
        "outputId": "df42f2c5-8bd8-4269-df38-5df7aa710228"
      },
      "execution_count": 2109,
      "outputs": [
        {
          "output_type": "stream",
          "name": "stdout",
          "text": [
            "--------------------The description of Color:--------------------\n",
            "count        252\n",
            "unique        25\n",
            "top       SILVER\n",
            "freq          39\n",
            "Name: Color:, dtype: object\n",
            "Color: has the following null values \n",
            "0\n"
          ]
        }
      ]
    },
    {
      "cell_type": "markdown",
      "source": [
        "#### Utility function : Value counts\n",
        "\n",
        "Function prints value counts and the specific unique values in column"
      ],
      "metadata": {
        "id": "6H8MVw-T4C_f"
      }
    },
    {
      "cell_type": "code",
      "source": [
        "def get_value_counts(column):\n",
        "  \"\"\"\n",
        "  Function prints value counts and the specific unique values in column\n",
        "  \"\"\"\n",
        "  print(f'------------------------{column} value counts :-------------------------- ')\n",
        "  print( df[column].value_counts())\n",
        "  print(f'------------------------{column} unique values :------------------------- ')\n",
        "  print(df[column].unique())"
      ],
      "metadata": {
        "id": "yMN8v-qT3AdG"
      },
      "execution_count": 2110,
      "outputs": []
    },
    {
      "cell_type": "code",
      "source": [
        "get_value_counts('Color:')"
      ],
      "metadata": {
        "colab": {
          "base_uri": "https://localhost:8080/"
        },
        "id": "fd_7AMrX45zi",
        "outputId": "934b7bc4-c7a3-4eb6-cd39-fb7df41baa74"
      },
      "execution_count": 2111,
      "outputs": [
        {
          "output_type": "stream",
          "name": "stdout",
          "text": [
            "------------------------Color: value counts :-------------------------- \n",
            "SILVER       39\n",
            "BLACK        38\n",
            "PEARL        32\n",
            "WHITE        23\n",
            "BLUE         17\n",
            "GRAY(D)      16\n",
            "RED          14\n",
            "GRAY         11\n",
            "White        10\n",
            "WINE          8\n",
            "BLUE(D)       8\n",
            "Black         8\n",
            "Pearl         5\n",
            "PURPLE(D)     4\n",
            "YELLOW        3\n",
            "PINK          3\n",
            "              3\n",
            "ORANGE        2\n",
            "Gray          2\n",
            "Blue(D)       1\n",
            "Wine          1\n",
            "PURPLE(L)     1\n",
            "BLUE(L)       1\n",
            "Red           1\n",
            "Silver        1\n",
            "Name: Color:, dtype: int64\n",
            "------------------------Color: unique values :------------------------- \n",
            "['Black' 'GRAY(D)' 'Wine' 'White' 'Pearl' 'Blue(D)' 'SILVER' 'PINK'\n",
            " 'PEARL' 'BLACK' 'YELLOW' 'WINE' 'BLUE' 'BLUE(D)' 'WHITE' 'GRAY' 'RED'\n",
            " 'PURPLE(D)' 'PURPLE(L)' '' 'ORANGE' 'BLUE(L)' 'Gray' 'Red' 'Silver']\n"
          ]
        }
      ]
    },
    {
      "cell_type": "markdown",
      "source": [
        "The color values that have a (D) mean dark. For example BLUE(D) means  Dark blue while BLUE(L) means light blue.\n",
        "\n",
        "Since the naming convention is standard, we can leave the column as is"
      ],
      "metadata": {
        "id": "-is9bohM5rMg"
      }
    },
    {
      "cell_type": "markdown",
      "source": [
        "### Drive"
      ],
      "metadata": {
        "id": "QiCTo7EF6LYt"
      }
    },
    {
      "cell_type": "code",
      "source": [
        "check_column_details('Drive:')"
      ],
      "metadata": {
        "colab": {
          "base_uri": "https://localhost:8080/"
        },
        "id": "gf-jL9Tw48ox",
        "outputId": "4fa296a5-f5a9-42d4-864a-2f08d3a2cc3b"
      },
      "execution_count": 2112,
      "outputs": [
        {
          "output_type": "stream",
          "name": "stdout",
          "text": [
            "--------------------The description of Drive:--------------------\n",
            "count     252\n",
            "unique      5\n",
            "top          \n",
            "freq      117\n",
            "Name: Drive:, dtype: object\n",
            "Drive: has the following null values \n",
            "0\n"
          ]
        }
      ]
    },
    {
      "cell_type": "code",
      "source": [
        "get_value_counts('Drive:')"
      ],
      "metadata": {
        "colab": {
          "base_uri": "https://localhost:8080/"
        },
        "id": "iFVNpXdU6aXP",
        "outputId": "d407552e-5db1-4d76-b08d-b8238f43f1a9"
      },
      "execution_count": 2113,
      "outputs": [
        {
          "output_type": "stream",
          "name": "stdout",
          "text": [
            "------------------------Drive: value counts :-------------------------- \n",
            "         117\n",
            "FF        49\n",
            "2WD       45\n",
            "4WD       27\n",
            "Other     14\n",
            "Name: Drive:, dtype: int64\n",
            "------------------------Drive: unique values :------------------------- \n",
            "['2WD' '' 'Other' 'FF' '4WD']\n"
          ]
        }
      ]
    },
    {
      "cell_type": "markdown",
      "source": [
        "The four different types of drivetrain are :\n",
        "1. all-wheel-drive (AWD), \n",
        "2. front wheel drive (FWD), \n",
        "3. rear wheel drive (RWD), \n",
        "4. 4 wheel drive (4WD)\n",
        "\n",
        "In our example, it is not certain where most vehicles lie. Thus we drop this column"
      ],
      "metadata": {
        "id": "ltdFnieP6wBD"
      }
    },
    {
      "cell_type": "code",
      "source": [
        "df.drop('Drive:', axis = 1, inplace = True)"
      ],
      "metadata": {
        "id": "_ZF09CZo6g1G"
      },
      "execution_count": 2114,
      "outputs": []
    },
    {
      "cell_type": "markdown",
      "source": [
        "### Door"
      ],
      "metadata": {
        "id": "IakGCmaXCX1d"
      }
    },
    {
      "cell_type": "code",
      "source": [
        "check_column_details('Door:')"
      ],
      "metadata": {
        "colab": {
          "base_uri": "https://localhost:8080/"
        },
        "id": "suE5G0_pCUwz",
        "outputId": "d22febf3-fb42-4b50-8bd3-f544976ed23c"
      },
      "execution_count": 2115,
      "outputs": [
        {
          "output_type": "stream",
          "name": "stdout",
          "text": [
            "--------------------The description of Door:--------------------\n",
            "count     252\n",
            "unique      2\n",
            "top         5\n",
            "freq      239\n",
            "Name: Door:, dtype: object\n",
            "Door: has the following null values \n",
            "0\n"
          ]
        }
      ]
    },
    {
      "cell_type": "code",
      "source": [
        "get_value_counts('Door:')"
      ],
      "metadata": {
        "colab": {
          "base_uri": "https://localhost:8080/"
        },
        "id": "i5kF6XUxCb6r",
        "outputId": "568f4723-61b6-45e9-8ea7-2a5dca3d828e"
      },
      "execution_count": 2116,
      "outputs": [
        {
          "output_type": "stream",
          "name": "stdout",
          "text": [
            "------------------------Door: value counts :-------------------------- \n",
            "5    239\n",
            "      13\n",
            "Name: Door:, dtype: int64\n",
            "------------------------Door: unique values :------------------------- \n",
            "['5' '']\n"
          ]
        }
      ]
    },
    {
      "cell_type": "markdown",
      "source": [
        "The specific vitz we are looking at has 5 door. Since all have 5 doors, we can drop the feature since all the vehicles have this factored in."
      ],
      "metadata": {
        "id": "aEFiUPJAChmS"
      }
    },
    {
      "cell_type": "code",
      "source": [
        "df.drop('Door:', axis = 1, inplace = True)"
      ],
      "metadata": {
        "id": "ETyOV-MfCedV"
      },
      "execution_count": 2117,
      "outputs": []
    },
    {
      "cell_type": "markdown",
      "source": [
        "### Steering"
      ],
      "metadata": {
        "id": "Ur66n1UQDXML"
      }
    },
    {
      "cell_type": "code",
      "source": [
        "check_column_details('Steering:')\n",
        "get_value_counts('Steering:')"
      ],
      "metadata": {
        "colab": {
          "base_uri": "https://localhost:8080/"
        },
        "id": "2u9jAb5GDYHK",
        "outputId": "6c0a8d21-2672-4a3e-ffab-4210e5dc048d"
      },
      "execution_count": 2118,
      "outputs": [
        {
          "output_type": "stream",
          "name": "stdout",
          "text": [
            "--------------------The description of Steering:--------------------\n",
            "count       252\n",
            "unique        3\n",
            "top       Right\n",
            "freq        205\n",
            "Name: Steering:, dtype: object\n",
            "Steering: has the following null values \n",
            "0\n",
            "------------------------Steering: value counts :-------------------------- \n",
            "Right    205\n",
            "RHD       45\n",
            "           2\n",
            "Name: Steering:, dtype: int64\n",
            "------------------------Steering: unique values :------------------------- \n",
            "['RHD' 'Right' '']\n"
          ]
        }
      ]
    },
    {
      "cell_type": "markdown",
      "source": [
        "When scraping, sbt japan had filtered the results according to geo location. Thus the vehicles we have are all assumably right hand drive. SO we can also drop this field."
      ],
      "metadata": {
        "id": "nN8CgeBEDnIG"
      }
    },
    {
      "cell_type": "code",
      "source": [
        "df.drop('Steering:', axis = 1, inplace = True)"
      ],
      "metadata": {
        "id": "e0nM5_tlDe9C"
      },
      "execution_count": 2119,
      "outputs": []
    },
    {
      "cell_type": "markdown",
      "source": [
        "### Seats"
      ],
      "metadata": {
        "id": "tdCweq9oD6DC"
      }
    },
    {
      "cell_type": "code",
      "source": [
        "check_column_details('Seats:')\n",
        "get_value_counts('Seats:')"
      ],
      "metadata": {
        "colab": {
          "base_uri": "https://localhost:8080/"
        },
        "id": "wlDqkurbD2x9",
        "outputId": "9b05a555-cee7-4a0f-ff85-c74ca1f340c9"
      },
      "execution_count": 2120,
      "outputs": [
        {
          "output_type": "stream",
          "name": "stdout",
          "text": [
            "--------------------The description of Seats:--------------------\n",
            "count     45\n",
            "unique     2\n",
            "top        5\n",
            "freq      44\n",
            "Name: Seats:, dtype: object\n",
            "Seats: has the following null values \n",
            "207\n",
            "------------------------Seats: value counts :-------------------------- \n",
            "5    44\n",
            "      1\n",
            "Name: Seats:, dtype: int64\n",
            "------------------------Seats: unique values :------------------------- \n",
            "['5' '' nan]\n"
          ]
        }
      ]
    },
    {
      "cell_type": "markdown",
      "source": [
        "We drop the seats column under the assumptions all vehicles  have 5 seats."
      ],
      "metadata": {
        "id": "u3qOESBLP6VY"
      }
    },
    {
      "cell_type": "code",
      "source": [
        "df.drop('Seats:', axis = 1, inplace = True)"
      ],
      "metadata": {
        "id": "tDomtoRkD-f3"
      },
      "execution_count": 2121,
      "outputs": []
    },
    {
      "cell_type": "markdown",
      "source": [
        "### Engine Type and Engine Size"
      ],
      "metadata": {
        "id": "PJEbV1sDQHoi"
      }
    },
    {
      "cell_type": "code",
      "source": [
        "check_column_details('Engine Type:')\n",
        "get_value_counts('Engine Type:')"
      ],
      "metadata": {
        "colab": {
          "base_uri": "https://localhost:8080/"
        },
        "id": "0kIWr1tEQEKr",
        "outputId": "0f87a84f-3c18-4463-ab30-e84ad7cf1143"
      },
      "execution_count": 2122,
      "outputs": [
        {
          "output_type": "stream",
          "name": "stdout",
          "text": [
            "--------------------The description of Engine Type:--------------------\n",
            "count      45\n",
            "unique      4\n",
            "top       1KR\n",
            "freq       26\n",
            "Name: Engine Type:, dtype: object\n",
            "Engine Type: has the following null values \n",
            "207\n",
            "------------------------Engine Type: value counts :-------------------------- \n",
            "1KR        26\n",
            "1NR        16\n",
            "            2\n",
            "1NZ-1LM     1\n",
            "Name: Engine Type:, dtype: int64\n",
            "------------------------Engine Type: unique values :------------------------- \n",
            "['1KR' '' '1NR' nan '1NZ-1LM']\n"
          ]
        }
      ]
    },
    {
      "cell_type": "code",
      "source": [
        "check_column_details('Engine Size:')\n",
        "get_value_counts('Engine Size:')"
      ],
      "metadata": {
        "colab": {
          "base_uri": "https://localhost:8080/"
        },
        "id": "uOrHuePSQQe4",
        "outputId": "1a416f64-f33a-42a2-966e-75fe878fb4f2"
      },
      "execution_count": 2123,
      "outputs": [
        {
          "output_type": "stream",
          "name": "stdout",
          "text": [
            "--------------------The description of Engine Size:--------------------\n",
            "count         252\n",
            "unique          8\n",
            "top       1,000cc\n",
            "freq           81\n",
            "Name: Engine Size:, dtype: object\n",
            "Engine Size: has the following null values \n",
            "0\n",
            "------------------------Engine Size: value counts :-------------------------- \n",
            "1,000cc    81\n",
            "1,300cc    69\n",
            "1,500cc    57\n",
            "990cc      26\n",
            "1,320cc    16\n",
            "996cc       1\n",
            "1,496cc     1\n",
            "1,490cc     1\n",
            "Name: Engine Size:, dtype: int64\n",
            "------------------------Engine Size: unique values :------------------------- \n",
            "['990cc' '1,000cc' '1,320cc' '1,300cc' '1,500cc' '996cc' '1,496cc'\n",
            " '1,490cc']\n"
          ]
        }
      ]
    },
    {
      "cell_type": "markdown",
      "source": [
        "Since we have more incomplete data on the engine type, we will drop that column and keep the engine size which has no missing values\n"
      ],
      "metadata": {
        "id": "Oh6KEDolQsbp"
      }
    },
    {
      "cell_type": "code",
      "source": [
        "df.drop(['Engine Size:','Engine Type:'], axis = 1, inplace = True)"
      ],
      "metadata": {
        "id": "RsL5DGtpQoW9"
      },
      "execution_count": 2124,
      "outputs": []
    },
    {
      "cell_type": "markdown",
      "source": [
        "### Body type"
      ],
      "metadata": {
        "id": "CdwJesnu_hZt"
      }
    },
    {
      "cell_type": "code",
      "source": [
        "check_column_details('Body Type:')\n",
        "get_value_counts('Body Type:')"
      ],
      "metadata": {
        "colab": {
          "base_uri": "https://localhost:8080/"
        },
        "id": "4qrw2aHq_kc6",
        "outputId": "8bebfec0-f381-4c39-bb2e-81f7b6c3cc4f"
      },
      "execution_count": 2125,
      "outputs": [
        {
          "output_type": "stream",
          "name": "stdout",
          "text": [
            "--------------------The description of Body Type:--------------------\n",
            "count           252\n",
            "unique            1\n",
            "top       Hatchback\n",
            "freq            252\n",
            "Name: Body Type:, dtype: object\n",
            "Body Type: has the following null values \n",
            "0\n",
            "------------------------Body Type: value counts :-------------------------- \n",
            "Hatchback    252\n",
            "Name: Body Type:, dtype: int64\n",
            "------------------------Body Type: unique values :------------------------- \n",
            "['Hatchback']\n"
          ]
        }
      ]
    },
    {
      "cell_type": "markdown",
      "source": [
        "We drop this value since all vehicles are of type hatchback"
      ],
      "metadata": {
        "id": "L6OMTZLM_w6b"
      }
    },
    {
      "cell_type": "code",
      "source": [
        "df.drop('Body Type:', axis=1,inplace=True)"
      ],
      "metadata": {
        "id": "O3dODPuN_1fU"
      },
      "execution_count": 2126,
      "outputs": []
    },
    {
      "cell_type": "markdown",
      "source": [
        "### Mileage"
      ],
      "metadata": {
        "id": "IagswwNYQ80A"
      }
    },
    {
      "cell_type": "markdown",
      "source": [
        "#### Utility function : Merge utilities\n",
        "\n",
        "Merge utility functions\n",
        "\n"
      ],
      "metadata": {
        "id": "c59B0wAppr2M"
      }
    },
    {
      "cell_type": "code",
      "source": [
        "def merge_utility(column):\n",
        "  \"\"\"\n",
        "  Merge utility functions \n",
        "  \"\"\"\n",
        "  check_column_details(column)\n",
        "  get_value_counts(column)"
      ],
      "metadata": {
        "id": "F-qny_B4prSl"
      },
      "execution_count": 2127,
      "outputs": []
    },
    {
      "cell_type": "code",
      "source": [
        "merge_utility('Mileage:')"
      ],
      "metadata": {
        "colab": {
          "base_uri": "https://localhost:8080/"
        },
        "id": "-k7JUyzOQ51Q",
        "outputId": "183a86ee-1e54-4b69-f248-6f37b483da5d"
      },
      "execution_count": 2128,
      "outputs": [
        {
          "output_type": "stream",
          "name": "stdout",
          "text": [
            "--------------------The description of Mileage:--------------------\n",
            "count          252\n",
            "unique         226\n",
            "top       28,000km\n",
            "freq             5\n",
            "Name: Mileage:, dtype: object\n",
            "Mileage: has the following null values \n",
            "0\n",
            "------------------------Mileage: value counts :-------------------------- \n",
            "28,000km     5\n",
            "11,000km     3\n",
            "40,000km     3\n",
            "46,000km     3\n",
            "102,000km    2\n",
            "            ..\n",
            "35,000km     1\n",
            "23,000km     1\n",
            "50,081km     1\n",
            "35,900km     1\n",
            "78,000km     1\n",
            "Name: Mileage:, Length: 226, dtype: int64\n",
            "------------------------Mileage: unique values :------------------------- \n",
            "['102,000km' '120,000km' '98,000km' '114,000km' '143,000km' '28,000km'\n",
            " '35,036km' '34,037km' '48,337km' '8,000km' '50,081km' '24,287km'\n",
            " '3,704km' '45,548km' '20,000km' '16,000km' '94,667km' '6,899km'\n",
            " '18,000km' '33,065km' '40,000km' '22,000km' '28,627km' '11,000km'\n",
            " '54,000km' '17,000km' '12,283km' '40,826km' '42,979km' '48,800km'\n",
            " '22,300km' '19,006km' '28,963km' '24,000km' '5,000km' '11,969km'\n",
            " '30,000km' '16,500km' '21,000km' '102,090km' '14,000km' '50,733km'\n",
            " '64,220km' '10,781km' '20,004km' '19,050km' '44,000km' '19,987km'\n",
            " '18,920km' '8,833km' '45,404km' '18,543km' '56,804km' '44,882km'\n",
            " '32,000km' '11,671km' '12,500km' '38,000km' '38,688km' '6,200km'\n",
            " '45,000km' '9,043km' '26,951km' '50,503km' '6,710km' '54,352km'\n",
            " '27,080km' '25,791km' '46,212km' '71,927km' '55,758km' '12,000km'\n",
            " '43,333km' '35,584km' '16,701km' '17,721km' '20,997km' '35,153km'\n",
            " '89,117km' '46,425km' '54,374km' '14,993km' '1,775km' '10,000km'\n",
            " '6,038km' '24,729km' '21,989km' '61,784km' '42,944km' '40,080km'\n",
            " '33,247km' '35,000km' '23,000km' '34,000km' '35,900km' '36,212km'\n",
            " '56,311km' '16,256km' '55,036km' '68,000km' '46,000km' '9,498km'\n",
            " '22,887km' '18,313km' '74,000km' '41,000km' '14,350km' '81,998km'\n",
            " '19,000km' '42,000km' '76,330km' '27,288km' '13,000km' '60,000km'\n",
            " '88,135km' '53,011km' '26,300km' '33,000km' '33,834km' '66,877km'\n",
            " '12,893km' '69,766km' '38,624km' '42,238km' '63,054km' '5km' '28,075km'\n",
            " '56,187km' '49,045km' '4,950km' '56,000km' '70,254km' '33,197km'\n",
            " '41,300km' '23,460km' '88,594km' '62,144km' '29,310km' '51,600km'\n",
            " '27,893km' '35,402km' '17,635km' '37,483km' '40,971km' '12,980km'\n",
            " '69,000km' '41,257km' '56,400km' '30,648km' '72,277km' '45,595km'\n",
            " '48,000km' '6,556km' '14,999km' '68,170km' '39,765km' '12,941km'\n",
            " '67,365km' '79,918km' '22,050km' '16,536km' '137,063km' '42,948km'\n",
            " '42,014km' '12,470km' '59,015km' '32,338km' '16,968km' '22,800km'\n",
            " '65,500km' '2,202km' '34,317km' '25km' '80,312km' '33,672km' '16,999km'\n",
            " '2,000km' '41,654km' '41,864km' '29,749km' '19,634km' '24,240km'\n",
            " '7,166km' '44,300km' '70,827km' '30,050km' '28,800km' '23,660km'\n",
            " '9,401km' '14,059km' '22,100km' '28,100km' '74,700km' '26,900km'\n",
            " '39,940km' '27,707km' '33,175km' '53,000km' '112,000km' '122,000km'\n",
            " '111,000km' '79,000km' '90,000km' '132,000km' '83,000km' '109,000km'\n",
            " '85,000km' '84,000km' '131,000km' '100,000km' '93,000km' '72,000km'\n",
            " '67,000km' '97,000km' '139,000km' '81,000km' '86,000km' '99,000km'\n",
            " '141,000km' '9,000km' '108,000km' '103,000km' '107,000km' '87,000km'\n",
            " '127,000km' '78,000km']\n"
          ]
        }
      ]
    },
    {
      "cell_type": "markdown",
      "source": [
        "The mileage does not have any null values. However we need to extract the miles from the string"
      ],
      "metadata": {
        "id": "Hc9EgSPpRFeC"
      }
    },
    {
      "cell_type": "markdown",
      "source": [
        "#### Utility function : Get number from string\n",
        "\n",
        "Extract number from string"
      ],
      "metadata": {
        "id": "3IB-FALCAcfj"
      }
    },
    {
      "cell_type": "code",
      "source": [
        "def get_numbers_from_string(string_to_extract):\n",
        "  \"\"\"\n",
        "  Extract number from string\n",
        "  \"\"\"\n",
        "\n",
        "  return int(''.join(filter(str.isdigit, string_to_extract)))"
      ],
      "metadata": {
        "id": "BGgb0M3PALOl"
      },
      "execution_count": 2129,
      "outputs": []
    },
    {
      "cell_type": "code",
      "source": [
        "# get mileage\n",
        "\n",
        "df['Mileage:'] = df['Mileage:'].apply(lambda m : get_numbers_from_string(m))"
      ],
      "metadata": {
        "id": "hxtmkozbAp4S"
      },
      "execution_count": 2130,
      "outputs": []
    },
    {
      "cell_type": "code",
      "source": [
        ""
      ],
      "metadata": {
        "id": "v3E-o--2A_Ji"
      },
      "execution_count": 2130,
      "outputs": []
    },
    {
      "cell_type": "markdown",
      "source": [
        "### Fuel\n",
        "\n",
        "This variable describes the type of fuel used"
      ],
      "metadata": {
        "id": "nlv7_JK9pm5P"
      }
    },
    {
      "cell_type": "code",
      "source": [
        "merge_utility('Fuel:')"
      ],
      "metadata": {
        "id": "jM6n1OrMRCJr",
        "colab": {
          "base_uri": "https://localhost:8080/"
        },
        "outputId": "d68ccf60-9cda-491b-b27d-d7686358aab4"
      },
      "execution_count": 2131,
      "outputs": [
        {
          "output_type": "stream",
          "name": "stdout",
          "text": [
            "--------------------The description of Fuel:--------------------\n",
            "count        252\n",
            "unique         2\n",
            "top       PETROL\n",
            "freq         221\n",
            "Name: Fuel:, dtype: object\n",
            "Fuel: has the following null values \n",
            "0\n",
            "------------------------Fuel: value counts :-------------------------- \n",
            "PETROL            221\n",
            "HYBRID(PETROL)     31\n",
            "Name: Fuel:, dtype: int64\n",
            "------------------------Fuel: unique values :------------------------- \n",
            "['PETROL' 'HYBRID(PETROL)']\n"
          ]
        }
      ]
    },
    {
      "cell_type": "markdown",
      "source": [
        "No null values "
      ],
      "metadata": {
        "id": "gWtPuOjwttEf"
      }
    },
    {
      "cell_type": "markdown",
      "source": [
        "### Body Length\n",
        "\n"
      ],
      "metadata": {
        "id": "juO6gV6zvG1f"
      }
    },
    {
      "cell_type": "code",
      "source": [
        "merge_utility('Body Length:')"
      ],
      "metadata": {
        "colab": {
          "base_uri": "https://localhost:8080/"
        },
        "id": "phlEfijUtB02",
        "outputId": "67fc9873-a419-43a2-b368-307fba307230"
      },
      "execution_count": 2132,
      "outputs": [
        {
          "output_type": "stream",
          "name": "stdout",
          "text": [
            "--------------------The description of Body Length:--------------------\n",
            "count        45\n",
            "unique        3\n",
            "top       3.94m\n",
            "freq         26\n",
            "Name: Body Length:, dtype: object\n",
            "Body Length: has the following null values \n",
            "207\n",
            "------------------------Body Length: value counts :-------------------------- \n",
            "3.94m    26\n",
            "3.88m    17\n",
            "- m       2\n",
            "Name: Body Length:, dtype: int64\n",
            "------------------------Body Length: unique values :------------------------- \n",
            "['3.94m' '- m' '3.88m' nan]\n"
          ]
        }
      ]
    },
    {
      "cell_type": "markdown",
      "source": [
        "The body length has too many missing values so we drop the feature.\n"
      ],
      "metadata": {
        "id": "tPQZWg9txOJw"
      }
    },
    {
      "cell_type": "code",
      "source": [
        "df.drop('Body Length:',axis = 1, inplace = True)"
      ],
      "metadata": {
        "id": "oB-BzTYI_BJR"
      },
      "execution_count": 2133,
      "outputs": []
    },
    {
      "cell_type": "markdown",
      "source": [
        "### Vehicle Weight: ,Gross Vehicle Weight: and Max Loading Capacity:"
      ],
      "metadata": {
        "id": "titKdhrZ2-lh"
      }
    },
    {
      "cell_type": "code",
      "source": [
        "merge_utility('Vehicle Weight:')\n"
      ],
      "metadata": {
        "colab": {
          "base_uri": "https://localhost:8080/"
        },
        "id": "qLp6issJvB9E",
        "outputId": "0390b2dc-521c-4e09-f30d-9938e1de5f83"
      },
      "execution_count": 2134,
      "outputs": [
        {
          "output_type": "stream",
          "name": "stdout",
          "text": [
            "--------------------The description of Vehicle Weight:--------------------\n",
            "count        45\n",
            "unique        5\n",
            "top       970kg\n",
            "freq         26\n",
            "Name: Vehicle Weight:, dtype: object\n",
            "Vehicle Weight: has the following null values \n",
            "207\n",
            "------------------------Vehicle Weight: value counts :-------------------------- \n",
            "970kg      26\n",
            "1,000kg    11\n",
            "1,010kg     5\n",
            "- kg        2\n",
            "1,100kg     1\n",
            "Name: Vehicle Weight:, dtype: int64\n",
            "------------------------Vehicle Weight: unique values :------------------------- \n",
            "['970kg' '- kg' '1,010kg' '1,000kg' nan '1,100kg']\n"
          ]
        }
      ]
    },
    {
      "cell_type": "code",
      "source": [
        "merge_utility('Gross Vehicle Weight:')\n"
      ],
      "metadata": {
        "colab": {
          "base_uri": "https://localhost:8080/"
        },
        "id": "3j5F68uY3UbF",
        "outputId": "55d98c88-1264-49a1-92fb-e60ec55cfe30"
      },
      "execution_count": 2135,
      "outputs": [
        {
          "output_type": "stream",
          "name": "stdout",
          "text": [
            "--------------------The description of Gross Vehicle Weight:--------------------\n",
            "count          45\n",
            "unique          5\n",
            "top       1,245kg\n",
            "freq           26\n",
            "Name: Gross Vehicle Weight:, dtype: object\n",
            "Gross Vehicle Weight: has the following null values \n",
            "207\n",
            "------------------------Gross Vehicle Weight: value counts :-------------------------- \n",
            "1,245kg    26\n",
            "1,275kg    11\n",
            "1,285kg     5\n",
            "- kg        2\n",
            "1,375kg     1\n",
            "Name: Gross Vehicle Weight:, dtype: int64\n",
            "------------------------Gross Vehicle Weight: unique values :------------------------- \n",
            "['1,245kg' '- kg' '1,285kg' '1,275kg' nan '1,375kg']\n"
          ]
        }
      ]
    },
    {
      "cell_type": "code",
      "source": [
        "merge_utility('Max Loading Capacity:')"
      ],
      "metadata": {
        "colab": {
          "base_uri": "https://localhost:8080/"
        },
        "id": "fs_FTkAX3Zw_",
        "outputId": "1a6a6de4-74c6-4705-b910-9fd1638b19aa"
      },
      "execution_count": 2136,
      "outputs": [
        {
          "output_type": "stream",
          "name": "stdout",
          "text": [
            "--------------------The description of Max Loading Capacity:--------------------\n",
            "count       45\n",
            "unique       1\n",
            "top       - kg\n",
            "freq        45\n",
            "Name: Max Loading Capacity:, dtype: object\n",
            "Max Loading Capacity: has the following null values \n",
            "207\n",
            "------------------------Max Loading Capacity: value counts :-------------------------- \n",
            "- kg    45\n",
            "Name: Max Loading Capacity:, dtype: int64\n",
            "------------------------Max Loading Capacity: unique values :------------------------- \n",
            "['- kg' nan]\n"
          ]
        }
      ]
    },
    {
      "cell_type": "markdown",
      "source": [
        "The three Vehicle Weight: ,Gross Vehicle Weight: and Max Loading Capacity: have very little data. Thus we drop all three"
      ],
      "metadata": {
        "id": "MOyN9zc03l-q"
      }
    },
    {
      "cell_type": "code",
      "source": [
        "df.drop(['Vehicle Weight:', 'Max Loading Capacity:','Gross Vehicle Weight:'], axis = 1, inplace = True)\n"
      ],
      "metadata": {
        "id": "95D8NA3q3azh"
      },
      "execution_count": 2137,
      "outputs": []
    },
    {
      "cell_type": "markdown",
      "source": [
        "### Price\n",
        "\n",
        "This is the target variable for our project ."
      ],
      "metadata": {
        "id": "sFshkLmc5YMX"
      }
    },
    {
      "cell_type": "code",
      "source": [
        "merge_utility('price')"
      ],
      "metadata": {
        "colab": {
          "base_uri": "https://localhost:8080/"
        },
        "id": "vd6ov34P5T3L",
        "outputId": "278c5d6f-bed4-4f7d-b649-64713067029b"
      },
      "execution_count": 2138,
      "outputs": [
        {
          "output_type": "stream",
          "name": "stdout",
          "text": [
            "--------------------The description of price--------------------\n",
            "count            252\n",
            "unique           200\n",
            "top       USD 11,938\n",
            "freq               4\n",
            "Name: price, dtype: object\n",
            "price has the following null values \n",
            "0\n",
            "------------------------price value counts :-------------------------- \n",
            "USD 11,938    4\n",
            "USD 11,070    4\n",
            "USD 6,343     3\n",
            "USD 9,171     3\n",
            "USD 7,747     3\n",
            "             ..\n",
            "USD 7,575     1\n",
            "USD 13,201    1\n",
            "USD 13,675    1\n",
            "USD 11,645    1\n",
            "USD 6,999     1\n",
            "Name: price, Length: 200, dtype: int64\n",
            "------------------------price unique values :------------------------- \n",
            "['USD 6,343' 'USD 6,595' 'USD 6,171' 'USD 5,474' 'USD 6,747' 'USD 9,403'\n",
            " 'USD 11,433' 'USD 11,494' 'USD 10,524' 'USD 12,443' 'USD 13,120'\n",
            " 'USD 11,938' 'USD 9,716' 'USD 12,332' 'USD 11,029' 'USD 7,828'\n",
            " 'USD 15,059' 'USD 11,585' 'USD 10,221' 'USD 12,524' 'USD 8,868'\n",
            " 'USD 23,735' 'USD 8,181' 'USD 12,423' 'USD 17,816' 'USD 15,908'\n",
            " 'USD 12,029' 'USD 8,605' 'USD 7,767' 'USD 8,120' 'USD 9,171' 'USD 14,312'\n",
            " 'USD 7,716' 'USD 12,979' 'USD 7,747' 'USD 10,029' 'USD 9,868'\n",
            " 'USD 16,241' 'USD 9,666' 'USD 8,434' 'USD 11,039' 'USD 11,070'\n",
            " 'USD 7,353' 'USD 8,918' 'USD 10,070' 'USD 9,959' 'USD 10,241' 'USD 8,777'\n",
            " 'USD 9,817' 'USD 11,868' 'USD 11,484' 'USD 9,292' 'USD 9,343'\n",
            " 'USD 14,948' 'USD 8,383' 'USD 11,262' 'USD 10,635' 'USD 9,040'\n",
            " 'USD 16,918' 'USD 9,181' 'USD 7,100' 'USD 7,222' 'USD 9,393' 'USD 10,534'\n",
            " 'USD 7,929' 'USD 14,029' 'USD 10,605' 'USD 9,191' 'USD 12,837'\n",
            " 'USD 10,130' 'USD 7,333' 'USD 11,090' 'USD 13,181' 'USD 7,504'\n",
            " 'USD 8,060' 'USD 12,585' 'USD 8,514' 'USD 9,928' 'USD 12,857'\n",
            " 'USD 10,252' 'USD 7,434' 'USD 7,575' 'USD 13,201' 'USD 13,675'\n",
            " 'USD 11,645' 'USD 9,635' 'USD 9,736' 'USD 7,969' 'USD 7,959' 'USD 11,696'\n",
            " 'USD 10,282' 'USD 11,756' 'USD 10,544' 'USD 11,181' 'USD 11,060'\n",
            " 'USD 10,332' 'USD 11,231' 'USD 11,878' 'USD 11,797' 'USD 9,332'\n",
            " 'USD 12,655' 'USD 9,726' 'USD 10,878' 'USD 12,686' 'USD 7,363'\n",
            " 'USD 9,151' 'USD 8,050' 'USD 9,595' 'USD 8,615' 'USD 7,191' 'USD 8,898'\n",
            " 'USD 11,736' 'USD 11,635' 'USD 10,454' 'USD 13,130' 'USD 11,464'\n",
            " 'USD 13,908' 'USD 12,373' 'USD 6,818' 'USD 13,403' 'USD 9,484'\n",
            " 'USD 10,666' 'USD 13,372' 'USD 11,393' 'USD 8,686' 'USD 15,504'\n",
            " 'USD 18,140' 'USD 9,080' 'USD 11,140' 'USD 14,241' 'USD 11,898'\n",
            " 'USD 11,524' 'USD 9,797' 'USD 7,686' 'USD 10,181' 'USD 11,817'\n",
            " 'USD 11,211' 'USD 9,050' 'USD 10,474' 'USD 7,989' 'USD 14,281'\n",
            " 'USD 14,009' 'USD 8,939' 'USD 11,534' 'USD 8,767' 'USD 9,019' 'USD 7,848'\n",
            " 'USD 12,544' 'USD 12,292' 'USD 11,746' 'USD 10,120' 'USD 13,585'\n",
            " 'USD 10,565' 'USD 10,443' 'USD 8,838' 'USD 19,402' 'USD 8,090'\n",
            " 'USD 11,928' 'USD 10,726' 'USD 10,777' 'USD 6,888' 'USD 17,746'\n",
            " 'USD 16,120' 'USD 15,998' 'USD 10,908' 'USD 11,009' 'USD 12,756'\n",
            " 'USD 7,727' 'USD 8,656' 'USD 17,968' 'USD 10,039' 'USD 12,474'\n",
            " 'USD 9,565' 'USD 15,615' 'USD 8,979' 'USD 9,858' 'USD 6,151' 'USD 5,808'\n",
            " 'USD 6,242' 'USD 6,383' 'USD 6,414' 'USD 6,504' 'USD 6,656' 'USD 6,201'\n",
            " 'USD 6,535' 'USD 6,454' 'USD 6,686' 'USD 6,424' 'USD 6,373' 'USD 6,232'\n",
            " 'USD 6,434' 'USD 6,939' 'USD 6,828' 'USD 6,353' 'USD 10,989' 'USD 5,999'\n",
            " 'USD 6,525' 'USD 6,706' 'USD 6,161' 'USD 6,999']\n"
          ]
        }
      ]
    },
    {
      "cell_type": "markdown",
      "source": [
        "The price field is in the form of strings. We  need to clean this column to only remain with the price number"
      ],
      "metadata": {
        "id": "deJJUoAv5vYH"
      }
    },
    {
      "cell_type": "code",
      "source": [
        "get_numbers_from_string('USD 8,939')"
      ],
      "metadata": {
        "colab": {
          "base_uri": "https://localhost:8080/"
        },
        "id": "hHS4ZX4L6nW2",
        "outputId": "f746730a-1b78-4529-8cd5-d5dc6b09bf92"
      },
      "execution_count": 2139,
      "outputs": [
        {
          "output_type": "execute_result",
          "data": {
            "text/plain": [
              "8939"
            ]
          },
          "metadata": {},
          "execution_count": 2139
        }
      ]
    },
    {
      "cell_type": "code",
      "source": [
        "# clean the column\n",
        "\n",
        "df['price'] = df['price'].apply(lambda p: int(get_numbers_from_string(p)))"
      ],
      "metadata": {
        "id": "6BALBXH06qxF"
      },
      "execution_count": 2140,
      "outputs": []
    },
    {
      "cell_type": "code",
      "source": [
        "df['price'].head()"
      ],
      "metadata": {
        "colab": {
          "base_uri": "https://localhost:8080/"
        },
        "id": "2MuDQAHV7cbL",
        "outputId": "c6e59c90-cc14-4561-fa34-e5f14328f43c"
      },
      "execution_count": 2141,
      "outputs": [
        {
          "output_type": "execute_result",
          "data": {
            "text/plain": [
              "0    6343\n",
              "1    6595\n",
              "2    6171\n",
              "3    5474\n",
              "4    6747\n",
              "Name: price, dtype: int64"
            ]
          },
          "metadata": {},
          "execution_count": 2141
        }
      ]
    },
    {
      "cell_type": "markdown",
      "source": [
        "### 'Model:',  'Registration Year:',  'Model Year:',  'Seating Capacity:', 'Chassis Number'"
      ],
      "metadata": {
        "id": "U3BEu2mb7pid"
      }
    },
    {
      "cell_type": "code",
      "source": [
        "feat = ['Model:', 'Registration Year:', 'Model Year:', 'Seating Capacity:', 'Chassis Number']\n",
        "\n",
        "for f in feat:\n",
        "    merge_utility(f)"
      ],
      "metadata": {
        "colab": {
          "base_uri": "https://localhost:8080/"
        },
        "id": "TmFagZYF7e5o",
        "outputId": "d06aa940-7c72-4e07-a847-5ac14f4a13f3"
      },
      "execution_count": 2142,
      "outputs": [
        {
          "output_type": "stream",
          "name": "stdout",
          "text": [
            "--------------------The description of Model:--------------------\n",
            "count      207\n",
            "unique       1\n",
            "top       VITZ\n",
            "freq       207\n",
            "Name: Model:, dtype: object\n",
            "Model: has the following null values \n",
            "45\n",
            "------------------------Model: value counts :-------------------------- \n",
            "VITZ    207\n",
            "Name: Model:, dtype: int64\n",
            "------------------------Model: unique values :------------------------- \n",
            "[nan 'VITZ']\n",
            "--------------------The description of Registration Year:--------------------\n",
            "count        207\n",
            "unique        51\n",
            "top       2017/3\n",
            "freq          17\n",
            "Name: Registration Year:, dtype: object\n",
            "Registration Year: has the following null values \n",
            "45\n",
            "------------------------Registration Year: value counts :-------------------------- \n",
            "2017/3     17\n",
            "2019/3      9\n",
            "2017/4      9\n",
            "2017/2      9\n",
            "2018/3      8\n",
            "2016/6      7\n",
            "2018/12     7\n",
            "2018/1      7\n",
            "2017/6      7\n",
            "2017/12     7\n",
            "2018/5      6\n",
            "2017/1      6\n",
            "2017/5      6\n",
            "2019/7      5\n",
            "2018/11     5\n",
            "2017/7      5\n",
            "2019/4      5\n",
            "2016/3      5\n",
            "2018/10     5\n",
            "2018/7      5\n",
            "2016/11     4\n",
            "2019/2      4\n",
            "2018/9      4\n",
            "2018/4      4\n",
            "2017        4\n",
            "2017/8      4\n",
            "2017/11     3\n",
            "2018        3\n",
            "2017/9      3\n",
            "2018/8      3\n",
            "2017/10     3\n",
            "2019/1      3\n",
            "2018/6      3\n",
            "2016/9      2\n",
            "2019/5      2\n",
            "2019/6      2\n",
            "2016/12     2\n",
            "2020/1      1\n",
            "2016/1      1\n",
            "2019/9      1\n",
            "2016/5      1\n",
            "2016/4      1\n",
            "2016/10     1\n",
            "2020/5      1\n",
            "2019/8      1\n",
            "2020/2      1\n",
            "2019        1\n",
            "2019/11     1\n",
            "2018/2      1\n",
            "2019/10     1\n",
            "2020/3      1\n",
            "Name: Registration Year:, dtype: int64\n",
            "------------------------Registration Year: unique values :------------------------- \n",
            "[nan '2018/10' '2018/2' '2017/3' '2020/5' '2017/5' '2018/8' '2017/2'\n",
            " '2017/1' '2019/8' '2018/7' '2019/1' '2018/1' '2018/3' '2016/12' '2018/12'\n",
            " '2019/10' '2018/6' '2016/4' '2016/6' '2017/12' '2019/4' '2017/7'\n",
            " '2016/11' '2019/2' '2017/9' '2019/3' '2019/7' '2018/4' '2019/11' '2019'\n",
            " '2020/2' '2017/8' '2017/6' '2019/6' '2017/11' '2016/10' '2016/3' '2018/5'\n",
            " '2017/4' '2018/9' '2018' '2018/11' '2020/1' '2019/5' '2017/10' '2016/9'\n",
            " '2017' '2016/1' '2019/9' '2016/5' '2020/3']\n",
            "--------------------The description of Model Year:--------------------\n",
            "count     207\n",
            "unique      1\n",
            "top          \n",
            "freq      207\n",
            "Name: Model Year:, dtype: object\n",
            "Model Year: has the following null values \n",
            "45\n",
            "------------------------Model Year: value counts :-------------------------- \n",
            "    207\n",
            "Name: Model Year:, dtype: int64\n",
            "------------------------Model Year: unique values :------------------------- \n",
            "[nan '']\n",
            "--------------------The description of Seating Capacity:--------------------\n",
            "count     207\n",
            "unique      3\n",
            "top         5\n",
            "freq      190\n",
            "Name: Seating Capacity:, dtype: object\n",
            "Seating Capacity: has the following null values \n",
            "45\n",
            "------------------------Seating Capacity: value counts :-------------------------- \n",
            "5    190\n",
            "      16\n",
            "4      1\n",
            "Name: Seating Capacity:, dtype: int64\n",
            "------------------------Seating Capacity: unique values :------------------------- \n",
            "[nan '5' '' '4']\n",
            "--------------------The description of Chassis Number--------------------\n",
            "count                207\n",
            "unique               150\n",
            "top       NCP131-4000***\n",
            "freq                   7\n",
            "Name: Chassis Number, dtype: object\n",
            "Chassis Number has the following null values \n",
            "45\n",
            "------------------------Chassis Number value counts :-------------------------- \n",
            "NCP131-4000***    7\n",
            "KSP130-2227***    4\n",
            "KSP130-4003***    3\n",
            "NSP135-2076***    3\n",
            "KSP130-2223***    3\n",
            "                 ..\n",
            "KSP130-2170***    1\n",
            "NSP130-2250***    1\n",
            "NSP130-4018***    1\n",
            "NSP130-2268***    1\n",
            "NSP130-2263***    1\n",
            "Name: Chassis Number, Length: 150, dtype: int64\n",
            "------------------------Chassis Number unique values :------------------------- \n",
            "[nan 'NSP130-2295***' 'NHP130-2032***' 'NHP1302007***' 'NHP130-4021***'\n",
            " 'NCP131-2025***' 'KSP130-2241***' 'NSP130-2255***' 'NHP130-2000***'\n",
            " 'KSP130-4017***' 'KSP130-2193***' 'NSP135-2082***' 'NSP130-2289***'\n",
            " 'NCP131-2029***' 'KSP130-4003***' 'KSP130-2220***' 'NSP135-2079***'\n",
            " 'NSP130-2198***' 'NCP131-2028***' 'NSP130-2252***' 'NSP135-2080***'\n",
            " 'NCP131-4000***' 'NHP130-4019***' 'NSP135-2067***' 'KSP130-2234***'\n",
            " 'NSP130-2233***' 'NSP130-2239***' 'KSP130-2217***' 'NSP130-4013***'\n",
            " 'KSP130-2199***' 'NSP130-4011***' 'KSP130-2191***' 'KSP130-2230***'\n",
            " 'NSP130-2270***' 'KSP130-2183***' 'NHP130-2008***' 'KSP130-2194***'\n",
            " 'KSP130-4008***' 'NHP130-2010***' 'KSP130-4012***' 'NHP130-2011***'\n",
            " 'NSP130-2251***' 'KSP130-2222***' 'NSP130-2279***' 'KSP130-2219***'\n",
            " 'KSP130-4021***' 'KSP130-2227***' 'KSP130-4029***' 'KSP130-4006***'\n",
            " 'NHP130-2006***' 'NSP130-4009***' 'KSP130-4013***' 'NSP130-4033***'\n",
            " 'KSP130-2210***' 'NHP130-2024***' 'NSP130-2268***' 'NSP130-4018***'\n",
            " 'KSP130-2223***' 'NSP130-2250***' 'KSP130-2170***' 'NHP130-2005***'\n",
            " 'NSP135-4001***' 'NHP130-2014***' 'NSP135-2060***' 'NHP130-4006***'\n",
            " 'NSP130-2294***' 'NSP130-2225***' 'NSP130-2278***' 'NHP130-2030***'\n",
            " 'KSP130-4001***' 'NHP130-2022***' 'KSP130-2245***' 'NSP130-4031***'\n",
            " 'KSP130-2203***' 'NHP130-4000***' 'NHP130-2007***' 'NSP130-2260***'\n",
            " 'NHP130-2018***' 'NSP130-2275***' 'NSP130-2207***' 'KSP130-2190***'\n",
            " 'NHP130-2040***' 'NSP130-4004***' 'NHP130-4001***' 'KSP130-2184***'\n",
            " 'KSP130-2185***' 'KSP130-4009***' 'NSP135-2070***' 'NSP135-2081***'\n",
            " 'NSP130-2266***' 'NHP130-2012***' 'NSP130-4015***' 'KSP130-2201***'\n",
            " 'KSP130-4002***' 'KSP130-2231***' 'NHP130-2023***' 'KSP130----2192***'\n",
            " 'KSP130-2198***' 'KSP130-2195***' 'NSP135-2076***' 'KSP130-2188***'\n",
            " 'NHP130-2028***' 'KSP130-2225***' 'NHP130-2038***' 'KSP130-2176***'\n",
            " 'KSP130-4019***' 'NHP130-2016***' 'NSP130-2222***' 'NHP130-2001***'\n",
            " 'NHP1302021***' 'NSP135-4003***' 'KSP130-4011***' 'KSP130-2207***'\n",
            " 'NSP135-2074***' 'NHP130-2013***' 'NSP135-4010***' 'KSP130-2209***'\n",
            " 'KSP130-2200***' 'KSP130-2244***' 'NSP135-2058***' 'NSP135-4002***'\n",
            " 'NSP130-2286***' 'NSP135-4005***' 'KSP130-2228***' 'KSP130-219***'\n",
            " 'KSP130-2218***' 'NSP135-2072***' 'NHP130-4004***' 'NSP135-4007***'\n",
            " 'NSP130-2236***' 'KSP130-2236***' 'KSP130-2202***' 'NCP131-2027***'\n",
            " 'KSP130-4030***' 'KSP130-4004***' 'NSP130-2272***' 'NSP130-4005***'\n",
            " 'KSP130-2177***' 'NSP130-2237***' 'NCP131-4001***' 'NSP135-2084***'\n",
            " 'KSP130-2229***' 'NSP135-4006***' '2198***' '2266***' 'KSP130-4020***'\n",
            " '2012***' 'KSP130-2246***' 'NSP135-2066***' 'NSP130-2265***'\n",
            " 'NSP130-2263***']\n"
          ]
        }
      ]
    },
    {
      "cell_type": "markdown",
      "source": [
        "We drop the three features on the following assumptions :\n",
        "\n",
        "1. The model is a vitz for all cars since we only scraped the v itz data\n",
        "2. The registration year is the same as the year we extracted from the title\n",
        "3. The chasis number doesnt influence the price of a car since it is a unique identifier alloted by the manufaturer\n",
        "4. All vehicles have the same sitting capacity"
      ],
      "metadata": {
        "id": "4oL2CEY886s_"
      }
    },
    {
      "cell_type": "code",
      "source": [
        "df.drop(feat,axis = 1, inplace = True)\n"
      ],
      "metadata": {
        "id": "XmOQqLQ58VF7"
      },
      "execution_count": 2143,
      "outputs": []
    },
    {
      "cell_type": "markdown",
      "source": [
        "## Encoding\n",
        "\n",
        "We have dealt with the null values now we need to convert all our remaining columns to numbers. This would mean that values that are represented as strings are encoded with numbers"
      ],
      "metadata": {
        "id": "EJgepsBn-MJ5"
      }
    },
    {
      "cell_type": "code",
      "source": [
        "df.head()"
      ],
      "metadata": {
        "colab": {
          "base_uri": "https://localhost:8080/",
          "height": 297
        },
        "id": "w_dNeb719vCa",
        "outputId": "741724d8-cb13-4f60-e65a-17dd3a485389"
      },
      "execution_count": 2144,
      "outputs": [
        {
          "output_type": "execute_result",
          "data": {
            "text/plain": [
              "  Inventory Location: Transmission:   Color:  Mileage:   Fuel:  Air Bag  \\\n",
              "0            yokohama            AT    Black    102000  PETROL      1.0   \n",
              "1              hakata            AT  GRAY(D)    120000  PETROL      1.0   \n",
              "2              hakata            AT     Wine     98000  PETROL      1.0   \n",
              "3                kobe            AT    White    114000  PETROL      1.0   \n",
              "4              hakata            AT    Pearl    143000  PETROL      1.0   \n",
              "\n",
              "   Anti-Lock Brake System  Air Conditioner  Navigation  Power Steering  ...  \\\n",
              "0                     1.0              1.0         1.0             1.0  ...   \n",
              "1                     1.0              1.0         1.0             1.0  ...   \n",
              "2                     1.0              1.0         0.0             1.0  ...   \n",
              "3                     1.0              1.0         1.0             1.0  ...   \n",
              "4                     1.0              1.0         1.0             1.0  ...   \n",
              "\n",
              "   Fog Lights  Auto Air Conditioner  Aero  HID  Centralized Door Lock  \\\n",
              "0         0.0                   0.0   0.0  0.0                    0.0   \n",
              "1         0.0                   0.0   0.0  0.0                    0.0   \n",
              "2         0.0                   0.0   0.0  0.0                    0.0   \n",
              "3         0.0                   0.0   0.0  0.0                    0.0   \n",
              "4         0.0                   0.0   0.0  0.0                    0.0   \n",
              "\n",
              "   Push Start  Spare Key  LED  Steering Switch  Year_from_title  \n",
              "0         0.0        0.0  0.0              0.0             2017  \n",
              "1         0.0        0.0  0.0              0.0             2017  \n",
              "2         0.0        0.0  0.0              0.0             2016  \n",
              "3         0.0        0.0  0.0              0.0             2016  \n",
              "4         0.0        0.0  0.0              0.0             2016  \n",
              "\n",
              "[5 rows x 30 columns]"
            ],
            "text/html": [
              "\n",
              "  <div id=\"df-8aa8c4cb-090e-4bde-94bd-3c2fc7b2cc77\">\n",
              "    <div class=\"colab-df-container\">\n",
              "      <div>\n",
              "<style scoped>\n",
              "    .dataframe tbody tr th:only-of-type {\n",
              "        vertical-align: middle;\n",
              "    }\n",
              "\n",
              "    .dataframe tbody tr th {\n",
              "        vertical-align: top;\n",
              "    }\n",
              "\n",
              "    .dataframe thead th {\n",
              "        text-align: right;\n",
              "    }\n",
              "</style>\n",
              "<table border=\"1\" class=\"dataframe\">\n",
              "  <thead>\n",
              "    <tr style=\"text-align: right;\">\n",
              "      <th></th>\n",
              "      <th>Inventory Location:</th>\n",
              "      <th>Transmission:</th>\n",
              "      <th>Color:</th>\n",
              "      <th>Mileage:</th>\n",
              "      <th>Fuel:</th>\n",
              "      <th>Air Bag</th>\n",
              "      <th>Anti-Lock Brake System</th>\n",
              "      <th>Air Conditioner</th>\n",
              "      <th>Navigation</th>\n",
              "      <th>Power Steering</th>\n",
              "      <th>...</th>\n",
              "      <th>Fog Lights</th>\n",
              "      <th>Auto Air Conditioner</th>\n",
              "      <th>Aero</th>\n",
              "      <th>HID</th>\n",
              "      <th>Centralized Door Lock</th>\n",
              "      <th>Push Start</th>\n",
              "      <th>Spare Key</th>\n",
              "      <th>LED</th>\n",
              "      <th>Steering Switch</th>\n",
              "      <th>Year_from_title</th>\n",
              "    </tr>\n",
              "  </thead>\n",
              "  <tbody>\n",
              "    <tr>\n",
              "      <th>0</th>\n",
              "      <td>yokohama</td>\n",
              "      <td>AT</td>\n",
              "      <td>Black</td>\n",
              "      <td>102000</td>\n",
              "      <td>PETROL</td>\n",
              "      <td>1.0</td>\n",
              "      <td>1.0</td>\n",
              "      <td>1.0</td>\n",
              "      <td>1.0</td>\n",
              "      <td>1.0</td>\n",
              "      <td>...</td>\n",
              "      <td>0.0</td>\n",
              "      <td>0.0</td>\n",
              "      <td>0.0</td>\n",
              "      <td>0.0</td>\n",
              "      <td>0.0</td>\n",
              "      <td>0.0</td>\n",
              "      <td>0.0</td>\n",
              "      <td>0.0</td>\n",
              "      <td>0.0</td>\n",
              "      <td>2017</td>\n",
              "    </tr>\n",
              "    <tr>\n",
              "      <th>1</th>\n",
              "      <td>hakata</td>\n",
              "      <td>AT</td>\n",
              "      <td>GRAY(D)</td>\n",
              "      <td>120000</td>\n",
              "      <td>PETROL</td>\n",
              "      <td>1.0</td>\n",
              "      <td>1.0</td>\n",
              "      <td>1.0</td>\n",
              "      <td>1.0</td>\n",
              "      <td>1.0</td>\n",
              "      <td>...</td>\n",
              "      <td>0.0</td>\n",
              "      <td>0.0</td>\n",
              "      <td>0.0</td>\n",
              "      <td>0.0</td>\n",
              "      <td>0.0</td>\n",
              "      <td>0.0</td>\n",
              "      <td>0.0</td>\n",
              "      <td>0.0</td>\n",
              "      <td>0.0</td>\n",
              "      <td>2017</td>\n",
              "    </tr>\n",
              "    <tr>\n",
              "      <th>2</th>\n",
              "      <td>hakata</td>\n",
              "      <td>AT</td>\n",
              "      <td>Wine</td>\n",
              "      <td>98000</td>\n",
              "      <td>PETROL</td>\n",
              "      <td>1.0</td>\n",
              "      <td>1.0</td>\n",
              "      <td>1.0</td>\n",
              "      <td>0.0</td>\n",
              "      <td>1.0</td>\n",
              "      <td>...</td>\n",
              "      <td>0.0</td>\n",
              "      <td>0.0</td>\n",
              "      <td>0.0</td>\n",
              "      <td>0.0</td>\n",
              "      <td>0.0</td>\n",
              "      <td>0.0</td>\n",
              "      <td>0.0</td>\n",
              "      <td>0.0</td>\n",
              "      <td>0.0</td>\n",
              "      <td>2016</td>\n",
              "    </tr>\n",
              "    <tr>\n",
              "      <th>3</th>\n",
              "      <td>kobe</td>\n",
              "      <td>AT</td>\n",
              "      <td>White</td>\n",
              "      <td>114000</td>\n",
              "      <td>PETROL</td>\n",
              "      <td>1.0</td>\n",
              "      <td>1.0</td>\n",
              "      <td>1.0</td>\n",
              "      <td>1.0</td>\n",
              "      <td>1.0</td>\n",
              "      <td>...</td>\n",
              "      <td>0.0</td>\n",
              "      <td>0.0</td>\n",
              "      <td>0.0</td>\n",
              "      <td>0.0</td>\n",
              "      <td>0.0</td>\n",
              "      <td>0.0</td>\n",
              "      <td>0.0</td>\n",
              "      <td>0.0</td>\n",
              "      <td>0.0</td>\n",
              "      <td>2016</td>\n",
              "    </tr>\n",
              "    <tr>\n",
              "      <th>4</th>\n",
              "      <td>hakata</td>\n",
              "      <td>AT</td>\n",
              "      <td>Pearl</td>\n",
              "      <td>143000</td>\n",
              "      <td>PETROL</td>\n",
              "      <td>1.0</td>\n",
              "      <td>1.0</td>\n",
              "      <td>1.0</td>\n",
              "      <td>1.0</td>\n",
              "      <td>1.0</td>\n",
              "      <td>...</td>\n",
              "      <td>0.0</td>\n",
              "      <td>0.0</td>\n",
              "      <td>0.0</td>\n",
              "      <td>0.0</td>\n",
              "      <td>0.0</td>\n",
              "      <td>0.0</td>\n",
              "      <td>0.0</td>\n",
              "      <td>0.0</td>\n",
              "      <td>0.0</td>\n",
              "      <td>2016</td>\n",
              "    </tr>\n",
              "  </tbody>\n",
              "</table>\n",
              "<p>5 rows × 30 columns</p>\n",
              "</div>\n",
              "      <button class=\"colab-df-convert\" onclick=\"convertToInteractive('df-8aa8c4cb-090e-4bde-94bd-3c2fc7b2cc77')\"\n",
              "              title=\"Convert this dataframe to an interactive table.\"\n",
              "              style=\"display:none;\">\n",
              "        \n",
              "  <svg xmlns=\"http://www.w3.org/2000/svg\" height=\"24px\"viewBox=\"0 0 24 24\"\n",
              "       width=\"24px\">\n",
              "    <path d=\"M0 0h24v24H0V0z\" fill=\"none\"/>\n",
              "    <path d=\"M18.56 5.44l.94 2.06.94-2.06 2.06-.94-2.06-.94-.94-2.06-.94 2.06-2.06.94zm-11 1L8.5 8.5l.94-2.06 2.06-.94-2.06-.94L8.5 2.5l-.94 2.06-2.06.94zm10 10l.94 2.06.94-2.06 2.06-.94-2.06-.94-.94-2.06-.94 2.06-2.06.94z\"/><path d=\"M17.41 7.96l-1.37-1.37c-.4-.4-.92-.59-1.43-.59-.52 0-1.04.2-1.43.59L10.3 9.45l-7.72 7.72c-.78.78-.78 2.05 0 2.83L4 21.41c.39.39.9.59 1.41.59.51 0 1.02-.2 1.41-.59l7.78-7.78 2.81-2.81c.8-.78.8-2.07 0-2.86zM5.41 20L4 18.59l7.72-7.72 1.47 1.35L5.41 20z\"/>\n",
              "  </svg>\n",
              "      </button>\n",
              "      \n",
              "  <style>\n",
              "    .colab-df-container {\n",
              "      display:flex;\n",
              "      flex-wrap:wrap;\n",
              "      gap: 12px;\n",
              "    }\n",
              "\n",
              "    .colab-df-convert {\n",
              "      background-color: #E8F0FE;\n",
              "      border: none;\n",
              "      border-radius: 50%;\n",
              "      cursor: pointer;\n",
              "      display: none;\n",
              "      fill: #1967D2;\n",
              "      height: 32px;\n",
              "      padding: 0 0 0 0;\n",
              "      width: 32px;\n",
              "    }\n",
              "\n",
              "    .colab-df-convert:hover {\n",
              "      background-color: #E2EBFA;\n",
              "      box-shadow: 0px 1px 2px rgba(60, 64, 67, 0.3), 0px 1px 3px 1px rgba(60, 64, 67, 0.15);\n",
              "      fill: #174EA6;\n",
              "    }\n",
              "\n",
              "    [theme=dark] .colab-df-convert {\n",
              "      background-color: #3B4455;\n",
              "      fill: #D2E3FC;\n",
              "    }\n",
              "\n",
              "    [theme=dark] .colab-df-convert:hover {\n",
              "      background-color: #434B5C;\n",
              "      box-shadow: 0px 1px 3px 1px rgba(0, 0, 0, 0.15);\n",
              "      filter: drop-shadow(0px 1px 2px rgba(0, 0, 0, 0.3));\n",
              "      fill: #FFFFFF;\n",
              "    }\n",
              "  </style>\n",
              "\n",
              "      <script>\n",
              "        const buttonEl =\n",
              "          document.querySelector('#df-8aa8c4cb-090e-4bde-94bd-3c2fc7b2cc77 button.colab-df-convert');\n",
              "        buttonEl.style.display =\n",
              "          google.colab.kernel.accessAllowed ? 'block' : 'none';\n",
              "\n",
              "        async function convertToInteractive(key) {\n",
              "          const element = document.querySelector('#df-8aa8c4cb-090e-4bde-94bd-3c2fc7b2cc77');\n",
              "          const dataTable =\n",
              "            await google.colab.kernel.invokeFunction('convertToInteractive',\n",
              "                                                     [key], {});\n",
              "          if (!dataTable) return;\n",
              "\n",
              "          const docLinkHtml = 'Like what you see? Visit the ' +\n",
              "            '<a target=\"_blank\" href=https://colab.research.google.com/notebooks/data_table.ipynb>data table notebook</a>'\n",
              "            + ' to learn more about interactive tables.';\n",
              "          element.innerHTML = '';\n",
              "          dataTable['output_type'] = 'display_data';\n",
              "          await google.colab.output.renderOutput(dataTable, element);\n",
              "          const docLink = document.createElement('div');\n",
              "          docLink.innerHTML = docLinkHtml;\n",
              "          element.appendChild(docLink);\n",
              "        }\n",
              "      </script>\n",
              "    </div>\n",
              "  </div>\n",
              "  "
            ]
          },
          "metadata": {},
          "execution_count": 2144
        }
      ]
    },
    {
      "cell_type": "code",
      "source": [
        "df_categorical = df.select_dtypes(include=['object'])\n",
        "df_categorical"
      ],
      "metadata": {
        "colab": {
          "base_uri": "https://localhost:8080/",
          "height": 424
        },
        "id": "OcoWq3_r-1G1",
        "outputId": "0d3b6022-d640-4346-c8e6-89002f3fb433"
      },
      "execution_count": 2145,
      "outputs": [
        {
          "output_type": "execute_result",
          "data": {
            "text/plain": [
              "    Inventory Location: Transmission:   Color:   Fuel: Year_from_title\n",
              "0              yokohama            AT    Black  PETROL            2017\n",
              "1                hakata            AT  GRAY(D)  PETROL            2017\n",
              "2                hakata            AT     Wine  PETROL            2016\n",
              "3                  kobe            AT    White  PETROL            2016\n",
              "4                hakata            AT    Pearl  PETROL            2016\n",
              "..                  ...           ...      ...     ...             ...\n",
              "247                kobe            AT    White  PETROL            2016\n",
              "248              hakata            AT  GRAY(D)  PETROL            2017\n",
              "249            yokohama            AT    Black  PETROL            2017\n",
              "250              hakata            AT  GRAY(D)  PETROL            2017\n",
              "251                kobe            AT    Pearl  PETROL            2016\n",
              "\n",
              "[252 rows x 5 columns]"
            ],
            "text/html": [
              "\n",
              "  <div id=\"df-f33d3800-0afa-48c4-bb4d-395bb0aa60a4\">\n",
              "    <div class=\"colab-df-container\">\n",
              "      <div>\n",
              "<style scoped>\n",
              "    .dataframe tbody tr th:only-of-type {\n",
              "        vertical-align: middle;\n",
              "    }\n",
              "\n",
              "    .dataframe tbody tr th {\n",
              "        vertical-align: top;\n",
              "    }\n",
              "\n",
              "    .dataframe thead th {\n",
              "        text-align: right;\n",
              "    }\n",
              "</style>\n",
              "<table border=\"1\" class=\"dataframe\">\n",
              "  <thead>\n",
              "    <tr style=\"text-align: right;\">\n",
              "      <th></th>\n",
              "      <th>Inventory Location:</th>\n",
              "      <th>Transmission:</th>\n",
              "      <th>Color:</th>\n",
              "      <th>Fuel:</th>\n",
              "      <th>Year_from_title</th>\n",
              "    </tr>\n",
              "  </thead>\n",
              "  <tbody>\n",
              "    <tr>\n",
              "      <th>0</th>\n",
              "      <td>yokohama</td>\n",
              "      <td>AT</td>\n",
              "      <td>Black</td>\n",
              "      <td>PETROL</td>\n",
              "      <td>2017</td>\n",
              "    </tr>\n",
              "    <tr>\n",
              "      <th>1</th>\n",
              "      <td>hakata</td>\n",
              "      <td>AT</td>\n",
              "      <td>GRAY(D)</td>\n",
              "      <td>PETROL</td>\n",
              "      <td>2017</td>\n",
              "    </tr>\n",
              "    <tr>\n",
              "      <th>2</th>\n",
              "      <td>hakata</td>\n",
              "      <td>AT</td>\n",
              "      <td>Wine</td>\n",
              "      <td>PETROL</td>\n",
              "      <td>2016</td>\n",
              "    </tr>\n",
              "    <tr>\n",
              "      <th>3</th>\n",
              "      <td>kobe</td>\n",
              "      <td>AT</td>\n",
              "      <td>White</td>\n",
              "      <td>PETROL</td>\n",
              "      <td>2016</td>\n",
              "    </tr>\n",
              "    <tr>\n",
              "      <th>4</th>\n",
              "      <td>hakata</td>\n",
              "      <td>AT</td>\n",
              "      <td>Pearl</td>\n",
              "      <td>PETROL</td>\n",
              "      <td>2016</td>\n",
              "    </tr>\n",
              "    <tr>\n",
              "      <th>...</th>\n",
              "      <td>...</td>\n",
              "      <td>...</td>\n",
              "      <td>...</td>\n",
              "      <td>...</td>\n",
              "      <td>...</td>\n",
              "    </tr>\n",
              "    <tr>\n",
              "      <th>247</th>\n",
              "      <td>kobe</td>\n",
              "      <td>AT</td>\n",
              "      <td>White</td>\n",
              "      <td>PETROL</td>\n",
              "      <td>2016</td>\n",
              "    </tr>\n",
              "    <tr>\n",
              "      <th>248</th>\n",
              "      <td>hakata</td>\n",
              "      <td>AT</td>\n",
              "      <td>GRAY(D)</td>\n",
              "      <td>PETROL</td>\n",
              "      <td>2017</td>\n",
              "    </tr>\n",
              "    <tr>\n",
              "      <th>249</th>\n",
              "      <td>yokohama</td>\n",
              "      <td>AT</td>\n",
              "      <td>Black</td>\n",
              "      <td>PETROL</td>\n",
              "      <td>2017</td>\n",
              "    </tr>\n",
              "    <tr>\n",
              "      <th>250</th>\n",
              "      <td>hakata</td>\n",
              "      <td>AT</td>\n",
              "      <td>GRAY(D)</td>\n",
              "      <td>PETROL</td>\n",
              "      <td>2017</td>\n",
              "    </tr>\n",
              "    <tr>\n",
              "      <th>251</th>\n",
              "      <td>kobe</td>\n",
              "      <td>AT</td>\n",
              "      <td>Pearl</td>\n",
              "      <td>PETROL</td>\n",
              "      <td>2016</td>\n",
              "    </tr>\n",
              "  </tbody>\n",
              "</table>\n",
              "<p>252 rows × 5 columns</p>\n",
              "</div>\n",
              "      <button class=\"colab-df-convert\" onclick=\"convertToInteractive('df-f33d3800-0afa-48c4-bb4d-395bb0aa60a4')\"\n",
              "              title=\"Convert this dataframe to an interactive table.\"\n",
              "              style=\"display:none;\">\n",
              "        \n",
              "  <svg xmlns=\"http://www.w3.org/2000/svg\" height=\"24px\"viewBox=\"0 0 24 24\"\n",
              "       width=\"24px\">\n",
              "    <path d=\"M0 0h24v24H0V0z\" fill=\"none\"/>\n",
              "    <path d=\"M18.56 5.44l.94 2.06.94-2.06 2.06-.94-2.06-.94-.94-2.06-.94 2.06-2.06.94zm-11 1L8.5 8.5l.94-2.06 2.06-.94-2.06-.94L8.5 2.5l-.94 2.06-2.06.94zm10 10l.94 2.06.94-2.06 2.06-.94-2.06-.94-.94-2.06-.94 2.06-2.06.94z\"/><path d=\"M17.41 7.96l-1.37-1.37c-.4-.4-.92-.59-1.43-.59-.52 0-1.04.2-1.43.59L10.3 9.45l-7.72 7.72c-.78.78-.78 2.05 0 2.83L4 21.41c.39.39.9.59 1.41.59.51 0 1.02-.2 1.41-.59l7.78-7.78 2.81-2.81c.8-.78.8-2.07 0-2.86zM5.41 20L4 18.59l7.72-7.72 1.47 1.35L5.41 20z\"/>\n",
              "  </svg>\n",
              "      </button>\n",
              "      \n",
              "  <style>\n",
              "    .colab-df-container {\n",
              "      display:flex;\n",
              "      flex-wrap:wrap;\n",
              "      gap: 12px;\n",
              "    }\n",
              "\n",
              "    .colab-df-convert {\n",
              "      background-color: #E8F0FE;\n",
              "      border: none;\n",
              "      border-radius: 50%;\n",
              "      cursor: pointer;\n",
              "      display: none;\n",
              "      fill: #1967D2;\n",
              "      height: 32px;\n",
              "      padding: 0 0 0 0;\n",
              "      width: 32px;\n",
              "    }\n",
              "\n",
              "    .colab-df-convert:hover {\n",
              "      background-color: #E2EBFA;\n",
              "      box-shadow: 0px 1px 2px rgba(60, 64, 67, 0.3), 0px 1px 3px 1px rgba(60, 64, 67, 0.15);\n",
              "      fill: #174EA6;\n",
              "    }\n",
              "\n",
              "    [theme=dark] .colab-df-convert {\n",
              "      background-color: #3B4455;\n",
              "      fill: #D2E3FC;\n",
              "    }\n",
              "\n",
              "    [theme=dark] .colab-df-convert:hover {\n",
              "      background-color: #434B5C;\n",
              "      box-shadow: 0px 1px 3px 1px rgba(0, 0, 0, 0.15);\n",
              "      filter: drop-shadow(0px 1px 2px rgba(0, 0, 0, 0.3));\n",
              "      fill: #FFFFFF;\n",
              "    }\n",
              "  </style>\n",
              "\n",
              "      <script>\n",
              "        const buttonEl =\n",
              "          document.querySelector('#df-f33d3800-0afa-48c4-bb4d-395bb0aa60a4 button.colab-df-convert');\n",
              "        buttonEl.style.display =\n",
              "          google.colab.kernel.accessAllowed ? 'block' : 'none';\n",
              "\n",
              "        async function convertToInteractive(key) {\n",
              "          const element = document.querySelector('#df-f33d3800-0afa-48c4-bb4d-395bb0aa60a4');\n",
              "          const dataTable =\n",
              "            await google.colab.kernel.invokeFunction('convertToInteractive',\n",
              "                                                     [key], {});\n",
              "          if (!dataTable) return;\n",
              "\n",
              "          const docLinkHtml = 'Like what you see? Visit the ' +\n",
              "            '<a target=\"_blank\" href=https://colab.research.google.com/notebooks/data_table.ipynb>data table notebook</a>'\n",
              "            + ' to learn more about interactive tables.';\n",
              "          element.innerHTML = '';\n",
              "          dataTable['output_type'] = 'display_data';\n",
              "          await google.colab.output.renderOutput(dataTable, element);\n",
              "          const docLink = document.createElement('div');\n",
              "          docLink.innerHTML = docLinkHtml;\n",
              "          element.appendChild(docLink);\n",
              "        }\n",
              "      </script>\n",
              "    </div>\n",
              "  </div>\n",
              "  "
            ]
          },
          "metadata": {},
          "execution_count": 2145
        }
      ]
    },
    {
      "cell_type": "code",
      "source": [
        "df_categorical.columns.tolist()"
      ],
      "metadata": {
        "colab": {
          "base_uri": "https://localhost:8080/"
        },
        "id": "L4UYYl76Coeh",
        "outputId": "cbc1a9fb-0ea0-4626-e879-308e0102fadc"
      },
      "execution_count": 2146,
      "outputs": [
        {
          "output_type": "execute_result",
          "data": {
            "text/plain": [
              "['Inventory Location:', 'Transmission:', 'Color:', 'Fuel:', 'Year_from_title']"
            ]
          },
          "metadata": {},
          "execution_count": 2146
        }
      ]
    },
    {
      "cell_type": "markdown",
      "source": [
        "The categorical variables can be encoded using the label encoder from scikit learn"
      ],
      "metadata": {
        "id": "f3f1e7dA-Dsg"
      }
    },
    {
      "cell_type": "code",
      "source": [
        "categorical_cols = df_categorical.columns.tolist()\n",
        "categorical_cols"
      ],
      "metadata": {
        "colab": {
          "base_uri": "https://localhost:8080/"
        },
        "id": "-AcEpcjqE9wl",
        "outputId": "d185cbca-63f1-43bc-a1d6-f01c5414bf85"
      },
      "execution_count": 2147,
      "outputs": [
        {
          "output_type": "execute_result",
          "data": {
            "text/plain": [
              "['Inventory Location:', 'Transmission:', 'Color:', 'Fuel:', 'Year_from_title']"
            ]
          },
          "metadata": {},
          "execution_count": 2147
        }
      ]
    },
    {
      "cell_type": "code",
      "source": [
        "from sklearn.preprocessing import LabelEncoder\n",
        "# instantiate labelencoder object\n",
        "le = LabelEncoder()"
      ],
      "metadata": {
        "id": "c6dLBJT7FikX"
      },
      "execution_count": 2148,
      "outputs": []
    },
    {
      "cell_type": "code",
      "source": [
        "# apply le on categorical feature columns\n",
        "df[categorical_cols] = df[categorical_cols].apply(lambda col: le.fit_transform(col)) "
      ],
      "metadata": {
        "id": "kOm21w-FC3_r"
      },
      "execution_count": 2149,
      "outputs": []
    },
    {
      "cell_type": "code",
      "source": [
        "df.head()"
      ],
      "metadata": {
        "colab": {
          "base_uri": "https://localhost:8080/",
          "height": 297
        },
        "id": "kvaQz6n2DfP-",
        "outputId": "edf52548-589e-413a-9ea1-816bcc30b39a"
      },
      "execution_count": 2150,
      "outputs": [
        {
          "output_type": "execute_result",
          "data": {
            "text/plain": [
              "   Inventory Location:  Transmission:  Color:  Mileage:  Fuel:  Air Bag  \\\n",
              "0                   41              1       5    102000      1      1.0   \n",
              "1                    9              1       8    120000      1      1.0   \n",
              "2                    9              1      23     98000      1      1.0   \n",
              "3                   19              1      22    114000      1      1.0   \n",
              "4                    9              1      15    143000      1      1.0   \n",
              "\n",
              "   Anti-Lock Brake System  Air Conditioner  Navigation  Power Steering  ...  \\\n",
              "0                     1.0              1.0         1.0             1.0  ...   \n",
              "1                     1.0              1.0         1.0             1.0  ...   \n",
              "2                     1.0              1.0         0.0             1.0  ...   \n",
              "3                     1.0              1.0         1.0             1.0  ...   \n",
              "4                     1.0              1.0         1.0             1.0  ...   \n",
              "\n",
              "   Fog Lights  Auto Air Conditioner  Aero  HID  Centralized Door Lock  \\\n",
              "0         0.0                   0.0   0.0  0.0                    0.0   \n",
              "1         0.0                   0.0   0.0  0.0                    0.0   \n",
              "2         0.0                   0.0   0.0  0.0                    0.0   \n",
              "3         0.0                   0.0   0.0  0.0                    0.0   \n",
              "4         0.0                   0.0   0.0  0.0                    0.0   \n",
              "\n",
              "   Push Start  Spare Key  LED  Steering Switch  Year_from_title  \n",
              "0         0.0        0.0  0.0              0.0                1  \n",
              "1         0.0        0.0  0.0              0.0                1  \n",
              "2         0.0        0.0  0.0              0.0                0  \n",
              "3         0.0        0.0  0.0              0.0                0  \n",
              "4         0.0        0.0  0.0              0.0                0  \n",
              "\n",
              "[5 rows x 30 columns]"
            ],
            "text/html": [
              "\n",
              "  <div id=\"df-4e864ed4-e20b-4f51-9597-44ac0769fdcd\">\n",
              "    <div class=\"colab-df-container\">\n",
              "      <div>\n",
              "<style scoped>\n",
              "    .dataframe tbody tr th:only-of-type {\n",
              "        vertical-align: middle;\n",
              "    }\n",
              "\n",
              "    .dataframe tbody tr th {\n",
              "        vertical-align: top;\n",
              "    }\n",
              "\n",
              "    .dataframe thead th {\n",
              "        text-align: right;\n",
              "    }\n",
              "</style>\n",
              "<table border=\"1\" class=\"dataframe\">\n",
              "  <thead>\n",
              "    <tr style=\"text-align: right;\">\n",
              "      <th></th>\n",
              "      <th>Inventory Location:</th>\n",
              "      <th>Transmission:</th>\n",
              "      <th>Color:</th>\n",
              "      <th>Mileage:</th>\n",
              "      <th>Fuel:</th>\n",
              "      <th>Air Bag</th>\n",
              "      <th>Anti-Lock Brake System</th>\n",
              "      <th>Air Conditioner</th>\n",
              "      <th>Navigation</th>\n",
              "      <th>Power Steering</th>\n",
              "      <th>...</th>\n",
              "      <th>Fog Lights</th>\n",
              "      <th>Auto Air Conditioner</th>\n",
              "      <th>Aero</th>\n",
              "      <th>HID</th>\n",
              "      <th>Centralized Door Lock</th>\n",
              "      <th>Push Start</th>\n",
              "      <th>Spare Key</th>\n",
              "      <th>LED</th>\n",
              "      <th>Steering Switch</th>\n",
              "      <th>Year_from_title</th>\n",
              "    </tr>\n",
              "  </thead>\n",
              "  <tbody>\n",
              "    <tr>\n",
              "      <th>0</th>\n",
              "      <td>41</td>\n",
              "      <td>1</td>\n",
              "      <td>5</td>\n",
              "      <td>102000</td>\n",
              "      <td>1</td>\n",
              "      <td>1.0</td>\n",
              "      <td>1.0</td>\n",
              "      <td>1.0</td>\n",
              "      <td>1.0</td>\n",
              "      <td>1.0</td>\n",
              "      <td>...</td>\n",
              "      <td>0.0</td>\n",
              "      <td>0.0</td>\n",
              "      <td>0.0</td>\n",
              "      <td>0.0</td>\n",
              "      <td>0.0</td>\n",
              "      <td>0.0</td>\n",
              "      <td>0.0</td>\n",
              "      <td>0.0</td>\n",
              "      <td>0.0</td>\n",
              "      <td>1</td>\n",
              "    </tr>\n",
              "    <tr>\n",
              "      <th>1</th>\n",
              "      <td>9</td>\n",
              "      <td>1</td>\n",
              "      <td>8</td>\n",
              "      <td>120000</td>\n",
              "      <td>1</td>\n",
              "      <td>1.0</td>\n",
              "      <td>1.0</td>\n",
              "      <td>1.0</td>\n",
              "      <td>1.0</td>\n",
              "      <td>1.0</td>\n",
              "      <td>...</td>\n",
              "      <td>0.0</td>\n",
              "      <td>0.0</td>\n",
              "      <td>0.0</td>\n",
              "      <td>0.0</td>\n",
              "      <td>0.0</td>\n",
              "      <td>0.0</td>\n",
              "      <td>0.0</td>\n",
              "      <td>0.0</td>\n",
              "      <td>0.0</td>\n",
              "      <td>1</td>\n",
              "    </tr>\n",
              "    <tr>\n",
              "      <th>2</th>\n",
              "      <td>9</td>\n",
              "      <td>1</td>\n",
              "      <td>23</td>\n",
              "      <td>98000</td>\n",
              "      <td>1</td>\n",
              "      <td>1.0</td>\n",
              "      <td>1.0</td>\n",
              "      <td>1.0</td>\n",
              "      <td>0.0</td>\n",
              "      <td>1.0</td>\n",
              "      <td>...</td>\n",
              "      <td>0.0</td>\n",
              "      <td>0.0</td>\n",
              "      <td>0.0</td>\n",
              "      <td>0.0</td>\n",
              "      <td>0.0</td>\n",
              "      <td>0.0</td>\n",
              "      <td>0.0</td>\n",
              "      <td>0.0</td>\n",
              "      <td>0.0</td>\n",
              "      <td>0</td>\n",
              "    </tr>\n",
              "    <tr>\n",
              "      <th>3</th>\n",
              "      <td>19</td>\n",
              "      <td>1</td>\n",
              "      <td>22</td>\n",
              "      <td>114000</td>\n",
              "      <td>1</td>\n",
              "      <td>1.0</td>\n",
              "      <td>1.0</td>\n",
              "      <td>1.0</td>\n",
              "      <td>1.0</td>\n",
              "      <td>1.0</td>\n",
              "      <td>...</td>\n",
              "      <td>0.0</td>\n",
              "      <td>0.0</td>\n",
              "      <td>0.0</td>\n",
              "      <td>0.0</td>\n",
              "      <td>0.0</td>\n",
              "      <td>0.0</td>\n",
              "      <td>0.0</td>\n",
              "      <td>0.0</td>\n",
              "      <td>0.0</td>\n",
              "      <td>0</td>\n",
              "    </tr>\n",
              "    <tr>\n",
              "      <th>4</th>\n",
              "      <td>9</td>\n",
              "      <td>1</td>\n",
              "      <td>15</td>\n",
              "      <td>143000</td>\n",
              "      <td>1</td>\n",
              "      <td>1.0</td>\n",
              "      <td>1.0</td>\n",
              "      <td>1.0</td>\n",
              "      <td>1.0</td>\n",
              "      <td>1.0</td>\n",
              "      <td>...</td>\n",
              "      <td>0.0</td>\n",
              "      <td>0.0</td>\n",
              "      <td>0.0</td>\n",
              "      <td>0.0</td>\n",
              "      <td>0.0</td>\n",
              "      <td>0.0</td>\n",
              "      <td>0.0</td>\n",
              "      <td>0.0</td>\n",
              "      <td>0.0</td>\n",
              "      <td>0</td>\n",
              "    </tr>\n",
              "  </tbody>\n",
              "</table>\n",
              "<p>5 rows × 30 columns</p>\n",
              "</div>\n",
              "      <button class=\"colab-df-convert\" onclick=\"convertToInteractive('df-4e864ed4-e20b-4f51-9597-44ac0769fdcd')\"\n",
              "              title=\"Convert this dataframe to an interactive table.\"\n",
              "              style=\"display:none;\">\n",
              "        \n",
              "  <svg xmlns=\"http://www.w3.org/2000/svg\" height=\"24px\"viewBox=\"0 0 24 24\"\n",
              "       width=\"24px\">\n",
              "    <path d=\"M0 0h24v24H0V0z\" fill=\"none\"/>\n",
              "    <path d=\"M18.56 5.44l.94 2.06.94-2.06 2.06-.94-2.06-.94-.94-2.06-.94 2.06-2.06.94zm-11 1L8.5 8.5l.94-2.06 2.06-.94-2.06-.94L8.5 2.5l-.94 2.06-2.06.94zm10 10l.94 2.06.94-2.06 2.06-.94-2.06-.94-.94-2.06-.94 2.06-2.06.94z\"/><path d=\"M17.41 7.96l-1.37-1.37c-.4-.4-.92-.59-1.43-.59-.52 0-1.04.2-1.43.59L10.3 9.45l-7.72 7.72c-.78.78-.78 2.05 0 2.83L4 21.41c.39.39.9.59 1.41.59.51 0 1.02-.2 1.41-.59l7.78-7.78 2.81-2.81c.8-.78.8-2.07 0-2.86zM5.41 20L4 18.59l7.72-7.72 1.47 1.35L5.41 20z\"/>\n",
              "  </svg>\n",
              "      </button>\n",
              "      \n",
              "  <style>\n",
              "    .colab-df-container {\n",
              "      display:flex;\n",
              "      flex-wrap:wrap;\n",
              "      gap: 12px;\n",
              "    }\n",
              "\n",
              "    .colab-df-convert {\n",
              "      background-color: #E8F0FE;\n",
              "      border: none;\n",
              "      border-radius: 50%;\n",
              "      cursor: pointer;\n",
              "      display: none;\n",
              "      fill: #1967D2;\n",
              "      height: 32px;\n",
              "      padding: 0 0 0 0;\n",
              "      width: 32px;\n",
              "    }\n",
              "\n",
              "    .colab-df-convert:hover {\n",
              "      background-color: #E2EBFA;\n",
              "      box-shadow: 0px 1px 2px rgba(60, 64, 67, 0.3), 0px 1px 3px 1px rgba(60, 64, 67, 0.15);\n",
              "      fill: #174EA6;\n",
              "    }\n",
              "\n",
              "    [theme=dark] .colab-df-convert {\n",
              "      background-color: #3B4455;\n",
              "      fill: #D2E3FC;\n",
              "    }\n",
              "\n",
              "    [theme=dark] .colab-df-convert:hover {\n",
              "      background-color: #434B5C;\n",
              "      box-shadow: 0px 1px 3px 1px rgba(0, 0, 0, 0.15);\n",
              "      filter: drop-shadow(0px 1px 2px rgba(0, 0, 0, 0.3));\n",
              "      fill: #FFFFFF;\n",
              "    }\n",
              "  </style>\n",
              "\n",
              "      <script>\n",
              "        const buttonEl =\n",
              "          document.querySelector('#df-4e864ed4-e20b-4f51-9597-44ac0769fdcd button.colab-df-convert');\n",
              "        buttonEl.style.display =\n",
              "          google.colab.kernel.accessAllowed ? 'block' : 'none';\n",
              "\n",
              "        async function convertToInteractive(key) {\n",
              "          const element = document.querySelector('#df-4e864ed4-e20b-4f51-9597-44ac0769fdcd');\n",
              "          const dataTable =\n",
              "            await google.colab.kernel.invokeFunction('convertToInteractive',\n",
              "                                                     [key], {});\n",
              "          if (!dataTable) return;\n",
              "\n",
              "          const docLinkHtml = 'Like what you see? Visit the ' +\n",
              "            '<a target=\"_blank\" href=https://colab.research.google.com/notebooks/data_table.ipynb>data table notebook</a>'\n",
              "            + ' to learn more about interactive tables.';\n",
              "          element.innerHTML = '';\n",
              "          dataTable['output_type'] = 'display_data';\n",
              "          await google.colab.output.renderOutput(dataTable, element);\n",
              "          const docLink = document.createElement('div');\n",
              "          docLink.innerHTML = docLinkHtml;\n",
              "          element.appendChild(docLink);\n",
              "        }\n",
              "      </script>\n",
              "    </div>\n",
              "  </div>\n",
              "  "
            ]
          },
          "metadata": {},
          "execution_count": 2150
        }
      ]
    },
    {
      "cell_type": "code",
      "source": [
        "df.info()"
      ],
      "metadata": {
        "colab": {
          "base_uri": "https://localhost:8080/"
        },
        "id": "HiWHQRqADg8O",
        "outputId": "51bc0efb-6b77-4c9f-9307-e951514320d9"
      },
      "execution_count": 2151,
      "outputs": [
        {
          "output_type": "stream",
          "name": "stdout",
          "text": [
            "<class 'pandas.core.frame.DataFrame'>\n",
            "RangeIndex: 252 entries, 0 to 251\n",
            "Data columns (total 30 columns):\n",
            " #   Column                  Non-Null Count  Dtype  \n",
            "---  ------                  --------------  -----  \n",
            " 0   Inventory Location:     252 non-null    int64  \n",
            " 1   Transmission:           252 non-null    int64  \n",
            " 2   Color:                  252 non-null    int64  \n",
            " 3   Mileage:                252 non-null    int64  \n",
            " 4   Fuel:                   252 non-null    int64  \n",
            " 5   Air Bag                 252 non-null    float64\n",
            " 6   Anti-Lock Brake System  252 non-null    float64\n",
            " 7   Air Conditioner         252 non-null    float64\n",
            " 8   Navigation              252 non-null    float64\n",
            " 9   Power Steering          252 non-null    float64\n",
            " 10  Power Windows           252 non-null    float64\n",
            " 11  price                   252 non-null    int64  \n",
            " 12  Navigation System       252 non-null    float64\n",
            " 13  TV                      252 non-null    float64\n",
            " 14  Dual Air Bags           252 non-null    float64\n",
            " 15  Anti-Lock Brake         252 non-null    float64\n",
            " 16  CD                      252 non-null    float64\n",
            " 17  Back Camera             252 non-null    float64\n",
            " 18  Key Less Entry          252 non-null    float64\n",
            " 19  Alloy Wheels            252 non-null    float64\n",
            " 20  Fog Lights              252 non-null    float64\n",
            " 21  Auto Air Conditioner    252 non-null    float64\n",
            " 22  Aero                    252 non-null    float64\n",
            " 23  HID                     252 non-null    float64\n",
            " 24  Centralized Door Lock   252 non-null    float64\n",
            " 25  Push Start              252 non-null    float64\n",
            " 26  Spare Key               252 non-null    float64\n",
            " 27  LED                     252 non-null    float64\n",
            " 28  Steering Switch         252 non-null    float64\n",
            " 29  Year_from_title         252 non-null    int64  \n",
            "dtypes: float64(23), int64(7)\n",
            "memory usage: 59.2 KB\n"
          ]
        }
      ]
    },
    {
      "cell_type": "markdown",
      "source": [
        "## Outliers"
      ],
      "metadata": {
        "id": "m3bNyXoZGXDc"
      }
    },
    {
      "cell_type": "markdown",
      "source": [
        "Our target variable is the price and we need to ensure our model works with data that is well distributed as outliers can ifluence the quality of our results"
      ],
      "metadata": {
        "id": "jF1ctalpG8g7"
      }
    },
    {
      "cell_type": "code",
      "source": [
        "import seaborn as sns\n",
        "import matplotlib.pyplot as plt"
      ],
      "metadata": {
        "id": "9mzHs1dTGYYg"
      },
      "execution_count": 2152,
      "outputs": []
    },
    {
      "cell_type": "code",
      "source": [
        "sns.distplot(df['price'])"
      ],
      "metadata": {
        "colab": {
          "base_uri": "https://localhost:8080/",
          "height": 356
        },
        "id": "S2bOdwk0GqpW",
        "outputId": "e6d95e5f-ff04-4359-fb8b-a0fe7952e302"
      },
      "execution_count": 2153,
      "outputs": [
        {
          "output_type": "stream",
          "name": "stderr",
          "text": [
            "/usr/local/lib/python3.7/dist-packages/seaborn/distributions.py:2619: FutureWarning: `distplot` is a deprecated function and will be removed in a future version. Please adapt your code to use either `displot` (a figure-level function with similar flexibility) or `histplot` (an axes-level function for histograms).\n",
            "  warnings.warn(msg, FutureWarning)\n"
          ]
        },
        {
          "output_type": "execute_result",
          "data": {
            "text/plain": [
              "<matplotlib.axes._subplots.AxesSubplot at 0x7fc31ea69450>"
            ]
          },
          "metadata": {},
          "execution_count": 2153
        },
        {
          "output_type": "display_data",
          "data": {
            "text/plain": [
              "<Figure size 432x288 with 1 Axes>"
            ],
            "image/png": "[encoded data removed]"
          },
          "metadata": {
            "needs_background": "light"
          }
        }
      ]
    },
    {
      "cell_type": "markdown",
      "source": [
        "## Correlation\n",
        "\n",
        "Correlation shows the relationship betweem two or more things. We need to only use highly correlated features. "
      ],
      "metadata": {
        "id": "r9R6sIEdJ8X7"
      }
    },
    {
      "cell_type": "code",
      "source": [
        "most_corr = df.corr()"
      ],
      "metadata": {
        "id": "RjHlBKucK658"
      },
      "execution_count": 2154,
      "outputs": []
    },
    {
      "cell_type": "code",
      "source": [
        "most_corr"
      ],
      "metadata": {
        "colab": {
          "base_uri": "https://localhost:8080/",
          "height": 1000
        },
        "id": "9cLqL44YLmjO",
        "outputId": "083ffb6b-e53a-4168-a940-7419f6f1099e"
      },
      "execution_count": 2155,
      "outputs": [
        {
          "output_type": "execute_result",
          "data": {
            "text/plain": [
              "                        Inventory Location:  Transmission:    Color:  \\\n",
              "Inventory Location:                1.000000       0.025016  0.065465   \n",
              "Transmission:                      0.025016       1.000000 -0.137357   \n",
              "Color:                             0.065465      -0.137357  1.000000   \n",
              "Mileage:                          -0.075832       0.005925  0.057634   \n",
              "Fuel:                              0.003093       0.039540  0.106851   \n",
              "Air Bag                           -0.097643       0.041693  0.089519   \n",
              "Anti-Lock Brake System             0.056936      -0.049224  0.058812   \n",
              "Air Conditioner                   -0.005092       0.205043  0.113705   \n",
              "Navigation                         0.033477      -0.046538  0.030158   \n",
              "Power Steering                    -0.033268       0.013408  0.059407   \n",
              "Power Windows                     -0.033268       0.013408  0.059407   \n",
              "price                             -0.033331       0.235178 -0.145726   \n",
              "Navigation System                 -0.071133       0.091429 -0.036009   \n",
              "TV                                -0.094816       0.092151 -0.026878   \n",
              "Dual Air Bags                      0.020728       0.120522  0.017469   \n",
              "Anti-Lock Brake                   -0.027652       0.054484 -0.032025   \n",
              "CD                                 0.011164       0.142938  0.002461   \n",
              "Back Camera                       -0.074434      -0.039339 -0.040333   \n",
              "Key Less Entry                    -0.058028       0.161086  0.020202   \n",
              "Alloy Wheels                      -0.005260       0.323931 -0.141610   \n",
              "Fog Lights                         0.028969      -0.015021  0.019232   \n",
              "Auto Air Conditioner              -0.017666      -0.016488 -0.053657   \n",
              "Aero                              -0.065395       0.260508 -0.025443   \n",
              "HID                               -0.055111      -0.011588  0.086224   \n",
              "Centralized Door Lock             -0.144308      -0.009443 -0.008512   \n",
              "Push Start                        -0.144308      -0.009443 -0.008512   \n",
              "Spare Key                         -0.144308      -0.009443 -0.008512   \n",
              "LED                               -0.101838      -0.006664 -0.001731   \n",
              "Steering Switch                   -0.101838      -0.006664 -0.010283   \n",
              "Year_from_title                   -0.061914      -0.003093 -0.136638   \n",
              "\n",
              "                        Mileage:     Fuel:   Air Bag  Anti-Lock Brake System  \\\n",
              "Inventory Location:    -0.075832  0.003093 -0.097643                0.056936   \n",
              "Transmission:           0.005925  0.039540  0.041693               -0.049224   \n",
              "Color:                  0.057634  0.106851  0.089519                0.058812   \n",
              "Mileage:                1.000000  0.055889  0.115105                0.706169   \n",
              "Fuel:                   0.055889  1.000000 -0.077182                0.111535   \n",
              "Air Bag                 0.115105 -0.077182  1.000000                0.184133   \n",
              "Anti-Lock Brake System  0.706169  0.111535  0.184133                1.000000   \n",
              "Air Conditioner         0.021051  0.058965  0.342477                0.117299   \n",
              "Navigation              0.692884  0.132362  0.174085                0.945431   \n",
              "Power Steering          0.002369 -0.047565  0.321583                0.059214   \n",
              "Power Windows           0.002369 -0.047565  0.321583                0.059214   \n",
              "price                  -0.565864 -0.213793  0.080517               -0.565369   \n",
              "Navigation System      -0.354398 -0.177870  0.315188               -0.538382   \n",
              "TV                     -0.264407 -0.207250  0.259267               -0.362688   \n",
              "Dual Air Bags          -0.460357 -0.091207 -0.161764               -0.647778   \n",
              "Anti-Lock Brake        -0.670192 -0.133993 -0.032799               -0.903462   \n",
              "CD                     -0.331511 -0.115193  0.088598               -0.489010   \n",
              "Back Camera            -0.230358 -0.129132  0.070617               -0.365758   \n",
              "Key Less Entry         -0.531433 -0.138099  0.225619               -0.716271   \n",
              "Alloy Wheels           -0.124291 -0.129065  0.057844               -0.127331   \n",
              "Fog Lights              0.061764  0.053287 -0.110394                0.156556   \n",
              "Auto Air Conditioner    0.006888 -0.100002 -0.395455               -0.072816   \n",
              "Aero                   -0.004686 -0.100002  0.061676               -0.072816   \n",
              "HID                    -0.006070 -0.181679  0.043348               -0.051178   \n",
              "Centralized Door Lock   0.040689 -0.102658 -0.226482               -0.041703   \n",
              "Push Start              0.040689 -0.102658 -0.226482               -0.041703   \n",
              "Spare Key               0.040689 -0.102658 -0.226482               -0.041703   \n",
              "LED                     0.019575  0.023640 -0.159828               -0.029430   \n",
              "Steering Switch         0.037854 -0.168530 -0.159828               -0.029430   \n",
              "Year_from_title        -0.401027  0.040701  0.006805               -0.321736   \n",
              "\n",
              "                        Air Conditioner  Navigation  Power Steering  ...  \\\n",
              "Inventory Location:           -0.005092    0.033477       -0.033268  ...   \n",
              "Transmission:                  0.205043   -0.046538        0.013408  ...   \n",
              "Color:                         0.113705    0.030158        0.059407  ...   \n",
              "Mileage:                       0.021051    0.692884        0.002369  ...   \n",
              "Fuel:                          0.058965    0.132362       -0.047565  ...   \n",
              "Air Bag                        0.342477    0.174085        0.321583  ...   \n",
              "Anti-Lock Brake System         0.117299    0.945431        0.059214  ...   \n",
              "Air Conditioner                1.000000    0.110898        0.370624  ...   \n",
              "Navigation                     0.110898    1.000000        0.055983  ...   \n",
              "Power Steering                 0.370624    0.055983        1.000000  ...   \n",
              "Power Windows                  0.370624    0.055983        1.000000  ...   \n",
              "price                         -0.108470   -0.542161        0.064630  ...   \n",
              "Navigation System              0.154931   -0.509003        0.146647  ...   \n",
              "TV                             0.126482   -0.342896        0.098791  ...   \n",
              "Dual Air Bags                  0.137283   -0.612429        0.176445  ...   \n",
              "Anti-Lock Brake               -0.006369   -0.854160        0.246089  ...   \n",
              "CD                             0.129530   -0.462325        0.133199  ...   \n",
              "Back Camera                   -0.009868   -0.345799        0.099627  ...   \n",
              "Key Less Entry                 0.349798   -0.677184        0.195101  ...   \n",
              "Alloy Wheels                  -0.044456   -0.114856        0.051004  ...   \n",
              "Fog Lights                    -0.084473    0.168572        0.018069  ...   \n",
              "Auto Air Conditioner          -0.620778   -0.068843        0.019834  ...   \n",
              "Aero                           0.039290   -0.068843        0.019834  ...   \n",
              "HID                            0.027614   -0.048385        0.013940  ...   \n",
              "Centralized Door Lock         -0.166513   -0.039427        0.011359  ...   \n",
              "Push Start                    -0.166513   -0.039427        0.011359  ...   \n",
              "Spare Key                     -0.166513   -0.039427        0.011359  ...   \n",
              "LED                            0.015879   -0.027824        0.008016  ...   \n",
              "Steering Switch               -0.250895   -0.027824        0.008016  ...   \n",
              "Year_from_title                0.041762   -0.314958        0.055806  ...   \n",
              "\n",
              "                        Fog Lights  Auto Air Conditioner      Aero       HID  \\\n",
              "Inventory Location:       0.028969             -0.017666 -0.065395 -0.055111   \n",
              "Transmission:            -0.015021             -0.016488  0.260508 -0.011588   \n",
              "Color:                    0.019232             -0.053657 -0.025443  0.086224   \n",
              "Mileage:                  0.061764              0.006888 -0.004686 -0.006070   \n",
              "Fuel:                     0.053287             -0.100002 -0.100002 -0.181679   \n",
              "Air Bag                  -0.110394             -0.395455  0.061676  0.043348   \n",
              "Anti-Lock Brake System    0.156556             -0.072816 -0.072816 -0.051178   \n",
              "Air Conditioner          -0.084473             -0.620778  0.039290  0.027614   \n",
              "Navigation                0.168572             -0.068843 -0.068843 -0.048385   \n",
              "Power Steering            0.018069              0.019834  0.019834  0.013940   \n",
              "Power Windows             0.018069              0.019834  0.019834  0.013940   \n",
              "price                    -0.036798              0.045704  0.255994  0.096394   \n",
              "Navigation System        -0.049286             -0.022542  0.082653  0.095059   \n",
              "TV                       -0.051959             -0.067775  0.147060  0.141107   \n",
              "Dual Air Bags            -0.077639              0.112410  0.112410  0.079005   \n",
              "Anti-Lock Brake          -0.136045              0.080597  0.080597  0.056646   \n",
              "CD                       -0.092246              0.044672  0.148906  0.104656   \n",
              "Back Camera              -0.111612              0.091885  0.038285  0.064580   \n",
              "Key Less Entry           -0.156334             -0.182989  0.101660  0.071450   \n",
              "Alloy Wheels              0.107423              0.087809  0.388870  0.061715   \n",
              "Fog Lights                1.000000              0.164428 -0.022220 -0.015617   \n",
              "Auto Air Conditioner      0.164428              1.000000 -0.024390 -0.017142   \n",
              "Aero                     -0.022220             -0.024390  1.000000  0.222850   \n",
              "HID                      -0.015617             -0.017142  0.222850  1.000000   \n",
              "Centralized Door Lock     0.307962              0.279372 -0.013969 -0.009818   \n",
              "Push Start                0.307962              0.279372 -0.013969 -0.009818   \n",
              "Spare Key                 0.307962              0.279372 -0.013969 -0.009818   \n",
              "LED                       0.443636             -0.009858 -0.009858 -0.006928   \n",
              "Steering Switch          -0.008980              0.404162 -0.009858 -0.006928   \n",
              "Year_from_title          -0.004168             -0.015250 -0.015250 -0.048232   \n",
              "\n",
              "                        Centralized Door Lock  Push Start  Spare Key  \\\n",
              "Inventory Location:                 -0.144308   -0.144308  -0.144308   \n",
              "Transmission:                       -0.009443   -0.009443  -0.009443   \n",
              "Color:                              -0.008512   -0.008512  -0.008512   \n",
              "Mileage:                             0.040689    0.040689   0.040689   \n",
              "Fuel:                               -0.102658   -0.102658  -0.102658   \n",
              "Air Bag                             -0.226482   -0.226482  -0.226482   \n",
              "Anti-Lock Brake System              -0.041703   -0.041703  -0.041703   \n",
              "Air Conditioner                     -0.166513   -0.166513  -0.166513   \n",
              "Navigation                          -0.039427   -0.039427  -0.039427   \n",
              "Power Steering                       0.011359    0.011359   0.011359   \n",
              "Power Windows                        0.011359    0.011359   0.011359   \n",
              "price                                0.027289    0.027289   0.027289   \n",
              "Navigation System                    0.077460    0.077460   0.077460   \n",
              "TV                                   0.114983    0.114983   0.114983   \n",
              "Dual Air Bags                        0.064378    0.064378   0.064378   \n",
              "Anti-Lock Brake                      0.046159    0.046159   0.046159   \n",
              "CD                                  -0.093808   -0.093808  -0.093808   \n",
              "Back Camera                          0.021926    0.021926   0.021926   \n",
              "Key Less Entry                       0.058222    0.058222   0.058222   \n",
              "Alloy Wheels                        -0.035921   -0.035921  -0.035921   \n",
              "Fog Lights                           0.307962    0.307962   0.307962   \n",
              "Auto Air Conditioner                 0.279372    0.279372   0.279372   \n",
              "Aero                                -0.013969   -0.013969  -0.013969   \n",
              "HID                                 -0.009818   -0.009818  -0.009818   \n",
              "Centralized Door Lock                1.000000    1.000000   1.000000   \n",
              "Push Start                           1.000000    1.000000   1.000000   \n",
              "Spare Key                            1.000000    1.000000   1.000000   \n",
              "LED                                  0.705697    0.705697   0.705697   \n",
              "Steering Switch                      0.705697    0.705697   0.705697   \n",
              "Year_from_title                      0.052403    0.052403   0.052403   \n",
              "\n",
              "                             LED  Steering Switch  Year_from_title  \n",
              "Inventory Location:    -0.101838        -0.101838        -0.061914  \n",
              "Transmission:          -0.006664        -0.006664        -0.003093  \n",
              "Color:                 -0.001731        -0.010283        -0.136638  \n",
              "Mileage:                0.019575         0.037854        -0.401027  \n",
              "Fuel:                   0.023640        -0.168530         0.040701  \n",
              "Air Bag                -0.159828        -0.159828         0.006805  \n",
              "Anti-Lock Brake System -0.029430        -0.029430        -0.321736  \n",
              "Air Conditioner         0.015879        -0.250895         0.041762  \n",
              "Navigation             -0.027824        -0.027824        -0.314958  \n",
              "Power Steering          0.008016         0.008016         0.055806  \n",
              "Power Windows           0.008016         0.008016         0.055806  \n",
              "price                   0.029823         0.008693         0.521447  \n",
              "Navigation System       0.054663         0.054663         0.191448  \n",
              "TV                      0.081143         0.081143         0.010794  \n",
              "Dual Air Bags           0.045432         0.045432         0.230468  \n",
              "Anti-Lock Brake         0.032574         0.032574         0.296657  \n",
              "CD                     -0.066200        -0.066200         0.150130  \n",
              "Back Camera            -0.049515         0.080462         0.275287  \n",
              "Key Less Entry          0.041087         0.041087         0.241541  \n",
              "Alloy Wheels           -0.025349        -0.025349        -0.023530  \n",
              "Fog Lights              0.443636        -0.008980        -0.004168  \n",
              "Auto Air Conditioner   -0.009858         0.404162        -0.015250  \n",
              "Aero                   -0.009858        -0.009858        -0.015250  \n",
              "HID                    -0.006928        -0.006928        -0.048232  \n",
              "Centralized Door Lock   0.705697         0.705697         0.052403  \n",
              "Push Start              0.705697         0.705697         0.052403  \n",
              "Spare Key               0.705697         0.705697         0.052403  \n",
              "LED                     1.000000        -0.003984         0.101698  \n",
              "Steering Switch        -0.003984         1.000000        -0.027736  \n",
              "Year_from_title         0.101698        -0.027736         1.000000  \n",
              "\n",
              "[30 rows x 30 columns]"
            ],
            "text/html": [
              "\n",
              "  <div id=\"df-b35efe84-d03f-4216-a843-d438153179ff\">\n",
              "    <div class=\"colab-df-container\">\n",
              "      <div>\n",
              "<style scoped>\n",
              "    .dataframe tbody tr th:only-of-type {\n",
              "        vertical-align: middle;\n",
              "    }\n",
              "\n",
              "    .dataframe tbody tr th {\n",
              "        vertical-align: top;\n",
              "    }\n",
              "\n",
              "    .dataframe thead th {\n",
              "        text-align: right;\n",
              "    }\n",
              "</style>\n",
              "<table border=\"1\" class=\"dataframe\">\n",
              "  <thead>\n",
              "    <tr style=\"text-align: right;\">\n",
              "      <th></th>\n",
              "      <th>Inventory Location:</th>\n",
              "      <th>Transmission:</th>\n",
              "      <th>Color:</th>\n",
              "      <th>Mileage:</th>\n",
              "      <th>Fuel:</th>\n",
              "      <th>Air Bag</th>\n",
              "      <th>Anti-Lock Brake System</th>\n",
              "      <th>Air Conditioner</th>\n",
              "      <th>Navigation</th>\n",
              "      <th>Power Steering</th>\n",
              "      <th>...</th>\n",
              "      <th>Fog Lights</th>\n",
              "      <th>Auto Air Conditioner</th>\n",
              "      <th>Aero</th>\n",
              "      <th>HID</th>\n",
              "      <th>Centralized Door Lock</th>\n",
              "      <th>Push Start</th>\n",
              "      <th>Spare Key</th>\n",
              "      <th>LED</th>\n",
              "      <th>Steering Switch</th>\n",
              "      <th>Year_from_title</th>\n",
              "    </tr>\n",
              "  </thead>\n",
              "  <tbody>\n",
              "    <tr>\n",
              "      <th>Inventory Location:</th>\n",
              "      <td>1.000000</td>\n",
              "      <td>0.025016</td>\n",
              "      <td>0.065465</td>\n",
              "      <td>-0.075832</td>\n",
              "      <td>0.003093</td>\n",
              "      <td>-0.097643</td>\n",
              "      <td>0.056936</td>\n",
              "      <td>-0.005092</td>\n",
              "      <td>0.033477</td>\n",
              "      <td>-0.033268</td>\n",
              "      <td>...</td>\n",
              "      <td>0.028969</td>\n",
              "      <td>-0.017666</td>\n",
              "      <td>-0.065395</td>\n",
              "      <td>-0.055111</td>\n",
              "      <td>-0.144308</td>\n",
              "      <td>-0.144308</td>\n",
              "      <td>-0.144308</td>\n",
              "      <td>-0.101838</td>\n",
              "      <td>-0.101838</td>\n",
              "      <td>-0.061914</td>\n",
              "    </tr>\n",
              "    <tr>\n",
              "      <th>Transmission:</th>\n",
              "      <td>0.025016</td>\n",
              "      <td>1.000000</td>\n",
              "      <td>-0.137357</td>\n",
              "      <td>0.005925</td>\n",
              "      <td>0.039540</td>\n",
              "      <td>0.041693</td>\n",
              "      <td>-0.049224</td>\n",
              "      <td>0.205043</td>\n",
              "      <td>-0.046538</td>\n",
              "      <td>0.013408</td>\n",
              "      <td>...</td>\n",
              "      <td>-0.015021</td>\n",
              "      <td>-0.016488</td>\n",
              "      <td>0.260508</td>\n",
              "      <td>-0.011588</td>\n",
              "      <td>-0.009443</td>\n",
              "      <td>-0.009443</td>\n",
              "      <td>-0.009443</td>\n",
              "      <td>-0.006664</td>\n",
              "      <td>-0.006664</td>\n",
              "      <td>-0.003093</td>\n",
              "    </tr>\n",
              "    <tr>\n",
              "      <th>Color:</th>\n",
              "      <td>0.065465</td>\n",
              "      <td>-0.137357</td>\n",
              "      <td>1.000000</td>\n",
              "      <td>0.057634</td>\n",
              "      <td>0.106851</td>\n",
              "      <td>0.089519</td>\n",
              "      <td>0.058812</td>\n",
              "      <td>0.113705</td>\n",
              "      <td>0.030158</td>\n",
              "      <td>0.059407</td>\n",
              "      <td>...</td>\n",
              "      <td>0.019232</td>\n",
              "      <td>-0.053657</td>\n",
              "      <td>-0.025443</td>\n",
              "      <td>0.086224</td>\n",
              "      <td>-0.008512</td>\n",
              "      <td>-0.008512</td>\n",
              "      <td>-0.008512</td>\n",
              "      <td>-0.001731</td>\n",
              "      <td>-0.010283</td>\n",
              "      <td>-0.136638</td>\n",
              "    </tr>\n",
              "    <tr>\n",
              "      <th>Mileage:</th>\n",
              "      <td>-0.075832</td>\n",
              "      <td>0.005925</td>\n",
              "      <td>0.057634</td>\n",
              "      <td>1.000000</td>\n",
              "      <td>0.055889</td>\n",
              "      <td>0.115105</td>\n",
              "      <td>0.706169</td>\n",
              "      <td>0.021051</td>\n",
              "      <td>0.692884</td>\n",
              "      <td>0.002369</td>\n",
              "      <td>...</td>\n",
              "      <td>0.061764</td>\n",
              "      <td>0.006888</td>\n",
              "      <td>-0.004686</td>\n",
              "      <td>-0.006070</td>\n",
              "      <td>0.040689</td>\n",
              "      <td>0.040689</td>\n",
              "      <td>0.040689</td>\n",
              "      <td>0.019575</td>\n",
              "      <td>0.037854</td>\n",
              "      <td>-0.401027</td>\n",
              "    </tr>\n",
              "    <tr>\n",
              "      <th>Fuel:</th>\n",
              "      <td>0.003093</td>\n",
              "      <td>0.039540</td>\n",
              "      <td>0.106851</td>\n",
              "      <td>0.055889</td>\n",
              "      <td>1.000000</td>\n",
              "      <td>-0.077182</td>\n",
              "      <td>0.111535</td>\n",
              "      <td>0.058965</td>\n",
              "      <td>0.132362</td>\n",
              "      <td>-0.047565</td>\n",
              "      <td>...</td>\n",
              "      <td>0.053287</td>\n",
              "      <td>-0.100002</td>\n",
              "      <td>-0.100002</td>\n",
              "      <td>-0.181679</td>\n",
              "      <td>-0.102658</td>\n",
              "      <td>-0.102658</td>\n",
              "      <td>-0.102658</td>\n",
              "      <td>0.023640</td>\n",
              "      <td>-0.168530</td>\n",
              "      <td>0.040701</td>\n",
              "    </tr>\n",
              "    <tr>\n",
              "      <th>Air Bag</th>\n",
              "      <td>-0.097643</td>\n",
              "      <td>0.041693</td>\n",
              "      <td>0.089519</td>\n",
              "      <td>0.115105</td>\n",
              "      <td>-0.077182</td>\n",
              "      <td>1.000000</td>\n",
              "      <td>0.184133</td>\n",
              "      <td>0.342477</td>\n",
              "      <td>0.174085</td>\n",
              "      <td>0.321583</td>\n",
              "      <td>...</td>\n",
              "      <td>-0.110394</td>\n",
              "      <td>-0.395455</td>\n",
              "      <td>0.061676</td>\n",
              "      <td>0.043348</td>\n",
              "      <td>-0.226482</td>\n",
              "      <td>-0.226482</td>\n",
              "      <td>-0.226482</td>\n",
              "      <td>-0.159828</td>\n",
              "      <td>-0.159828</td>\n",
              "      <td>0.006805</td>\n",
              "    </tr>\n",
              "    <tr>\n",
              "      <th>Anti-Lock Brake System</th>\n",
              "      <td>0.056936</td>\n",
              "      <td>-0.049224</td>\n",
              "      <td>0.058812</td>\n",
              "      <td>0.706169</td>\n",
              "      <td>0.111535</td>\n",
              "      <td>0.184133</td>\n",
              "      <td>1.000000</td>\n",
              "      <td>0.117299</td>\n",
              "      <td>0.945431</td>\n",
              "      <td>0.059214</td>\n",
              "      <td>...</td>\n",
              "      <td>0.156556</td>\n",
              "      <td>-0.072816</td>\n",
              "      <td>-0.072816</td>\n",
              "      <td>-0.051178</td>\n",
              "      <td>-0.041703</td>\n",
              "      <td>-0.041703</td>\n",
              "      <td>-0.041703</td>\n",
              "      <td>-0.029430</td>\n",
              "      <td>-0.029430</td>\n",
              "      <td>-0.321736</td>\n",
              "    </tr>\n",
              "    <tr>\n",
              "      <th>Air Conditioner</th>\n",
              "      <td>-0.005092</td>\n",
              "      <td>0.205043</td>\n",
              "      <td>0.113705</td>\n",
              "      <td>0.021051</td>\n",
              "      <td>0.058965</td>\n",
              "      <td>0.342477</td>\n",
              "      <td>0.117299</td>\n",
              "      <td>1.000000</td>\n",
              "      <td>0.110898</td>\n",
              "      <td>0.370624</td>\n",
              "      <td>...</td>\n",
              "      <td>-0.084473</td>\n",
              "      <td>-0.620778</td>\n",
              "      <td>0.039290</td>\n",
              "      <td>0.027614</td>\n",
              "      <td>-0.166513</td>\n",
              "      <td>-0.166513</td>\n",
              "      <td>-0.166513</td>\n",
              "      <td>0.015879</td>\n",
              "      <td>-0.250895</td>\n",
              "      <td>0.041762</td>\n",
              "    </tr>\n",
              "    <tr>\n",
              "      <th>Navigation</th>\n",
              "      <td>0.033477</td>\n",
              "      <td>-0.046538</td>\n",
              "      <td>0.030158</td>\n",
              "      <td>0.692884</td>\n",
              "      <td>0.132362</td>\n",
              "      <td>0.174085</td>\n",
              "      <td>0.945431</td>\n",
              "      <td>0.110898</td>\n",
              "      <td>1.000000</td>\n",
              "      <td>0.055983</td>\n",
              "      <td>...</td>\n",
              "      <td>0.168572</td>\n",
              "      <td>-0.068843</td>\n",
              "      <td>-0.068843</td>\n",
              "      <td>-0.048385</td>\n",
              "      <td>-0.039427</td>\n",
              "      <td>-0.039427</td>\n",
              "      <td>-0.039427</td>\n",
              "      <td>-0.027824</td>\n",
              "      <td>-0.027824</td>\n",
              "      <td>-0.314958</td>\n",
              "    </tr>\n",
              "    <tr>\n",
              "      <th>Power Steering</th>\n",
              "      <td>-0.033268</td>\n",
              "      <td>0.013408</td>\n",
              "      <td>0.059407</td>\n",
              "      <td>0.002369</td>\n",
              "      <td>-0.047565</td>\n",
              "      <td>0.321583</td>\n",
              "      <td>0.059214</td>\n",
              "      <td>0.370624</td>\n",
              "      <td>0.055983</td>\n",
              "      <td>1.000000</td>\n",
              "      <td>...</td>\n",
              "      <td>0.018069</td>\n",
              "      <td>0.019834</td>\n",
              "      <td>0.019834</td>\n",
              "      <td>0.013940</td>\n",
              "      <td>0.011359</td>\n",
              "      <td>0.011359</td>\n",
              "      <td>0.011359</td>\n",
              "      <td>0.008016</td>\n",
              "      <td>0.008016</td>\n",
              "      <td>0.055806</td>\n",
              "    </tr>\n",
              "    <tr>\n",
              "      <th>Power Windows</th>\n",
              "      <td>-0.033268</td>\n",
              "      <td>0.013408</td>\n",
              "      <td>0.059407</td>\n",
              "      <td>0.002369</td>\n",
              "      <td>-0.047565</td>\n",
              "      <td>0.321583</td>\n",
              "      <td>0.059214</td>\n",
              "      <td>0.370624</td>\n",
              "      <td>0.055983</td>\n",
              "      <td>1.000000</td>\n",
              "      <td>...</td>\n",
              "      <td>0.018069</td>\n",
              "      <td>0.019834</td>\n",
              "      <td>0.019834</td>\n",
              "      <td>0.013940</td>\n",
              "      <td>0.011359</td>\n",
              "      <td>0.011359</td>\n",
              "      <td>0.011359</td>\n",
              "      <td>0.008016</td>\n",
              "      <td>0.008016</td>\n",
              "      <td>0.055806</td>\n",
              "    </tr>\n",
              "    <tr>\n",
              "      <th>price</th>\n",
              "      <td>-0.033331</td>\n",
              "      <td>0.235178</td>\n",
              "      <td>-0.145726</td>\n",
              "      <td>-0.565864</td>\n",
              "      <td>-0.213793</td>\n",
              "      <td>0.080517</td>\n",
              "      <td>-0.565369</td>\n",
              "      <td>-0.108470</td>\n",
              "      <td>-0.542161</td>\n",
              "      <td>0.064630</td>\n",
              "      <td>...</td>\n",
              "      <td>-0.036798</td>\n",
              "      <td>0.045704</td>\n",
              "      <td>0.255994</td>\n",
              "      <td>0.096394</td>\n",
              "      <td>0.027289</td>\n",
              "      <td>0.027289</td>\n",
              "      <td>0.027289</td>\n",
              "      <td>0.029823</td>\n",
              "      <td>0.008693</td>\n",
              "      <td>0.521447</td>\n",
              "    </tr>\n",
              "    <tr>\n",
              "      <th>Navigation System</th>\n",
              "      <td>-0.071133</td>\n",
              "      <td>0.091429</td>\n",
              "      <td>-0.036009</td>\n",
              "      <td>-0.354398</td>\n",
              "      <td>-0.177870</td>\n",
              "      <td>0.315188</td>\n",
              "      <td>-0.538382</td>\n",
              "      <td>0.154931</td>\n",
              "      <td>-0.509003</td>\n",
              "      <td>0.146647</td>\n",
              "      <td>...</td>\n",
              "      <td>-0.049286</td>\n",
              "      <td>-0.022542</td>\n",
              "      <td>0.082653</td>\n",
              "      <td>0.095059</td>\n",
              "      <td>0.077460</td>\n",
              "      <td>0.077460</td>\n",
              "      <td>0.077460</td>\n",
              "      <td>0.054663</td>\n",
              "      <td>0.054663</td>\n",
              "      <td>0.191448</td>\n",
              "    </tr>\n",
              "    <tr>\n",
              "      <th>TV</th>\n",
              "      <td>-0.094816</td>\n",
              "      <td>0.092151</td>\n",
              "      <td>-0.026878</td>\n",
              "      <td>-0.264407</td>\n",
              "      <td>-0.207250</td>\n",
              "      <td>0.259267</td>\n",
              "      <td>-0.362688</td>\n",
              "      <td>0.126482</td>\n",
              "      <td>-0.342896</td>\n",
              "      <td>0.098791</td>\n",
              "      <td>...</td>\n",
              "      <td>-0.051959</td>\n",
              "      <td>-0.067775</td>\n",
              "      <td>0.147060</td>\n",
              "      <td>0.141107</td>\n",
              "      <td>0.114983</td>\n",
              "      <td>0.114983</td>\n",
              "      <td>0.114983</td>\n",
              "      <td>0.081143</td>\n",
              "      <td>0.081143</td>\n",
              "      <td>0.010794</td>\n",
              "    </tr>\n",
              "    <tr>\n",
              "      <th>Dual Air Bags</th>\n",
              "      <td>0.020728</td>\n",
              "      <td>0.120522</td>\n",
              "      <td>0.017469</td>\n",
              "      <td>-0.460357</td>\n",
              "      <td>-0.091207</td>\n",
              "      <td>-0.161764</td>\n",
              "      <td>-0.647778</td>\n",
              "      <td>0.137283</td>\n",
              "      <td>-0.612429</td>\n",
              "      <td>0.176445</td>\n",
              "      <td>...</td>\n",
              "      <td>-0.077639</td>\n",
              "      <td>0.112410</td>\n",
              "      <td>0.112410</td>\n",
              "      <td>0.079005</td>\n",
              "      <td>0.064378</td>\n",
              "      <td>0.064378</td>\n",
              "      <td>0.064378</td>\n",
              "      <td>0.045432</td>\n",
              "      <td>0.045432</td>\n",
              "      <td>0.230468</td>\n",
              "    </tr>\n",
              "    <tr>\n",
              "      <th>Anti-Lock Brake</th>\n",
              "      <td>-0.027652</td>\n",
              "      <td>0.054484</td>\n",
              "      <td>-0.032025</td>\n",
              "      <td>-0.670192</td>\n",
              "      <td>-0.133993</td>\n",
              "      <td>-0.032799</td>\n",
              "      <td>-0.903462</td>\n",
              "      <td>-0.006369</td>\n",
              "      <td>-0.854160</td>\n",
              "      <td>0.246089</td>\n",
              "      <td>...</td>\n",
              "      <td>-0.136045</td>\n",
              "      <td>0.080597</td>\n",
              "      <td>0.080597</td>\n",
              "      <td>0.056646</td>\n",
              "      <td>0.046159</td>\n",
              "      <td>0.046159</td>\n",
              "      <td>0.046159</td>\n",
              "      <td>0.032574</td>\n",
              "      <td>0.032574</td>\n",
              "      <td>0.296657</td>\n",
              "    </tr>\n",
              "    <tr>\n",
              "      <th>CD</th>\n",
              "      <td>0.011164</td>\n",
              "      <td>0.142938</td>\n",
              "      <td>0.002461</td>\n",
              "      <td>-0.331511</td>\n",
              "      <td>-0.115193</td>\n",
              "      <td>0.088598</td>\n",
              "      <td>-0.489010</td>\n",
              "      <td>0.129530</td>\n",
              "      <td>-0.462325</td>\n",
              "      <td>0.133199</td>\n",
              "      <td>...</td>\n",
              "      <td>-0.092246</td>\n",
              "      <td>0.044672</td>\n",
              "      <td>0.148906</td>\n",
              "      <td>0.104656</td>\n",
              "      <td>-0.093808</td>\n",
              "      <td>-0.093808</td>\n",
              "      <td>-0.093808</td>\n",
              "      <td>-0.066200</td>\n",
              "      <td>-0.066200</td>\n",
              "      <td>0.150130</td>\n",
              "    </tr>\n",
              "    <tr>\n",
              "      <th>Back Camera</th>\n",
              "      <td>-0.074434</td>\n",
              "      <td>-0.039339</td>\n",
              "      <td>-0.040333</td>\n",
              "      <td>-0.230358</td>\n",
              "      <td>-0.129132</td>\n",
              "      <td>0.070617</td>\n",
              "      <td>-0.365758</td>\n",
              "      <td>-0.009868</td>\n",
              "      <td>-0.345799</td>\n",
              "      <td>0.099627</td>\n",
              "      <td>...</td>\n",
              "      <td>-0.111612</td>\n",
              "      <td>0.091885</td>\n",
              "      <td>0.038285</td>\n",
              "      <td>0.064580</td>\n",
              "      <td>0.021926</td>\n",
              "      <td>0.021926</td>\n",
              "      <td>0.021926</td>\n",
              "      <td>-0.049515</td>\n",
              "      <td>0.080462</td>\n",
              "      <td>0.275287</td>\n",
              "    </tr>\n",
              "    <tr>\n",
              "      <th>Key Less Entry</th>\n",
              "      <td>-0.058028</td>\n",
              "      <td>0.161086</td>\n",
              "      <td>0.020202</td>\n",
              "      <td>-0.531433</td>\n",
              "      <td>-0.138099</td>\n",
              "      <td>0.225619</td>\n",
              "      <td>-0.716271</td>\n",
              "      <td>0.349798</td>\n",
              "      <td>-0.677184</td>\n",
              "      <td>0.195101</td>\n",
              "      <td>...</td>\n",
              "      <td>-0.156334</td>\n",
              "      <td>-0.182989</td>\n",
              "      <td>0.101660</td>\n",
              "      <td>0.071450</td>\n",
              "      <td>0.058222</td>\n",
              "      <td>0.058222</td>\n",
              "      <td>0.058222</td>\n",
              "      <td>0.041087</td>\n",
              "      <td>0.041087</td>\n",
              "      <td>0.241541</td>\n",
              "    </tr>\n",
              "    <tr>\n",
              "      <th>Alloy Wheels</th>\n",
              "      <td>-0.005260</td>\n",
              "      <td>0.323931</td>\n",
              "      <td>-0.141610</td>\n",
              "      <td>-0.124291</td>\n",
              "      <td>-0.129065</td>\n",
              "      <td>0.057844</td>\n",
              "      <td>-0.127331</td>\n",
              "      <td>-0.044456</td>\n",
              "      <td>-0.114856</td>\n",
              "      <td>0.051004</td>\n",
              "      <td>...</td>\n",
              "      <td>0.107423</td>\n",
              "      <td>0.087809</td>\n",
              "      <td>0.388870</td>\n",
              "      <td>0.061715</td>\n",
              "      <td>-0.035921</td>\n",
              "      <td>-0.035921</td>\n",
              "      <td>-0.035921</td>\n",
              "      <td>-0.025349</td>\n",
              "      <td>-0.025349</td>\n",
              "      <td>-0.023530</td>\n",
              "    </tr>\n",
              "    <tr>\n",
              "      <th>Fog Lights</th>\n",
              "      <td>0.028969</td>\n",
              "      <td>-0.015021</td>\n",
              "      <td>0.019232</td>\n",
              "      <td>0.061764</td>\n",
              "      <td>0.053287</td>\n",
              "      <td>-0.110394</td>\n",
              "      <td>0.156556</td>\n",
              "      <td>-0.084473</td>\n",
              "      <td>0.168572</td>\n",
              "      <td>0.018069</td>\n",
              "      <td>...</td>\n",
              "      <td>1.000000</td>\n",
              "      <td>0.164428</td>\n",
              "      <td>-0.022220</td>\n",
              "      <td>-0.015617</td>\n",
              "      <td>0.307962</td>\n",
              "      <td>0.307962</td>\n",
              "      <td>0.307962</td>\n",
              "      <td>0.443636</td>\n",
              "      <td>-0.008980</td>\n",
              "      <td>-0.004168</td>\n",
              "    </tr>\n",
              "    <tr>\n",
              "      <th>Auto Air Conditioner</th>\n",
              "      <td>-0.017666</td>\n",
              "      <td>-0.016488</td>\n",
              "      <td>-0.053657</td>\n",
              "      <td>0.006888</td>\n",
              "      <td>-0.100002</td>\n",
              "      <td>-0.395455</td>\n",
              "      <td>-0.072816</td>\n",
              "      <td>-0.620778</td>\n",
              "      <td>-0.068843</td>\n",
              "      <td>0.019834</td>\n",
              "      <td>...</td>\n",
              "      <td>0.164428</td>\n",
              "      <td>1.000000</td>\n",
              "      <td>-0.024390</td>\n",
              "      <td>-0.017142</td>\n",
              "      <td>0.279372</td>\n",
              "      <td>0.279372</td>\n",
              "      <td>0.279372</td>\n",
              "      <td>-0.009858</td>\n",
              "      <td>0.404162</td>\n",
              "      <td>-0.015250</td>\n",
              "    </tr>\n",
              "    <tr>\n",
              "      <th>Aero</th>\n",
              "      <td>-0.065395</td>\n",
              "      <td>0.260508</td>\n",
              "      <td>-0.025443</td>\n",
              "      <td>-0.004686</td>\n",
              "      <td>-0.100002</td>\n",
              "      <td>0.061676</td>\n",
              "      <td>-0.072816</td>\n",
              "      <td>0.039290</td>\n",
              "      <td>-0.068843</td>\n",
              "      <td>0.019834</td>\n",
              "      <td>...</td>\n",
              "      <td>-0.022220</td>\n",
              "      <td>-0.024390</td>\n",
              "      <td>1.000000</td>\n",
              "      <td>0.222850</td>\n",
              "      <td>-0.013969</td>\n",
              "      <td>-0.013969</td>\n",
              "      <td>-0.013969</td>\n",
              "      <td>-0.009858</td>\n",
              "      <td>-0.009858</td>\n",
              "      <td>-0.015250</td>\n",
              "    </tr>\n",
              "    <tr>\n",
              "      <th>HID</th>\n",
              "      <td>-0.055111</td>\n",
              "      <td>-0.011588</td>\n",
              "      <td>0.086224</td>\n",
              "      <td>-0.006070</td>\n",
              "      <td>-0.181679</td>\n",
              "      <td>0.043348</td>\n",
              "      <td>-0.051178</td>\n",
              "      <td>0.027614</td>\n",
              "      <td>-0.048385</td>\n",
              "      <td>0.013940</td>\n",
              "      <td>...</td>\n",
              "      <td>-0.015617</td>\n",
              "      <td>-0.017142</td>\n",
              "      <td>0.222850</td>\n",
              "      <td>1.000000</td>\n",
              "      <td>-0.009818</td>\n",
              "      <td>-0.009818</td>\n",
              "      <td>-0.009818</td>\n",
              "      <td>-0.006928</td>\n",
              "      <td>-0.006928</td>\n",
              "      <td>-0.048232</td>\n",
              "    </tr>\n",
              "    <tr>\n",
              "      <th>Centralized Door Lock</th>\n",
              "      <td>-0.144308</td>\n",
              "      <td>-0.009443</td>\n",
              "      <td>-0.008512</td>\n",
              "      <td>0.040689</td>\n",
              "      <td>-0.102658</td>\n",
              "      <td>-0.226482</td>\n",
              "      <td>-0.041703</td>\n",
              "      <td>-0.166513</td>\n",
              "      <td>-0.039427</td>\n",
              "      <td>0.011359</td>\n",
              "      <td>...</td>\n",
              "      <td>0.307962</td>\n",
              "      <td>0.279372</td>\n",
              "      <td>-0.013969</td>\n",
              "      <td>-0.009818</td>\n",
              "      <td>1.000000</td>\n",
              "      <td>1.000000</td>\n",
              "      <td>1.000000</td>\n",
              "      <td>0.705697</td>\n",
              "      <td>0.705697</td>\n",
              "      <td>0.052403</td>\n",
              "    </tr>\n",
              "    <tr>\n",
              "      <th>Push Start</th>\n",
              "      <td>-0.144308</td>\n",
              "      <td>-0.009443</td>\n",
              "      <td>-0.008512</td>\n",
              "      <td>0.040689</td>\n",
              "      <td>-0.102658</td>\n",
              "      <td>-0.226482</td>\n",
              "      <td>-0.041703</td>\n",
              "      <td>-0.166513</td>\n",
              "      <td>-0.039427</td>\n",
              "      <td>0.011359</td>\n",
              "      <td>...</td>\n",
              "      <td>0.307962</td>\n",
              "      <td>0.279372</td>\n",
              "      <td>-0.013969</td>\n",
              "      <td>-0.009818</td>\n",
              "      <td>1.000000</td>\n",
              "      <td>1.000000</td>\n",
              "      <td>1.000000</td>\n",
              "      <td>0.705697</td>\n",
              "      <td>0.705697</td>\n",
              "      <td>0.052403</td>\n",
              "    </tr>\n",
              "    <tr>\n",
              "      <th>Spare Key</th>\n",
              "      <td>-0.144308</td>\n",
              "      <td>-0.009443</td>\n",
              "      <td>-0.008512</td>\n",
              "      <td>0.040689</td>\n",
              "      <td>-0.102658</td>\n",
              "      <td>-0.226482</td>\n",
              "      <td>-0.041703</td>\n",
              "      <td>-0.166513</td>\n",
              "      <td>-0.039427</td>\n",
              "      <td>0.011359</td>\n",
              "      <td>...</td>\n",
              "      <td>0.307962</td>\n",
              "      <td>0.279372</td>\n",
              "      <td>-0.013969</td>\n",
              "      <td>-0.009818</td>\n",
              "      <td>1.000000</td>\n",
              "      <td>1.000000</td>\n",
              "      <td>1.000000</td>\n",
              "      <td>0.705697</td>\n",
              "      <td>0.705697</td>\n",
              "      <td>0.052403</td>\n",
              "    </tr>\n",
              "    <tr>\n",
              "      <th>LED</th>\n",
              "      <td>-0.101838</td>\n",
              "      <td>-0.006664</td>\n",
              "      <td>-0.001731</td>\n",
              "      <td>0.019575</td>\n",
              "      <td>0.023640</td>\n",
              "      <td>-0.159828</td>\n",
              "      <td>-0.029430</td>\n",
              "      <td>0.015879</td>\n",
              "      <td>-0.027824</td>\n",
              "      <td>0.008016</td>\n",
              "      <td>...</td>\n",
              "      <td>0.443636</td>\n",
              "      <td>-0.009858</td>\n",
              "      <td>-0.009858</td>\n",
              "      <td>-0.006928</td>\n",
              "      <td>0.705697</td>\n",
              "      <td>0.705697</td>\n",
              "      <td>0.705697</td>\n",
              "      <td>1.000000</td>\n",
              "      <td>-0.003984</td>\n",
              "      <td>0.101698</td>\n",
              "    </tr>\n",
              "    <tr>\n",
              "      <th>Steering Switch</th>\n",
              "      <td>-0.101838</td>\n",
              "      <td>-0.006664</td>\n",
              "      <td>-0.010283</td>\n",
              "      <td>0.037854</td>\n",
              "      <td>-0.168530</td>\n",
              "      <td>-0.159828</td>\n",
              "      <td>-0.029430</td>\n",
              "      <td>-0.250895</td>\n",
              "      <td>-0.027824</td>\n",
              "      <td>0.008016</td>\n",
              "      <td>...</td>\n",
              "      <td>-0.008980</td>\n",
              "      <td>0.404162</td>\n",
              "      <td>-0.009858</td>\n",
              "      <td>-0.006928</td>\n",
              "      <td>0.705697</td>\n",
              "      <td>0.705697</td>\n",
              "      <td>0.705697</td>\n",
              "      <td>-0.003984</td>\n",
              "      <td>1.000000</td>\n",
              "      <td>-0.027736</td>\n",
              "    </tr>\n",
              "    <tr>\n",
              "      <th>Year_from_title</th>\n",
              "      <td>-0.061914</td>\n",
              "      <td>-0.003093</td>\n",
              "      <td>-0.136638</td>\n",
              "      <td>-0.401027</td>\n",
              "      <td>0.040701</td>\n",
              "      <td>0.006805</td>\n",
              "      <td>-0.321736</td>\n",
              "      <td>0.041762</td>\n",
              "      <td>-0.314958</td>\n",
              "      <td>0.055806</td>\n",
              "      <td>...</td>\n",
              "      <td>-0.004168</td>\n",
              "      <td>-0.015250</td>\n",
              "      <td>-0.015250</td>\n",
              "      <td>-0.048232</td>\n",
              "      <td>0.052403</td>\n",
              "      <td>0.052403</td>\n",
              "      <td>0.052403</td>\n",
              "      <td>0.101698</td>\n",
              "      <td>-0.027736</td>\n",
              "      <td>1.000000</td>\n",
              "    </tr>\n",
              "  </tbody>\n",
              "</table>\n",
              "<p>30 rows × 30 columns</p>\n",
              "</div>\n",
              "      <button class=\"colab-df-convert\" onclick=\"convertToInteractive('df-b35efe84-d03f-4216-a843-d438153179ff')\"\n",
              "              title=\"Convert this dataframe to an interactive table.\"\n",
              "              style=\"display:none;\">\n",
              "        \n",
              "  <svg xmlns=\"http://www.w3.org/2000/svg\" height=\"24px\"viewBox=\"0 0 24 24\"\n",
              "       width=\"24px\">\n",
              "    <path d=\"M0 0h24v24H0V0z\" fill=\"none\"/>\n",
              "    <path d=\"M18.56 5.44l.94 2.06.94-2.06 2.06-.94-2.06-.94-.94-2.06-.94 2.06-2.06.94zm-11 1L8.5 8.5l.94-2.06 2.06-.94-2.06-.94L8.5 2.5l-.94 2.06-2.06.94zm10 10l.94 2.06.94-2.06 2.06-.94-2.06-.94-.94-2.06-.94 2.06-2.06.94z\"/><path d=\"M17.41 7.96l-1.37-1.37c-.4-.4-.92-.59-1.43-.59-.52 0-1.04.2-1.43.59L10.3 9.45l-7.72 7.72c-.78.78-.78 2.05 0 2.83L4 21.41c.39.39.9.59 1.41.59.51 0 1.02-.2 1.41-.59l7.78-7.78 2.81-2.81c.8-.78.8-2.07 0-2.86zM5.41 20L4 18.59l7.72-7.72 1.47 1.35L5.41 20z\"/>\n",
              "  </svg>\n",
              "      </button>\n",
              "      \n",
              "  <style>\n",
              "    .colab-df-container {\n",
              "      display:flex;\n",
              "      flex-wrap:wrap;\n",
              "      gap: 12px;\n",
              "    }\n",
              "\n",
              "    .colab-df-convert {\n",
              "      background-color: #E8F0FE;\n",
              "      border: none;\n",
              "      border-radius: 50%;\n",
              "      cursor: pointer;\n",
              "      display: none;\n",
              "      fill: #1967D2;\n",
              "      height: 32px;\n",
              "      padding: 0 0 0 0;\n",
              "      width: 32px;\n",
              "    }\n",
              "\n",
              "    .colab-df-convert:hover {\n",
              "      background-color: #E2EBFA;\n",
              "      box-shadow: 0px 1px 2px rgba(60, 64, 67, 0.3), 0px 1px 3px 1px rgba(60, 64, 67, 0.15);\n",
              "      fill: #174EA6;\n",
              "    }\n",
              "\n",
              "    [theme=dark] .colab-df-convert {\n",
              "      background-color: #3B4455;\n",
              "      fill: #D2E3FC;\n",
              "    }\n",
              "\n",
              "    [theme=dark] .colab-df-convert:hover {\n",
              "      background-color: #434B5C;\n",
              "      box-shadow: 0px 1px 3px 1px rgba(0, 0, 0, 0.15);\n",
              "      filter: drop-shadow(0px 1px 2px rgba(0, 0, 0, 0.3));\n",
              "      fill: #FFFFFF;\n",
              "    }\n",
              "  </style>\n",
              "\n",
              "      <script>\n",
              "        const buttonEl =\n",
              "          document.querySelector('#df-b35efe84-d03f-4216-a843-d438153179ff button.colab-df-convert');\n",
              "        buttonEl.style.display =\n",
              "          google.colab.kernel.accessAllowed ? 'block' : 'none';\n",
              "\n",
              "        async function convertToInteractive(key) {\n",
              "          const element = document.querySelector('#df-b35efe84-d03f-4216-a843-d438153179ff');\n",
              "          const dataTable =\n",
              "            await google.colab.kernel.invokeFunction('convertToInteractive',\n",
              "                                                     [key], {});\n",
              "          if (!dataTable) return;\n",
              "\n",
              "          const docLinkHtml = 'Like what you see? Visit the ' +\n",
              "            '<a target=\"_blank\" href=https://colab.research.google.com/notebooks/data_table.ipynb>data table notebook</a>'\n",
              "            + ' to learn more about interactive tables.';\n",
              "          element.innerHTML = '';\n",
              "          dataTable['output_type'] = 'display_data';\n",
              "          await google.colab.output.renderOutput(dataTable, element);\n",
              "          const docLink = document.createElement('div');\n",
              "          docLink.innerHTML = docLinkHtml;\n",
              "          element.appendChild(docLink);\n",
              "        }\n",
              "      </script>\n",
              "    </div>\n",
              "  </div>\n",
              "  "
            ]
          },
          "metadata": {},
          "execution_count": 2155
        }
      ]
    },
    {
      "cell_type": "code",
      "source": [
        "sns.heatmap(df.corr(), annot=True)"
      ],
      "metadata": {
        "colab": {
          "base_uri": "https://localhost:8080/",
          "height": 395
        },
        "id": "4xKtgZNejyZR",
        "outputId": "bd351c77-feb8-4897-f292-5b33d7d8bd49"
      },
      "execution_count": 2156,
      "outputs": [
        {
          "output_type": "execute_result",
          "data": {
            "text/plain": [
              "<matplotlib.axes._subplots.AxesSubplot at 0x7fc31ea15c10>"
            ]
          },
          "metadata": {},
          "execution_count": 2156
        },
        {
          "output_type": "display_data",
          "data": {
            "text/plain": [
              "<Figure size 432x288 with 2 Axes>"
            ],
            "image/png": "[encoded data removed]"
          },
          "metadata": {
            "needs_background": "light"
          }
        }
      ]
    },
    {
      "cell_type": "code",
      "source": [
        "positive_top_feature_columns = most_corr['price'][most_corr['price'].values > 0.5].index.values\n",
        "positive_top_feature_columns"
      ],
      "metadata": {
        "colab": {
          "base_uri": "https://localhost:8080/"
        },
        "id": "-6c8nyiULuRr",
        "outputId": "0776eb50-e625-4849-ddb7-e90cfa9b995f"
      },
      "execution_count": 2157,
      "outputs": [
        {
          "output_type": "execute_result",
          "data": {
            "text/plain": [
              "array(['price', 'Anti-Lock Brake', 'Year_from_title'], dtype=object)"
            ]
          },
          "metadata": {},
          "execution_count": 2157
        }
      ]
    },
    {
      "cell_type": "code",
      "source": [
        "negative_top_feature_columns = most_corr['price'][most_corr['price'].values < -0.5].index.values\n",
        "negative_top_feature_columns"
      ],
      "metadata": {
        "colab": {
          "base_uri": "https://localhost:8080/"
        },
        "id": "sjryvmyinwk3",
        "outputId": "31c10516-d8f2-4923-aa22-19563ad2b9d3"
      },
      "execution_count": 2158,
      "outputs": [
        {
          "output_type": "execute_result",
          "data": {
            "text/plain": [
              "array(['Mileage:', 'Anti-Lock Brake System', 'Navigation'], dtype=object)"
            ]
          },
          "metadata": {},
          "execution_count": 2158
        }
      ]
    },
    {
      "cell_type": "code",
      "source": [
        "feat_corr = np.concatenate((positive_top_feature_columns, negative_top_feature_columns))\n",
        "feat_corr"
      ],
      "metadata": {
        "colab": {
          "base_uri": "https://localhost:8080/"
        },
        "id": "3rCgvPAwoLJq",
        "outputId": "7383c52b-4c37-4ee0-9a8a-a547a184836b"
      },
      "execution_count": 2159,
      "outputs": [
        {
          "output_type": "execute_result",
          "data": {
            "text/plain": [
              "array(['price', 'Anti-Lock Brake', 'Year_from_title', 'Mileage:',\n",
              "       'Anti-Lock Brake System', 'Navigation'], dtype=object)"
            ]
          },
          "metadata": {},
          "execution_count": 2159
        }
      ]
    },
    {
      "cell_type": "code",
      "source": [
        "sns.heatmap(df[feat_corr].corr(), annot=True)"
      ],
      "metadata": {
        "colab": {
          "base_uri": "https://localhost:8080/",
          "height": 395
        },
        "id": "0rOMHjokm0yt",
        "outputId": "1d283489-cfd2-422d-a0ab-316d007e1dcd"
      },
      "execution_count": 2160,
      "outputs": [
        {
          "output_type": "execute_result",
          "data": {
            "text/plain": [
              "<matplotlib.axes._subplots.AxesSubplot at 0x7fc31ea6abd0>"
            ]
          },
          "metadata": {},
          "execution_count": 2160
        },
        {
          "output_type": "display_data",
          "data": {
            "text/plain": [
              "<Figure size 432x288 with 2 Axes>"
            ],
            "image/png": "[encoded data removed]"
          },
          "metadata": {
            "needs_background": "light"
          }
        }
      ]
    },
    {
      "cell_type": "markdown",
      "source": [
        "# Modelling\n",
        "\n",
        "First we split the data into training and test set that will be used to evaluate the model"
      ],
      "metadata": {
        "id": "LFqX4wa4HUqz"
      }
    },
    {
      "cell_type": "code",
      "source": [
        "from sklearn.model_selection import train_test_split \n",
        "from sklearn.linear_model import LinearRegression\n",
        "from sklearn import metrics"
      ],
      "metadata": {
        "id": "fZRuhg1nG6cU"
      },
      "execution_count": 2161,
      "outputs": []
    },
    {
      "cell_type": "markdown",
      "source": [
        "Our target variable is the price while all others are the features "
      ],
      "metadata": {
        "id": "-HrCpAaLNVDG"
      }
    },
    {
      "cell_type": "markdown",
      "source": [
        "#### Linear Regression"
      ],
      "metadata": {
        "id": "XfLEeeKY5g8L"
      }
    },
    {
      "cell_type": "code",
      "source": [
        "sns.pairplot(df, x_vars=feat_corr, y_vars='price', height=7, aspect=0.7);\n"
      ],
      "metadata": {
        "colab": {
          "base_uri": "https://localhost:8080/",
          "height": 515
        },
        "id": "0XO5IgWYfzFH",
        "outputId": "5cf73851-86ec-412a-8677-d99e6d9f3ee2"
      },
      "execution_count": 2164,
      "outputs": [
        {
          "output_type": "display_data",
          "data": {
            "text/plain": [
              "<Figure size 2116.8x504 with 7 Axes>"
            ],
            "image/png": "[encoded data removed]"
          },
          "metadata": {
            "needs_background": "light"
          }
        }
      ]
    },
    {
      "cell_type": "code",
      "source": [
        "def train_model(df,target):\n",
        "    X = df.drop(target, axis=1)\n",
        "    y = df[target]\n",
        "    X_train, X_test, y_train, y_test = train_test_split(X, y, test_size=0.2, random_state=42) \n",
        "    lr = LinearRegression() \n",
        "    lr.fit(X_train, y_train) #training the algorithm\n",
        "    y_pred = lr.predict(X_test)\n",
        "    return r2_score(y_test, y_pred)"
      ],
      "metadata": {
        "id": "vF1L-iYz-FAY"
      },
      "execution_count": 2165,
      "outputs": []
    },
    {
      "cell_type": "code",
      "source": [
        "train_model(df[feat_corr],'price')"
      ],
      "metadata": {
        "colab": {
          "base_uri": "https://localhost:8080/"
        },
        "id": "ykjA3VjJPfmy",
        "outputId": "cbd1f115-ed3b-489b-ac66-fdb89b62caf6"
      },
      "execution_count": 2166,
      "outputs": [
        {
          "output_type": "execute_result",
          "data": {
            "text/plain": [
              "0.46167512763122853"
            ]
          },
          "metadata": {},
          "execution_count": 2166
        }
      ]
    },
    {
      "cell_type": "code",
      "source": [
        "train_model(df[['Mileage:','price']],'price')"
      ],
      "metadata": {
        "colab": {
          "base_uri": "https://localhost:8080/"
        },
        "id": "lxQxoLVB9zBZ",
        "outputId": "472e3e1f-997f-4f23-bacc-0f17413b0260"
      },
      "execution_count": 2167,
      "outputs": [
        {
          "output_type": "execute_result",
          "data": {
            "text/plain": [
              "0.26871022955347357"
            ]
          },
          "metadata": {},
          "execution_count": 2167
        }
      ]
    },
    {
      "cell_type": "code",
      "source": [
        "df.head()"
      ],
      "metadata": {
        "colab": {
          "base_uri": "https://localhost:8080/",
          "height": 297
        },
        "id": "nNjD-TWMAu9y",
        "outputId": "941f9cef-57a2-4427-c02e-ccfee6deebdf"
      },
      "execution_count": 2168,
      "outputs": [
        {
          "output_type": "execute_result",
          "data": {
            "text/plain": [
              "   Inventory Location:  Transmission:  Color:  Mileage:  Fuel:  Air Bag  \\\n",
              "0                   41              1       5    102000      1      1.0   \n",
              "1                    9              1       8    120000      1      1.0   \n",
              "2                    9              1      23     98000      1      1.0   \n",
              "3                   19              1      22    114000      1      1.0   \n",
              "4                    9              1      15    143000      1      1.0   \n",
              "\n",
              "   Anti-Lock Brake System  Air Conditioner  Navigation  Power Steering  ...  \\\n",
              "0                     1.0              1.0         1.0             1.0  ...   \n",
              "1                     1.0              1.0         1.0             1.0  ...   \n",
              "2                     1.0              1.0         0.0             1.0  ...   \n",
              "3                     1.0              1.0         1.0             1.0  ...   \n",
              "4                     1.0              1.0         1.0             1.0  ...   \n",
              "\n",
              "   Fog Lights  Auto Air Conditioner  Aero  HID  Centralized Door Lock  \\\n",
              "0         0.0                   0.0   0.0  0.0                    0.0   \n",
              "1         0.0                   0.0   0.0  0.0                    0.0   \n",
              "2         0.0                   0.0   0.0  0.0                    0.0   \n",
              "3         0.0                   0.0   0.0  0.0                    0.0   \n",
              "4         0.0                   0.0   0.0  0.0                    0.0   \n",
              "\n",
              "   Push Start  Spare Key  LED  Steering Switch  Year_from_title  \n",
              "0         0.0        0.0  0.0              0.0                1  \n",
              "1         0.0        0.0  0.0              0.0                1  \n",
              "2         0.0        0.0  0.0              0.0                0  \n",
              "3         0.0        0.0  0.0              0.0                0  \n",
              "4         0.0        0.0  0.0              0.0                0  \n",
              "\n",
              "[5 rows x 30 columns]"
            ],
            "text/html": [
              "\n",
              "  <div id=\"df-a0d4e142-494a-4410-ad92-446d165afcb7\">\n",
              "    <div class=\"colab-df-container\">\n",
              "      <div>\n",
              "<style scoped>\n",
              "    .dataframe tbody tr th:only-of-type {\n",
              "        vertical-align: middle;\n",
              "    }\n",
              "\n",
              "    .dataframe tbody tr th {\n",
              "        vertical-align: top;\n",
              "    }\n",
              "\n",
              "    .dataframe thead th {\n",
              "        text-align: right;\n",
              "    }\n",
              "</style>\n",
              "<table border=\"1\" class=\"dataframe\">\n",
              "  <thead>\n",
              "    <tr style=\"text-align: right;\">\n",
              "      <th></th>\n",
              "      <th>Inventory Location:</th>\n",
              "      <th>Transmission:</th>\n",
              "      <th>Color:</th>\n",
              "      <th>Mileage:</th>\n",
              "      <th>Fuel:</th>\n",
              "      <th>Air Bag</th>\n",
              "      <th>Anti-Lock Brake System</th>\n",
              "      <th>Air Conditioner</th>\n",
              "      <th>Navigation</th>\n",
              "      <th>Power Steering</th>\n",
              "      <th>...</th>\n",
              "      <th>Fog Lights</th>\n",
              "      <th>Auto Air Conditioner</th>\n",
              "      <th>Aero</th>\n",
              "      <th>HID</th>\n",
              "      <th>Centralized Door Lock</th>\n",
              "      <th>Push Start</th>\n",
              "      <th>Spare Key</th>\n",
              "      <th>LED</th>\n",
              "      <th>Steering Switch</th>\n",
              "      <th>Year_from_title</th>\n",
              "    </tr>\n",
              "  </thead>\n",
              "  <tbody>\n",
              "    <tr>\n",
              "      <th>0</th>\n",
              "      <td>41</td>\n",
              "      <td>1</td>\n",
              "      <td>5</td>\n",
              "      <td>102000</td>\n",
              "      <td>1</td>\n",
              "      <td>1.0</td>\n",
              "      <td>1.0</td>\n",
              "      <td>1.0</td>\n",
              "      <td>1.0</td>\n",
              "      <td>1.0</td>\n",
              "      <td>...</td>\n",
              "      <td>0.0</td>\n",
              "      <td>0.0</td>\n",
              "      <td>0.0</td>\n",
              "      <td>0.0</td>\n",
              "      <td>0.0</td>\n",
              "      <td>0.0</td>\n",
              "      <td>0.0</td>\n",
              "      <td>0.0</td>\n",
              "      <td>0.0</td>\n",
              "      <td>1</td>\n",
              "    </tr>\n",
              "    <tr>\n",
              "      <th>1</th>\n",
              "      <td>9</td>\n",
              "      <td>1</td>\n",
              "      <td>8</td>\n",
              "      <td>120000</td>\n",
              "      <td>1</td>\n",
              "      <td>1.0</td>\n",
              "      <td>1.0</td>\n",
              "      <td>1.0</td>\n",
              "      <td>1.0</td>\n",
              "      <td>1.0</td>\n",
              "      <td>...</td>\n",
              "      <td>0.0</td>\n",
              "      <td>0.0</td>\n",
              "      <td>0.0</td>\n",
              "      <td>0.0</td>\n",
              "      <td>0.0</td>\n",
              "      <td>0.0</td>\n",
              "      <td>0.0</td>\n",
              "      <td>0.0</td>\n",
              "      <td>0.0</td>\n",
              "      <td>1</td>\n",
              "    </tr>\n",
              "    <tr>\n",
              "      <th>2</th>\n",
              "      <td>9</td>\n",
              "      <td>1</td>\n",
              "      <td>23</td>\n",
              "      <td>98000</td>\n",
              "      <td>1</td>\n",
              "      <td>1.0</td>\n",
              "      <td>1.0</td>\n",
              "      <td>1.0</td>\n",
              "      <td>0.0</td>\n",
              "      <td>1.0</td>\n",
              "      <td>...</td>\n",
              "      <td>0.0</td>\n",
              "      <td>0.0</td>\n",
              "      <td>0.0</td>\n",
              "      <td>0.0</td>\n",
              "      <td>0.0</td>\n",
              "      <td>0.0</td>\n",
              "      <td>0.0</td>\n",
              "      <td>0.0</td>\n",
              "      <td>0.0</td>\n",
              "      <td>0</td>\n",
              "    </tr>\n",
              "    <tr>\n",
              "      <th>3</th>\n",
              "      <td>19</td>\n",
              "      <td>1</td>\n",
              "      <td>22</td>\n",
              "      <td>114000</td>\n",
              "      <td>1</td>\n",
              "      <td>1.0</td>\n",
              "      <td>1.0</td>\n",
              "      <td>1.0</td>\n",
              "      <td>1.0</td>\n",
              "      <td>1.0</td>\n",
              "      <td>...</td>\n",
              "      <td>0.0</td>\n",
              "      <td>0.0</td>\n",
              "      <td>0.0</td>\n",
              "      <td>0.0</td>\n",
              "      <td>0.0</td>\n",
              "      <td>0.0</td>\n",
              "      <td>0.0</td>\n",
              "      <td>0.0</td>\n",
              "      <td>0.0</td>\n",
              "      <td>0</td>\n",
              "    </tr>\n",
              "    <tr>\n",
              "      <th>4</th>\n",
              "      <td>9</td>\n",
              "      <td>1</td>\n",
              "      <td>15</td>\n",
              "      <td>143000</td>\n",
              "      <td>1</td>\n",
              "      <td>1.0</td>\n",
              "      <td>1.0</td>\n",
              "      <td>1.0</td>\n",
              "      <td>1.0</td>\n",
              "      <td>1.0</td>\n",
              "      <td>...</td>\n",
              "      <td>0.0</td>\n",
              "      <td>0.0</td>\n",
              "      <td>0.0</td>\n",
              "      <td>0.0</td>\n",
              "      <td>0.0</td>\n",
              "      <td>0.0</td>\n",
              "      <td>0.0</td>\n",
              "      <td>0.0</td>\n",
              "      <td>0.0</td>\n",
              "      <td>0</td>\n",
              "    </tr>\n",
              "  </tbody>\n",
              "</table>\n",
              "<p>5 rows × 30 columns</p>\n",
              "</div>\n",
              "      <button class=\"colab-df-convert\" onclick=\"convertToInteractive('df-a0d4e142-494a-4410-ad92-446d165afcb7')\"\n",
              "              title=\"Convert this dataframe to an interactive table.\"\n",
              "              style=\"display:none;\">\n",
              "        \n",
              "  <svg xmlns=\"http://www.w3.org/2000/svg\" height=\"24px\"viewBox=\"0 0 24 24\"\n",
              "       width=\"24px\">\n",
              "    <path d=\"M0 0h24v24H0V0z\" fill=\"none\"/>\n",
              "    <path d=\"M18.56 5.44l.94 2.06.94-2.06 2.06-.94-2.06-.94-.94-2.06-.94 2.06-2.06.94zm-11 1L8.5 8.5l.94-2.06 2.06-.94-2.06-.94L8.5 2.5l-.94 2.06-2.06.94zm10 10l.94 2.06.94-2.06 2.06-.94-2.06-.94-.94-2.06-.94 2.06-2.06.94z\"/><path d=\"M17.41 7.96l-1.37-1.37c-.4-.4-.92-.59-1.43-.59-.52 0-1.04.2-1.43.59L10.3 9.45l-7.72 7.72c-.78.78-.78 2.05 0 2.83L4 21.41c.39.39.9.59 1.41.59.51 0 1.02-.2 1.41-.59l7.78-7.78 2.81-2.81c.8-.78.8-2.07 0-2.86zM5.41 20L4 18.59l7.72-7.72 1.47 1.35L5.41 20z\"/>\n",
              "  </svg>\n",
              "      </button>\n",
              "      \n",
              "  <style>\n",
              "    .colab-df-container {\n",
              "      display:flex;\n",
              "      flex-wrap:wrap;\n",
              "      gap: 12px;\n",
              "    }\n",
              "\n",
              "    .colab-df-convert {\n",
              "      background-color: #E8F0FE;\n",
              "      border: none;\n",
              "      border-radius: 50%;\n",
              "      cursor: pointer;\n",
              "      display: none;\n",
              "      fill: #1967D2;\n",
              "      height: 32px;\n",
              "      padding: 0 0 0 0;\n",
              "      width: 32px;\n",
              "    }\n",
              "\n",
              "    .colab-df-convert:hover {\n",
              "      background-color: #E2EBFA;\n",
              "      box-shadow: 0px 1px 2px rgba(60, 64, 67, 0.3), 0px 1px 3px 1px rgba(60, 64, 67, 0.15);\n",
              "      fill: #174EA6;\n",
              "    }\n",
              "\n",
              "    [theme=dark] .colab-df-convert {\n",
              "      background-color: #3B4455;\n",
              "      fill: #D2E3FC;\n",
              "    }\n",
              "\n",
              "    [theme=dark] .colab-df-convert:hover {\n",
              "      background-color: #434B5C;\n",
              "      box-shadow: 0px 1px 3px 1px rgba(0, 0, 0, 0.15);\n",
              "      filter: drop-shadow(0px 1px 2px rgba(0, 0, 0, 0.3));\n",
              "      fill: #FFFFFF;\n",
              "    }\n",
              "  </style>\n",
              "\n",
              "      <script>\n",
              "        const buttonEl =\n",
              "          document.querySelector('#df-a0d4e142-494a-4410-ad92-446d165afcb7 button.colab-df-convert');\n",
              "        buttonEl.style.display =\n",
              "          google.colab.kernel.accessAllowed ? 'block' : 'none';\n",
              "\n",
              "        async function convertToInteractive(key) {\n",
              "          const element = document.querySelector('#df-a0d4e142-494a-4410-ad92-446d165afcb7');\n",
              "          const dataTable =\n",
              "            await google.colab.kernel.invokeFunction('convertToInteractive',\n",
              "                                                     [key], {});\n",
              "          if (!dataTable) return;\n",
              "\n",
              "          const docLinkHtml = 'Like what you see? Visit the ' +\n",
              "            '<a target=\"_blank\" href=https://colab.research.google.com/notebooks/data_table.ipynb>data table notebook</a>'\n",
              "            + ' to learn more about interactive tables.';\n",
              "          element.innerHTML = '';\n",
              "          dataTable['output_type'] = 'display_data';\n",
              "          await google.colab.output.renderOutput(dataTable, element);\n",
              "          const docLink = document.createElement('div');\n",
              "          docLink.innerHTML = docLinkHtml;\n",
              "          element.appendChild(docLink);\n",
              "        }\n",
              "      </script>\n",
              "    </div>\n",
              "  </div>\n",
              "  "
            ]
          },
          "metadata": {},
          "execution_count": 2168
        }
      ]
    },
    {
      "cell_type": "code",
      "source": [
        "train_model(df,'price')"
      ],
      "metadata": {
        "colab": {
          "base_uri": "https://localhost:8080/"
        },
        "id": "dgTBNYCLBJvd",
        "outputId": "4b64faf7-fc85-495c-bfb0-b524111cb0e8"
      },
      "execution_count": 2169,
      "outputs": [
        {
          "output_type": "execute_result",
          "data": {
            "text/plain": [
              "0.4684731221996614"
            ]
          },
          "metadata": {},
          "execution_count": 2169
        }
      ]
    },
    {
      "cell_type": "code",
      "source": [
        ""
      ],
      "metadata": {
        "id": "3AknALMlBN8r"
      },
      "execution_count": null,
      "outputs": []
    }
  ]
}